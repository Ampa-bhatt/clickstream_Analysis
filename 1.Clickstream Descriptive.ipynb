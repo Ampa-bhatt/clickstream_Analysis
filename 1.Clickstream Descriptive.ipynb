{
 "cells": [
  {
   "cell_type": "markdown",
   "id": "25a07454-f1d5-41dd-b75b-f240a788bc34",
   "metadata": {},
   "source": [
    "# Clickstream Analysis "
   ]
  },
  {
   "cell_type": "markdown",
   "id": "cfffd7bb-6b30-4345-a7bc-29ebc5411f19",
   "metadata": {
    "jp-MarkdownHeadingCollapsed": true
   },
   "source": [
    "## Importing Libraries"
   ]
  },
  {
   "cell_type": "code",
   "execution_count": 15,
   "id": "a701abbd-be67-4594-9e2b-148d5b52d9e0",
   "metadata": {},
   "outputs": [
    {
     "name": "stdout",
     "output_type": "stream",
     "text": [
      "Requirement already satisfied: pandas-profiling in c:\\users\\saptarshi bhattachar\\appdata\\local\\programs\\python\\python310\\lib\\site-packages (3.6.6)\n",
      "Requirement already satisfied: ydata-profiling in c:\\users\\saptarshi bhattachar\\appdata\\local\\programs\\python\\python310\\lib\\site-packages (from pandas-profiling) (4.5.1)\n",
      "Requirement already satisfied: scipy<1.12,>=1.4.1 in c:\\users\\saptarshi bhattachar\\appdata\\local\\programs\\python\\python310\\lib\\site-packages (from ydata-profiling->pandas-profiling) (1.11.3)\n",
      "Requirement already satisfied: pandas!=1.4.0,<2.1,>1.1 in c:\\users\\saptarshi bhattachar\\appdata\\local\\programs\\python\\python310\\lib\\site-packages (from ydata-profiling->pandas-profiling) (1.5.3)\n",
      "Requirement already satisfied: matplotlib<4,>=3.2 in c:\\users\\saptarshi bhattachar\\appdata\\local\\programs\\python\\python310\\lib\\site-packages (from ydata-profiling->pandas-profiling) (3.7.2)\n",
      "Requirement already satisfied: pydantic<2,>=1.8.1 in c:\\users\\saptarshi bhattachar\\appdata\\local\\programs\\python\\python310\\lib\\site-packages (from ydata-profiling->pandas-profiling) (1.10.13)\n",
      "Requirement already satisfied: PyYAML<6.1,>=5.0.0 in c:\\users\\saptarshi bhattachar\\appdata\\local\\programs\\python\\python310\\lib\\site-packages (from ydata-profiling->pandas-profiling) (6.0.1)\n",
      "Requirement already satisfied: jinja2<3.2,>=2.11.1 in c:\\users\\saptarshi bhattachar\\appdata\\local\\programs\\python\\python310\\lib\\site-packages (from ydata-profiling->pandas-profiling) (3.1.2)\n",
      "Requirement already satisfied: visions[type_image_path]==0.7.5 in c:\\users\\saptarshi bhattachar\\appdata\\local\\programs\\python\\python310\\lib\\site-packages (from ydata-profiling->pandas-profiling) (0.7.5)\n",
      "Requirement already satisfied: numpy<1.24,>=1.16.0 in c:\\users\\saptarshi bhattachar\\appdata\\local\\programs\\python\\python310\\lib\\site-packages (from ydata-profiling->pandas-profiling) (1.23.5)\n",
      "Requirement already satisfied: htmlmin==0.1.12 in c:\\users\\saptarshi bhattachar\\appdata\\local\\programs\\python\\python310\\lib\\site-packages (from ydata-profiling->pandas-profiling) (0.1.12)\n",
      "Requirement already satisfied: phik<0.13,>=0.11.1 in c:\\users\\saptarshi bhattachar\\appdata\\local\\programs\\python\\python310\\lib\\site-packages (from ydata-profiling->pandas-profiling) (0.12.3)\n",
      "Requirement already satisfied: requests<3,>=2.24.0 in c:\\users\\saptarshi bhattachar\\appdata\\local\\programs\\python\\python310\\lib\\site-packages (from ydata-profiling->pandas-profiling) (2.31.0)\n",
      "Requirement already satisfied: tqdm<5,>=4.48.2 in c:\\users\\saptarshi bhattachar\\appdata\\local\\programs\\python\\python310\\lib\\site-packages (from ydata-profiling->pandas-profiling) (4.66.1)\n",
      "Requirement already satisfied: seaborn<0.13,>=0.10.1 in c:\\users\\saptarshi bhattachar\\appdata\\local\\programs\\python\\python310\\lib\\site-packages (from ydata-profiling->pandas-profiling) (0.12.2)\n",
      "Requirement already satisfied: multimethod<2,>=1.4 in c:\\users\\saptarshi bhattachar\\appdata\\local\\programs\\python\\python310\\lib\\site-packages (from ydata-profiling->pandas-profiling) (1.10)\n",
      "Requirement already satisfied: statsmodels<1,>=0.13.2 in c:\\users\\saptarshi bhattachar\\appdata\\local\\programs\\python\\python310\\lib\\site-packages (from ydata-profiling->pandas-profiling) (0.14.0)\n",
      "Requirement already satisfied: typeguard<3,>=2.13.2 in c:\\users\\saptarshi bhattachar\\appdata\\local\\programs\\python\\python310\\lib\\site-packages (from ydata-profiling->pandas-profiling) (2.13.3)\n",
      "Requirement already satisfied: imagehash==4.3.1 in c:\\users\\saptarshi bhattachar\\appdata\\local\\programs\\python\\python310\\lib\\site-packages (from ydata-profiling->pandas-profiling) (4.3.1)\n",
      "Requirement already satisfied: wordcloud>=1.9.1 in c:\\users\\saptarshi bhattachar\\appdata\\local\\programs\\python\\python310\\lib\\site-packages (from ydata-profiling->pandas-profiling) (1.9.2)\n",
      "Requirement already satisfied: dacite>=1.8 in c:\\users\\saptarshi bhattachar\\appdata\\local\\programs\\python\\python310\\lib\\site-packages (from ydata-profiling->pandas-profiling) (1.8.1)\n",
      "Requirement already satisfied: PyWavelets in c:\\users\\saptarshi bhattachar\\appdata\\local\\programs\\python\\python310\\lib\\site-packages (from imagehash==4.3.1->ydata-profiling->pandas-profiling) (1.4.1)\n",
      "Requirement already satisfied: pillow in c:\\users\\saptarshi bhattachar\\appdata\\local\\programs\\python\\python310\\lib\\site-packages (from imagehash==4.3.1->ydata-profiling->pandas-profiling) (10.0.1)\n",
      "Requirement already satisfied: attrs>=19.3.0 in c:\\users\\saptarshi bhattachar\\appdata\\local\\programs\\python\\python310\\lib\\site-packages (from visions[type_image_path]==0.7.5->ydata-profiling->pandas-profiling) (23.1.0)\n",
      "Requirement already satisfied: networkx>=2.4 in c:\\users\\saptarshi bhattachar\\appdata\\local\\programs\\python\\python310\\lib\\site-packages (from visions[type_image_path]==0.7.5->ydata-profiling->pandas-profiling) (2.8.6)\n",
      "Requirement already satisfied: tangled-up-in-unicode>=0.0.4 in c:\\users\\saptarshi bhattachar\\appdata\\local\\programs\\python\\python310\\lib\\site-packages (from visions[type_image_path]==0.7.5->ydata-profiling->pandas-profiling) (0.2.0)\n",
      "Requirement already satisfied: MarkupSafe>=2.0 in c:\\users\\saptarshi bhattachar\\appdata\\local\\programs\\python\\python310\\lib\\site-packages (from jinja2<3.2,>=2.11.1->ydata-profiling->pandas-profiling) (2.1.3)\n",
      "Requirement already satisfied: contourpy>=1.0.1 in c:\\users\\saptarshi bhattachar\\appdata\\local\\programs\\python\\python310\\lib\\site-packages (from matplotlib<4,>=3.2->ydata-profiling->pandas-profiling) (1.1.1)\n",
      "Requirement already satisfied: cycler>=0.10 in c:\\users\\saptarshi bhattachar\\appdata\\local\\programs\\python\\python310\\lib\\site-packages (from matplotlib<4,>=3.2->ydata-profiling->pandas-profiling) (0.12.0)\n",
      "Requirement already satisfied: fonttools>=4.22.0 in c:\\users\\saptarshi bhattachar\\appdata\\local\\programs\\python\\python310\\lib\\site-packages (from matplotlib<4,>=3.2->ydata-profiling->pandas-profiling) (4.43.0)\n",
      "Requirement already satisfied: kiwisolver>=1.0.1 in c:\\users\\saptarshi bhattachar\\appdata\\local\\programs\\python\\python310\\lib\\site-packages (from matplotlib<4,>=3.2->ydata-profiling->pandas-profiling) (1.4.5)\n",
      "Requirement already satisfied: packaging>=20.0 in c:\\users\\saptarshi bhattachar\\appdata\\local\\programs\\python\\python310\\lib\\site-packages (from matplotlib<4,>=3.2->ydata-profiling->pandas-profiling) (23.2)\n",
      "Requirement already satisfied: pyparsing<3.1,>=2.3.1 in c:\\users\\saptarshi bhattachar\\appdata\\local\\programs\\python\\python310\\lib\\site-packages (from matplotlib<4,>=3.2->ydata-profiling->pandas-profiling) (3.0.9)\n",
      "Requirement already satisfied: python-dateutil>=2.7 in c:\\users\\saptarshi bhattachar\\appdata\\local\\programs\\python\\python310\\lib\\site-packages (from matplotlib<4,>=3.2->ydata-profiling->pandas-profiling) (2.8.2)\n",
      "Requirement already satisfied: pytz>=2020.1 in c:\\users\\saptarshi bhattachar\\appdata\\local\\programs\\python\\python310\\lib\\site-packages (from pandas!=1.4.0,<2.1,>1.1->ydata-profiling->pandas-profiling) (2023.3.post1)\n",
      "Requirement already satisfied: joblib>=0.14.1 in c:\\users\\saptarshi bhattachar\\appdata\\local\\programs\\python\\python310\\lib\\site-packages (from phik<0.13,>=0.11.1->ydata-profiling->pandas-profiling) (1.3.2)\n",
      "Requirement already satisfied: typing-extensions>=4.2.0 in c:\\users\\saptarshi bhattachar\\appdata\\local\\programs\\python\\python310\\lib\\site-packages (from pydantic<2,>=1.8.1->ydata-profiling->pandas-profiling) (4.8.0)\n",
      "Requirement already satisfied: charset-normalizer<4,>=2 in c:\\users\\saptarshi bhattachar\\appdata\\local\\programs\\python\\python310\\lib\\site-packages (from requests<3,>=2.24.0->ydata-profiling->pandas-profiling) (3.3.0)\n",
      "Requirement already satisfied: idna<4,>=2.5 in c:\\users\\saptarshi bhattachar\\appdata\\local\\programs\\python\\python310\\lib\\site-packages (from requests<3,>=2.24.0->ydata-profiling->pandas-profiling) (3.4)\n",
      "Requirement already satisfied: urllib3<3,>=1.21.1 in c:\\users\\saptarshi bhattachar\\appdata\\local\\programs\\python\\python310\\lib\\site-packages (from requests<3,>=2.24.0->ydata-profiling->pandas-profiling) (2.0.6)\n",
      "Requirement already satisfied: certifi>=2017.4.17 in c:\\users\\saptarshi bhattachar\\appdata\\local\\programs\\python\\python310\\lib\\site-packages (from requests<3,>=2.24.0->ydata-profiling->pandas-profiling) (2023.7.22)\n",
      "Requirement already satisfied: patsy>=0.5.2 in c:\\users\\saptarshi bhattachar\\appdata\\local\\programs\\python\\python310\\lib\\site-packages (from statsmodels<1,>=0.13.2->ydata-profiling->pandas-profiling) (0.5.3)\n",
      "Requirement already satisfied: colorama in c:\\users\\saptarshi bhattachar\\appdata\\local\\programs\\python\\python310\\lib\\site-packages (from tqdm<5,>=4.48.2->ydata-profiling->pandas-profiling) (0.4.6)\n",
      "Requirement already satisfied: six in c:\\users\\saptarshi bhattachar\\appdata\\local\\programs\\python\\python310\\lib\\site-packages (from patsy>=0.5.2->statsmodels<1,>=0.13.2->ydata-profiling->pandas-profiling) (1.16.0)\n",
      "Note: you may need to restart the kernel to use updated packages.\n"
     ]
    },
    {
     "name": "stderr",
     "output_type": "stream",
     "text": [
      "\n",
      "[notice] A new release of pip is available: 23.2.1 -> 23.3.1\n",
      "[notice] To update, run: python.exe -m pip install --upgrade pip\n"
     ]
    }
   ],
   "source": [
    "! pip install pandas-profiling"
   ]
  },
  {
   "cell_type": "code",
   "execution_count": 16,
   "id": "64757ea4-7476-4782-9841-27d8326ed60e",
   "metadata": {},
   "outputs": [
    {
     "name": "stdout",
     "output_type": "stream",
     "text": [
      "Requirement already satisfied: python-Levenshtein in c:\\users\\saptarshi bhattachar\\appdata\\local\\programs\\python\\python310\\lib\\site-packages (0.23.0)\n",
      "Requirement already satisfied: Levenshtein==0.23.0 in c:\\users\\saptarshi bhattachar\\appdata\\local\\programs\\python\\python310\\lib\\site-packages (from python-Levenshtein) (0.23.0)\n",
      "Requirement already satisfied: rapidfuzz<4.0.0,>=3.1.0 in c:\\users\\saptarshi bhattachar\\appdata\\local\\programs\\python\\python310\\lib\\site-packages (from Levenshtein==0.23.0->python-Levenshtein) (3.3.1)\n",
      "Note: you may need to restart the kernel to use updated packages.\n"
     ]
    },
    {
     "name": "stderr",
     "output_type": "stream",
     "text": [
      "\n",
      "[notice] A new release of pip is available: 23.2.1 -> 23.3.1\n",
      "[notice] To update, run: python.exe -m pip install --upgrade pip\n"
     ]
    }
   ],
   "source": [
    "! pip install python-Levenshtein"
   ]
  },
  {
   "cell_type": "code",
   "execution_count": 17,
   "id": "4cd8a706-6dfe-497f-bd06-7d8b3cef20a1",
   "metadata": {},
   "outputs": [],
   "source": [
    "import pandas as pd                                                   #Used for data manipulation and analysis.\n",
    "import numpy as np                                                    #Used for mathematical and statistical operations on arrays of data.\n",
    "import seaborn as sns                                                 #Built on top of Matplotlib, seaborn is used for data visualization.\n",
    "import matplotlib.pyplot as plt                                       #For creating interactive visualizations in Python.\n",
    "import ipywidgets as widgets\n",
    "from pandas_profiling import ProfileReport"
   ]
  },
  {
   "cell_type": "code",
   "execution_count": 18,
   "id": "6aba6af4-0674-46ab-a8aa-3748f45d4369",
   "metadata": {},
   "outputs": [],
   "source": [
    "from IPython.display import HTML                                      #Allows to display HTML content in Jupyter Notebooks.\n",
    "import time                                                           #Provides time-related functions and utilities\n",
    "from datetime import datetime                                         #Used for working with dates and times.\n",
    "from sklearn.preprocessing import LabelEncoder, StandardScaler        #used for encoding categorical variables into numerical values./used for feature scaling (standardization)\n",
    "from sklearn.model_selection import train_test_split"
   ]
  },
  {
   "cell_type": "code",
   "execution_count": 19,
   "id": "b463b666-4931-469c-bd57-d3e2e3e518a3",
   "metadata": {},
   "outputs": [],
   "source": [
    "import tensorflow as tf\n",
    "from keras.models import Sequential\n",
    "from tensorflow.keras.models import Model                             #employed for building and training deep learning models\n",
    "from sklearn.model_selection import train_test_split\n",
    "from tensorflow.keras.layers import Input, Embedding, LSTM, Dense, Dropout   #A fully connected layer, often used for classification or regression tasks.\n",
    "from keras.optimizers import Adam\n",
    "from keras.callbacks import EarlyStopping\n",
    "\n",
    "from tensorflow import keras\n",
    "from sklearn.metrics import classification_report\n",
    "from keras.preprocessing.sequence import pad_sequences"
   ]
  },
  {
   "cell_type": "markdown",
   "id": "444678ed-3f4b-4034-9942-e46b17f71142",
   "metadata": {},
   "source": [
    "##### TensorFlow allows to create dataflow graphs that describe how data moves through a graph.The graph consists of nodes that represent a mathematical operation. ####"
   ]
  },
  {
   "cell_type": "markdown",
   "id": "f1b74239-0026-488f-a1db-9b72b30b62b3",
   "metadata": {},
   "source": [
    "## Importing Dataset"
   ]
  },
  {
   "cell_type": "code",
   "execution_count": 20,
   "id": "f8c090ae-93a2-4c30-a198-a689ef56a314",
   "metadata": {
    "editable": true,
    "slideshow": {
     "slide_type": ""
    },
    "tags": []
   },
   "outputs": [
    {
     "data": {
      "text/html": [
       "<div>\n",
       "<style scoped>\n",
       "    .dataframe tbody tr th:only-of-type {\n",
       "        vertical-align: middle;\n",
       "    }\n",
       "\n",
       "    .dataframe tbody tr th {\n",
       "        vertical-align: top;\n",
       "    }\n",
       "\n",
       "    .dataframe thead th {\n",
       "        text-align: right;\n",
       "    }\n",
       "</style>\n",
       "<table border=\"1\" class=\"dataframe\">\n",
       "  <thead>\n",
       "    <tr style=\"text-align: right;\">\n",
       "      <th></th>\n",
       "      <th>client</th>\n",
       "      <th>userid</th>\n",
       "      <th>datetime</th>\n",
       "      <th>method</th>\n",
       "      <th>request</th>\n",
       "      <th>status</th>\n",
       "      <th>size</th>\n",
       "      <th>referer</th>\n",
       "      <th>user_agent</th>\n",
       "    </tr>\n",
       "  </thead>\n",
       "  <tbody>\n",
       "    <tr>\n",
       "      <th>6252</th>\n",
       "      <td>31.59.209.196</td>\n",
       "      <td>-</td>\n",
       "      <td>22/Jan/2019:12:40:35 +0330</td>\n",
       "      <td>GET</td>\n",
       "      <td>/image/34206?name=om7560-77.jpg&amp;wh=max</td>\n",
       "      <td>200</td>\n",
       "      <td>39337</td>\n",
       "      <td>https://www.zanbil.ir/m/product/34206/65185/%D...</td>\n",
       "      <td>Mozilla/5.0 (Linux; Android 7.0; SAMSUNG SM-N9...</td>\n",
       "    </tr>\n",
       "    <tr>\n",
       "      <th>4684</th>\n",
       "      <td>109.162.200.153</td>\n",
       "      <td>-</td>\n",
       "      <td>22/Jan/2019:12:40:01 +0330</td>\n",
       "      <td>GET</td>\n",
       "      <td>/image/5/productType/240x180</td>\n",
       "      <td>200</td>\n",
       "      <td>11487</td>\n",
       "      <td>https://www.zanbil.ir/m/browse/big-kitchen-app...</td>\n",
       "      <td>Mozilla/5.0 (Linux; U; Android 4.2.2; fa-ir; H...</td>\n",
       "    </tr>\n",
       "  </tbody>\n",
       "</table>\n",
       "</div>"
      ],
      "text/plain": [
       "               client userid                    datetime method  \\\n",
       "6252    31.59.209.196      -  22/Jan/2019:12:40:35 +0330    GET   \n",
       "4684  109.162.200.153      -  22/Jan/2019:12:40:01 +0330    GET   \n",
       "\n",
       "                                     request  status   size  \\\n",
       "6252  /image/34206?name=om7560-77.jpg&wh=max     200  39337   \n",
       "4684            /image/5/productType/240x180     200  11487   \n",
       "\n",
       "                                                referer  \\\n",
       "6252  https://www.zanbil.ir/m/product/34206/65185/%D...   \n",
       "4684  https://www.zanbil.ir/m/browse/big-kitchen-app...   \n",
       "\n",
       "                                             user_agent  \n",
       "6252  Mozilla/5.0 (Linux; Android 7.0; SAMSUNG SM-N9...  \n",
       "4684  Mozilla/5.0 (Linux; U; Android 4.2.2; fa-ir; H...  "
      ]
     },
     "execution_count": 20,
     "metadata": {},
     "output_type": "execute_result"
    }
   ],
   "source": [
    "num_rows = 10000\n",
    "original_df = pd.read_csv(\"C:\\\\Users\\\\SAPTARSHI BHATTACHAR\\\\Desktop\\\\access.csv\", nrows=num_rows)\n",
    "original_df = original_df.sample(frac=1, random_state=42)\n",
    "original_df.head(2)"
   ]
  },
  {
   "cell_type": "code",
   "execution_count": 21,
   "id": "8e75b027-1cb7-4449-b974-c72b55a5e712",
   "metadata": {
    "editable": true,
    "slideshow": {
     "slide_type": ""
    },
    "tags": []
   },
   "outputs": [],
   "source": [
    "original_df = original_df.drop(columns=['userid'])"
   ]
  },
  {
   "cell_type": "code",
   "execution_count": 22,
   "id": "771f31a3-f1a0-4f53-8bc6-c6ac262a30c3",
   "metadata": {
    "editable": true,
    "slideshow": {
     "slide_type": ""
    },
    "tags": []
   },
   "outputs": [],
   "source": [
    "original_df = original_df[~original_df['request'].str.contains('\\.css|\\.js')]"
   ]
  },
  {
   "cell_type": "code",
   "execution_count": 23,
   "id": "263af2a2-d5b6-4489-bad5-067653db1374",
   "metadata": {},
   "outputs": [],
   "source": [
    "# Drop rows where either 'request' or 'referer' column has the value '/'\n",
    "original_df = original_df[(original_df['request'] != '/')] #& (original_df['referer'] != '/')]\n",
    "# Drop rows where either 'request' or 'referer' column has the value '/'\n",
    "original_df = original_df[(original_df['request'] != '-')] #& (original_df['referer'] != '-')]"
   ]
  },
  {
   "cell_type": "raw",
   "id": "341e40eb-f893-4ba6-b4f9-29807e73e730",
   "metadata": {},
   "source": [
    "original_df[\"datetime\"] = original_df[\"datetime\"].str.replace(\":\", \" \")"
   ]
  },
  {
   "cell_type": "code",
   "execution_count": 24,
   "id": "d6938143-d0e2-4920-bdc1-7baf61a83670",
   "metadata": {},
   "outputs": [],
   "source": [
    "original_df[\"datetime\"] = pd.to_datetime(original_df[\"datetime\"], format=\"%d/%b/%Y:%H:%M:%S %z\", errors='coerce')"
   ]
  },
  {
   "cell_type": "code",
   "execution_count": 25,
   "id": "7118545b-11d7-4097-8383-1fae29b626b8",
   "metadata": {},
   "outputs": [],
   "source": [
    "original_df[\"datetime\"] = original_df[\"datetime\"].dt.strftime(\"%d/%b/%Y:%H:%M:%S\")"
   ]
  },
  {
   "cell_type": "code",
   "execution_count": 26,
   "id": "f0508bbb-6788-4c1d-9815-0bd8f1b2dbdb",
   "metadata": {},
   "outputs": [],
   "source": [
    "original_df = original_df.dropna(subset=[\"referer\"])\n",
    "original_df = original_df.dropna(subset=[\"user_agent\"])            #dropping rows which have null values"
   ]
  },
  {
   "cell_type": "code",
   "execution_count": 27,
   "id": "63f46d0d-17b3-4e9b-9d14-8ece7084b025",
   "metadata": {},
   "outputs": [
    {
     "data": {
      "text/html": [
       "<div>\n",
       "<style scoped>\n",
       "    .dataframe tbody tr th:only-of-type {\n",
       "        vertical-align: middle;\n",
       "    }\n",
       "\n",
       "    .dataframe tbody tr th {\n",
       "        vertical-align: top;\n",
       "    }\n",
       "\n",
       "    .dataframe thead th {\n",
       "        text-align: right;\n",
       "    }\n",
       "</style>\n",
       "<table border=\"1\" class=\"dataframe\">\n",
       "  <thead>\n",
       "    <tr style=\"text-align: right;\">\n",
       "      <th></th>\n",
       "      <th>client</th>\n",
       "      <th>datetime</th>\n",
       "      <th>method</th>\n",
       "      <th>request</th>\n",
       "      <th>status</th>\n",
       "      <th>size</th>\n",
       "      <th>referer</th>\n",
       "      <th>user_agent</th>\n",
       "    </tr>\n",
       "  </thead>\n",
       "  <tbody>\n",
       "    <tr>\n",
       "      <th>262</th>\n",
       "      <td>10.65.253.5</td>\n",
       "      <td>2019-01-22 12:38:33</td>\n",
       "      <td>GET</td>\n",
       "      <td>/static/images/favicon.ico</td>\n",
       "      <td>200</td>\n",
       "      <td>152</td>\n",
       "      <td>-</td>\n",
       "      <td>Mozilla/5.0 (Windows NT 6.3; Win64; x64; Tride...</td>\n",
       "    </tr>\n",
       "    <tr>\n",
       "      <th>6238</th>\n",
       "      <td>104.194.24.237</td>\n",
       "      <td>2019-01-22 12:40:34</td>\n",
       "      <td>POST</td>\n",
       "      <td>/order/onlinePayment</td>\n",
       "      <td>200</td>\n",
       "      <td>33390</td>\n",
       "      <td>https://www.zanbil.ir/order/completionAndRemai...</td>\n",
       "      <td>Mozilla/5.0 (Windows NT 10.0; rv:64.0) Gecko/2...</td>\n",
       "    </tr>\n",
       "  </tbody>\n",
       "</table>\n",
       "</div>"
      ],
      "text/plain": [
       "              client            datetime method                     request  \\\n",
       "262      10.65.253.5 2019-01-22 12:38:33    GET  /static/images/favicon.ico   \n",
       "6238  104.194.24.237 2019-01-22 12:40:34   POST        /order/onlinePayment   \n",
       "\n",
       "      status   size                                            referer  \\\n",
       "262      200    152                                                  -   \n",
       "6238     200  33390  https://www.zanbil.ir/order/completionAndRemai...   \n",
       "\n",
       "                                             user_agent  \n",
       "262   Mozilla/5.0 (Windows NT 6.3; Win64; x64; Tride...  \n",
       "6238  Mozilla/5.0 (Windows NT 10.0; rv:64.0) Gecko/2...  "
      ]
     },
     "execution_count": 27,
     "metadata": {},
     "output_type": "execute_result"
    }
   ],
   "source": [
    "original_df[\"datetime\"] = pd.to_datetime(original_df[\"datetime\"], format=\"%d/%b/%Y:%H:%M:%S\")\n",
    "# Sort the DataFrame by client(IP address) and datetime\n",
    "original_df = original_df.sort_values(by=[\"client\", \"datetime\"])\n",
    "original_df.head(2)"
   ]
  },
  {
   "cell_type": "code",
   "execution_count": 28,
   "id": "2eff5acb-cb42-457c-a96e-12e13854bf9b",
   "metadata": {},
   "outputs": [
    {
     "data": {
      "text/plain": [
       "(9617, 8)"
      ]
     },
     "execution_count": 28,
     "metadata": {},
     "output_type": "execute_result"
    }
   ],
   "source": [
    "original_df.shape"
   ]
  },
  {
   "cell_type": "markdown",
   "id": "5f9f54ef-0e96-4445-be7d-0b0690874575",
   "metadata": {},
   "source": [
    "## Breaking Sessions ##"
   ]
  },
  {
   "cell_type": "code",
   "execution_count": 29,
   "id": "5be5adc5-5e59-451e-9268-81ad2748466d",
   "metadata": {},
   "outputs": [
    {
     "data": {
      "text/html": [
       "<a href=\"https://learn.microsoft.com/en-us/previous-versions/iis/6.0-sdk/ms525473(v=vs.90)\">Link to Microsoft Session Timeout.</a>"
      ],
      "text/plain": [
       "<IPython.core.display.HTML object>"
      ]
     },
     "metadata": {},
     "output_type": "display_data"
    }
   ],
   "source": [
    "link_html = \"\"\"<a href=\"https://learn.microsoft.com/en-us/previous-versions/iis/6.0-sdk/ms525473(v=vs.90)\">Link to Microsoft Session Timeout.</a>\"\"\"\n",
    "display(HTML(link_html))"
   ]
  },
  {
   "cell_type": "markdown",
   "id": "b7676008-4135-4d2d-9639-8a1a8c6a97c8",
   "metadata": {},
   "source": [
    "**It is recommended to set the session timeout to 10 minutes. This is a standard default setting that works well for most websites. That's why I chose the threshold to be 10 minutes.**"
   ]
  },
  {
   "cell_type": "code",
   "execution_count": 30,
   "id": "21c472f9-a16f-4083-9fd0-200ae97be7b7",
   "metadata": {},
   "outputs": [],
   "source": [
    "# Calculate the time difference for each row within the same client group\n",
    "original_df['time_diff'] = original_df.groupby(\"client\")['datetime'].diff().fillna(pd.Timedelta(0))\n",
    "\n",
    "# Create a boolean mask for when the time difference is greater than 600 seconds\n",
    "mask = original_df['time_diff'].dt.total_seconds() > 600\n",
    "\n",
    "# Calculate the session count for each client based on the mask and cumulative sum\n",
    "original_df['session'] = mask.groupby(original_df['client']).cumsum() + 1"
   ]
  },
  {
   "cell_type": "markdown",
   "id": "fd101746-ba22-47d0-ad68-51f74df3d01a",
   "metadata": {},
   "source": [
    "## Creating clicks for every user_id session wise ##"
   ]
  },
  {
   "cell_type": "code",
   "execution_count": 31,
   "id": "19a99417-290b-4e72-b2b0-0ab848797361",
   "metadata": {},
   "outputs": [],
   "source": [
    "original_df = original_df.sort_values(by=['client','session'])\n",
    "\n",
    "# Group by 'user_id' and 'session', then get the cumulative count\n",
    "original_df['clicks'] = original_df.groupby(['client', 'session']).cumcount() + 1"
   ]
  },
  {
   "cell_type": "markdown",
   "id": "7e41c854-46e9-4fb7-a686-ae5964bcac6b",
   "metadata": {},
   "source": [
    "**=====================================**"
   ]
  },
  {
   "cell_type": "markdown",
   "id": "3e44b151-3c15-408d-8db2-452073194eea",
   "metadata": {},
   "source": [
    "## Creating page_id variable ##"
   ]
  },
  {
   "cell_type": "code",
   "execution_count": 32,
   "id": "b832e3a9-db90-429e-8893-66245bf9990f",
   "metadata": {
    "editable": true,
    "slideshow": {
     "slide_type": ""
    },
    "tags": []
   },
   "outputs": [
    {
     "data": {
      "text/html": [
       "<div>\n",
       "<style scoped>\n",
       "    .dataframe tbody tr th:only-of-type {\n",
       "        vertical-align: middle;\n",
       "    }\n",
       "\n",
       "    .dataframe tbody tr th {\n",
       "        vertical-align: top;\n",
       "    }\n",
       "\n",
       "    .dataframe thead th {\n",
       "        text-align: right;\n",
       "    }\n",
       "</style>\n",
       "<table border=\"1\" class=\"dataframe\">\n",
       "  <thead>\n",
       "    <tr style=\"text-align: right;\">\n",
       "      <th></th>\n",
       "      <th>client</th>\n",
       "      <th>datetime</th>\n",
       "      <th>method</th>\n",
       "      <th>request</th>\n",
       "      <th>status</th>\n",
       "      <th>size</th>\n",
       "      <th>referer</th>\n",
       "      <th>user_agent</th>\n",
       "      <th>time_diff</th>\n",
       "      <th>session</th>\n",
       "      <th>clicks</th>\n",
       "      <th>page_id</th>\n",
       "    </tr>\n",
       "  </thead>\n",
       "  <tbody>\n",
       "    <tr>\n",
       "      <th>262</th>\n",
       "      <td>10.65.253.5</td>\n",
       "      <td>2019-01-22 12:38:33</td>\n",
       "      <td>GET</td>\n",
       "      <td>/static/images/favicon.ico</td>\n",
       "      <td>200</td>\n",
       "      <td>152</td>\n",
       "      <td>-</td>\n",
       "      <td>Mozilla/5.0 (Windows NT 6.3; Win64; x64; Tride...</td>\n",
       "      <td>0 days</td>\n",
       "      <td>1</td>\n",
       "      <td>1</td>\n",
       "      <td>4623</td>\n",
       "    </tr>\n",
       "    <tr>\n",
       "      <th>6238</th>\n",
       "      <td>104.194.24.237</td>\n",
       "      <td>2019-01-22 12:40:34</td>\n",
       "      <td>POST</td>\n",
       "      <td>/order/onlinePayment</td>\n",
       "      <td>200</td>\n",
       "      <td>33390</td>\n",
       "      <td>https://www.zanbil.ir/order/completionAndRemai...</td>\n",
       "      <td>Mozilla/5.0 (Windows NT 10.0; rv:64.0) Gecko/2...</td>\n",
       "      <td>0 days</td>\n",
       "      <td>1</td>\n",
       "      <td>1</td>\n",
       "      <td>4142</td>\n",
       "    </tr>\n",
       "  </tbody>\n",
       "</table>\n",
       "</div>"
      ],
      "text/plain": [
       "              client            datetime method                     request  \\\n",
       "262      10.65.253.5 2019-01-22 12:38:33    GET  /static/images/favicon.ico   \n",
       "6238  104.194.24.237 2019-01-22 12:40:34   POST        /order/onlinePayment   \n",
       "\n",
       "      status   size                                            referer  \\\n",
       "262      200    152                                                  -   \n",
       "6238     200  33390  https://www.zanbil.ir/order/completionAndRemai...   \n",
       "\n",
       "                                             user_agent time_diff  session  \\\n",
       "262   Mozilla/5.0 (Windows NT 6.3; Win64; x64; Tride...    0 days        1   \n",
       "6238  Mozilla/5.0 (Windows NT 10.0; rv:64.0) Gecko/2...    0 days        1   \n",
       "\n",
       "      clicks page_id  \n",
       "262        1    4623  \n",
       "6238       1    4142  "
      ]
     },
     "execution_count": 32,
     "metadata": {},
     "output_type": "execute_result"
    }
   ],
   "source": [
    "from sklearn.preprocessing import LabelEncoder\n",
    "\n",
    "# Create a LabelEncoder object\n",
    "label_encoder = LabelEncoder()\n",
    "\n",
    "# Fit the encoder on the data and transform the variable\n",
    "original_df['page_id'] = label_encoder.fit_transform(original_df['request'])\n",
    "original_df['page_id']=original_df['page_id'].astype('category')\n",
    "# To inverse transform back to original labels\n",
    "#decoded_data = label_encoder.inverse_transform(encoded_data)\n",
    "original_df.head(2)"
   ]
  },
  {
   "cell_type": "code",
   "execution_count": 33,
   "id": "dacf9f91-73d2-4a8a-96df-6d9cf6abcdb0",
   "metadata": {},
   "outputs": [
    {
     "data": {
      "text/plain": [
       "4667"
      ]
     },
     "execution_count": 33,
     "metadata": {},
     "output_type": "execute_result"
    }
   ],
   "source": [
    "unique_encoded_values = original_df['page_id'].nunique()\n",
    "unique_encoded_values"
   ]
  },
  {
   "cell_type": "markdown",
   "id": "c80cd9fa-f0ec-44e9-8053-3aede45e502e",
   "metadata": {},
   "source": [
    "### Avg Page visits based on the dataset dimension used ###"
   ]
  },
  {
   "cell_type": "code",
   "execution_count": 34,
   "id": "e102e594-36d2-42df-b077-9b10a368568b",
   "metadata": {},
   "outputs": [
    {
     "name": "stdout",
     "output_type": "stream",
     "text": [
      "Avg Page visits based on the dataset dimension used :  2.0606385258195843\n",
      "Dataset used :  (9617, 12)\n"
     ]
    }
   ],
   "source": [
    "page_visits = original_df['page_id'].value_counts().mean()\n",
    "print('Avg Page visits based on the dataset dimension used : ',page_visits)\n",
    "nrows = original_df.shape\n",
    "print('Dataset used : ',nrows)"
   ]
  },
  {
   "cell_type": "code",
   "execution_count": 35,
   "id": "fb170235-30e0-4b0a-8ec6-94bfbb903d6c",
   "metadata": {},
   "outputs": [
    {
     "data": {
      "text/html": [
       "<div>\n",
       "<style scoped>\n",
       "    .dataframe tbody tr th:only-of-type {\n",
       "        vertical-align: middle;\n",
       "    }\n",
       "\n",
       "    .dataframe tbody tr th {\n",
       "        vertical-align: top;\n",
       "    }\n",
       "\n",
       "    .dataframe thead th {\n",
       "        text-align: right;\n",
       "    }\n",
       "</style>\n",
       "<table border=\"1\" class=\"dataframe\">\n",
       "  <thead>\n",
       "    <tr style=\"text-align: right;\">\n",
       "      <th></th>\n",
       "      <th>client</th>\n",
       "      <th>datetime</th>\n",
       "      <th>method</th>\n",
       "      <th>request</th>\n",
       "      <th>status</th>\n",
       "      <th>size</th>\n",
       "      <th>referer</th>\n",
       "      <th>user_agent</th>\n",
       "      <th>time_diff</th>\n",
       "      <th>session</th>\n",
       "      <th>clicks</th>\n",
       "      <th>page_id</th>\n",
       "    </tr>\n",
       "  </thead>\n",
       "  <tbody>\n",
       "    <tr>\n",
       "      <th>262</th>\n",
       "      <td>10.65.253.5</td>\n",
       "      <td>2019-01-22 12:38:33</td>\n",
       "      <td>GET</td>\n",
       "      <td>/static/images/favicon.ico</td>\n",
       "      <td>200</td>\n",
       "      <td>152</td>\n",
       "      <td>-</td>\n",
       "      <td>Mozilla/5.0 (Windows NT 6.3; Win64; x64; Tride...</td>\n",
       "      <td>0 days</td>\n",
       "      <td>1</td>\n",
       "      <td>1</td>\n",
       "      <td>4623</td>\n",
       "    </tr>\n",
       "    <tr>\n",
       "      <th>6238</th>\n",
       "      <td>104.194.24.237</td>\n",
       "      <td>2019-01-22 12:40:34</td>\n",
       "      <td>POST</td>\n",
       "      <td>/order/onlinePayment</td>\n",
       "      <td>200</td>\n",
       "      <td>33390</td>\n",
       "      <td>https://www.zanbil.ir/order/completionAndRemai...</td>\n",
       "      <td>Mozilla/5.0 (Windows NT 10.0; rv:64.0) Gecko/2...</td>\n",
       "      <td>0 days</td>\n",
       "      <td>1</td>\n",
       "      <td>1</td>\n",
       "      <td>4142</td>\n",
       "    </tr>\n",
       "  </tbody>\n",
       "</table>\n",
       "</div>"
      ],
      "text/plain": [
       "              client            datetime method                     request  \\\n",
       "262      10.65.253.5 2019-01-22 12:38:33    GET  /static/images/favicon.ico   \n",
       "6238  104.194.24.237 2019-01-22 12:40:34   POST        /order/onlinePayment   \n",
       "\n",
       "      status   size                                            referer  \\\n",
       "262      200    152                                                  -   \n",
       "6238     200  33390  https://www.zanbil.ir/order/completionAndRemai...   \n",
       "\n",
       "                                             user_agent time_diff  session  \\\n",
       "262   Mozilla/5.0 (Windows NT 6.3; Win64; x64; Tride...    0 days        1   \n",
       "6238  Mozilla/5.0 (Windows NT 10.0; rv:64.0) Gecko/2...    0 days        1   \n",
       "\n",
       "      clicks page_id  \n",
       "262        1    4623  \n",
       "6238       1    4142  "
      ]
     },
     "execution_count": 35,
     "metadata": {},
     "output_type": "execute_result"
    }
   ],
   "source": [
    "original_df.head(2)"
   ]
  },
  {
   "cell_type": "code",
   "execution_count": 36,
   "id": "d2c6ccf9-3525-4ca7-9d02-62fb9a9b2a6a",
   "metadata": {},
   "outputs": [
    {
     "data": {
      "text/plain": [
       "1.jpg     77\n",
       "11.jpg    73\n",
       "hm34      48\n",
       "dtype: int64"
      ]
     },
     "execution_count": 36,
     "metadata": {},
     "output_type": "execute_result"
    }
   ],
   "source": [
    "df = original_df.copy()\n",
    "# Extract keywords from the 'request' variable\n",
    "df['request_keywords'] = df['request'].str.extract(r'\\?name=([^&]+)')\n",
    "# Split the keywords into a list\n",
    "df['request_keywords'] = df['request_keywords'].str.split('-')\n",
    "# Remove rows with NaN values in the 'request_keywords' column\n",
    "df = df.dropna(subset=['request_keywords'])\n",
    "# Flatten the list of keywords\n",
    "all_keywords = [keyword for sublist in df['request_keywords'] for keyword in sublist]\n",
    "# Create a Pandas Series to count the frequency of each keyword\n",
    "keyword_counts = pd.Series(all_keywords).value_counts()\n",
    "# Get the most frequently used keywords (adjust the number as needed)\n",
    "keyword_counts.head(3)  "
   ]
  },
  {
   "cell_type": "code",
   "execution_count": 37,
   "id": "d4618216-d559-416d-9f33-84b6b2d963b6",
   "metadata": {},
   "outputs": [
    {
     "data": {
      "text/html": [
       "<div>\n",
       "<style scoped>\n",
       "    .dataframe tbody tr th:only-of-type {\n",
       "        vertical-align: middle;\n",
       "    }\n",
       "\n",
       "    .dataframe tbody tr th {\n",
       "        vertical-align: top;\n",
       "    }\n",
       "\n",
       "    .dataframe thead th {\n",
       "        text-align: right;\n",
       "    }\n",
       "</style>\n",
       "<table border=\"1\" class=\"dataframe\">\n",
       "  <thead>\n",
       "    <tr style=\"text-align: right;\">\n",
       "      <th></th>\n",
       "      <th>client</th>\n",
       "      <th>datetime</th>\n",
       "      <th>method</th>\n",
       "      <th>request</th>\n",
       "      <th>status</th>\n",
       "      <th>size</th>\n",
       "      <th>referer</th>\n",
       "      <th>user_agent</th>\n",
       "      <th>time_diff</th>\n",
       "      <th>session</th>\n",
       "      <th>clicks</th>\n",
       "      <th>page_id</th>\n",
       "    </tr>\n",
       "  </thead>\n",
       "  <tbody>\n",
       "    <tr>\n",
       "      <th>6238</th>\n",
       "      <td>104.194.24.237</td>\n",
       "      <td>2019-01-22 12:40:34</td>\n",
       "      <td>POST</td>\n",
       "      <td>/order/onlinePayment</td>\n",
       "      <td>200</td>\n",
       "      <td>33390</td>\n",
       "      <td>https://www.zanbil.ir/order/completionAndRemai...</td>\n",
       "      <td>Mozilla/5.0 (Windows NT 10.0; rv:64.0) Gecko/2...</td>\n",
       "      <td>0 days</td>\n",
       "      <td>1</td>\n",
       "      <td>1</td>\n",
       "      <td>4142</td>\n",
       "    </tr>\n",
       "    <tr>\n",
       "      <th>9799</th>\n",
       "      <td>104.194.24.237</td>\n",
       "      <td>2019-01-22 12:41:51</td>\n",
       "      <td>POST</td>\n",
       "      <td>/order/onlinePaymentResultMellat</td>\n",
       "      <td>200</td>\n",
       "      <td>34550</td>\n",
       "      <td>https://bpm.shaparak.ir/pgwchannel/successRece...</td>\n",
       "      <td>Mozilla/5.0 (Windows NT 10.0; rv:64.0) Gecko/2...</td>\n",
       "      <td>0 days</td>\n",
       "      <td>1</td>\n",
       "      <td>6</td>\n",
       "      <td>4144</td>\n",
       "    </tr>\n",
       "  </tbody>\n",
       "</table>\n",
       "</div>"
      ],
      "text/plain": [
       "              client            datetime method  \\\n",
       "6238  104.194.24.237 2019-01-22 12:40:34   POST   \n",
       "9799  104.194.24.237 2019-01-22 12:41:51   POST   \n",
       "\n",
       "                               request  status   size  \\\n",
       "6238              /order/onlinePayment     200  33390   \n",
       "9799  /order/onlinePaymentResultMellat     200  34550   \n",
       "\n",
       "                                                referer  \\\n",
       "6238  https://www.zanbil.ir/order/completionAndRemai...   \n",
       "9799  https://bpm.shaparak.ir/pgwchannel/successRece...   \n",
       "\n",
       "                                             user_agent time_diff  session  \\\n",
       "6238  Mozilla/5.0 (Windows NT 10.0; rv:64.0) Gecko/2...    0 days        1   \n",
       "9799  Mozilla/5.0 (Windows NT 10.0; rv:64.0) Gecko/2...    0 days        1   \n",
       "\n",
       "      clicks page_id  \n",
       "6238       1    4142  \n",
       "9799       6    4144  "
      ]
     },
     "execution_count": 37,
     "metadata": {},
     "output_type": "execute_result"
    }
   ],
   "source": [
    "# Filter rows based on 'keywords' substring in 'referer' or 'request' columns\n",
    "CTA = original_df[(original_df['request'].str.contains('checkout|basket|buy|pay|completion|shipping|card|Order|Payment', case=False, na=False))]\n",
    "# Create the NCTA DataFrame by excluding rows in CTA\n",
    "NCTA = original_df[~original_df.index.isin(CTA.index)]\n",
    "CTA.head(2)"
   ]
  },
  {
   "cell_type": "code",
   "execution_count": 38,
   "id": "2cdc5823-c740-4a5d-9316-91566eb2ccf7",
   "metadata": {},
   "outputs": [
    {
     "name": "stdout",
     "output_type": "stream",
     "text": [
      "Percentage of shape used by CTA compared to Original dataframe: 3.93%\n"
     ]
    }
   ],
   "source": [
    "percentage_used = (CTA.shape[0] / original_df.shape[0]) * 100\n",
    "print(f\"Percentage of shape used by CTA compared to Original dataframe: {percentage_used:.2f}%\")"
   ]
  },
  {
   "cell_type": "markdown",
   "id": "c0e31fcc-ce71-4674-acb6-9019a1ef0544",
   "metadata": {},
   "source": [
    "**Creating dataframe with sequence for CTA and NCTA users**"
   ]
  },
  {
   "cell_type": "code",
   "execution_count": 39,
   "id": "221b0772-06fa-4792-a7f7-0ec4a9aa4704",
   "metadata": {},
   "outputs": [
    {
     "data": {
      "text/html": [
       "<div>\n",
       "<style scoped>\n",
       "    .dataframe tbody tr th:only-of-type {\n",
       "        vertical-align: middle;\n",
       "    }\n",
       "\n",
       "    .dataframe tbody tr th {\n",
       "        vertical-align: top;\n",
       "    }\n",
       "\n",
       "    .dataframe thead th {\n",
       "        text-align: right;\n",
       "    }\n",
       "</style>\n",
       "<table border=\"1\" class=\"dataframe\">\n",
       "  <thead>\n",
       "    <tr style=\"text-align: right;\">\n",
       "      <th></th>\n",
       "      <th>page_id</th>\n",
       "      <th>label</th>\n",
       "    </tr>\n",
       "  </thead>\n",
       "  <tbody>\n",
       "    <tr>\n",
       "      <th>0</th>\n",
       "      <td>[4142, 4144]</td>\n",
       "      <td>1</td>\n",
       "    </tr>\n",
       "    <tr>\n",
       "      <th>1</th>\n",
       "      <td>[55, 66, 58]</td>\n",
       "      <td>1</td>\n",
       "    </tr>\n",
       "  </tbody>\n",
       "</table>\n",
       "</div>"
      ],
      "text/plain": [
       "        page_id  label\n",
       "0  [4142, 4144]      1\n",
       "1  [55, 66, 58]      1"
      ]
     },
     "execution_count": 39,
     "metadata": {},
     "output_type": "execute_result"
    }
   ],
   "source": [
    "CTA_sequences=CTA.groupby('client')['page_id'].apply(np.array)\n",
    "NCTA_sequences=NCTA.groupby('client')['page_id'].apply(np.array)\n",
    "\n",
    "CTA_sequences_df=pd.DataFrame(CTA_sequences)\n",
    "NCTA_sequences_df=pd.DataFrame(NCTA_sequences)\n",
    "\n",
    "# Labeling Sequences\n",
    "# Creating labels for CTA and NCTA sequences\n",
    "CTA_sequences_df = CTA_sequences_df.assign(label=1)\n",
    "NCTA_sequences_df = NCTA_sequences_df.assign(label=0)\n",
    "\n",
    "# Combining CTA_sequences_df and NCTA_sequences_df\n",
    "combined_sequence = pd.concat([CTA_sequences_df, NCTA_sequences_df], ignore_index=True)\n",
    "combined_sequence.head(2)"
   ]
  },
  {
   "cell_type": "code",
   "execution_count": 40,
   "id": "fb4caa1a-96b1-43b5-8313-853b0033ff80",
   "metadata": {},
   "outputs": [
    {
     "data": {
      "text/html": [
       "<div>\n",
       "<style scoped>\n",
       "    .dataframe tbody tr th:only-of-type {\n",
       "        vertical-align: middle;\n",
       "    }\n",
       "\n",
       "    .dataframe tbody tr th {\n",
       "        vertical-align: top;\n",
       "    }\n",
       "\n",
       "    .dataframe thead th {\n",
       "        text-align: right;\n",
       "    }\n",
       "</style>\n",
       "<table border=\"1\" class=\"dataframe\">\n",
       "  <thead>\n",
       "    <tr style=\"text-align: right;\">\n",
       "      <th></th>\n",
       "      <th>page_id</th>\n",
       "      <th>label</th>\n",
       "    </tr>\n",
       "    <tr>\n",
       "      <th>client</th>\n",
       "      <th></th>\n",
       "      <th></th>\n",
       "    </tr>\n",
       "  </thead>\n",
       "  <tbody>\n",
       "    <tr>\n",
       "      <th>10.65.253.5</th>\n",
       "      <td>[4623]</td>\n",
       "      <td>0</td>\n",
       "    </tr>\n",
       "    <tr>\n",
       "      <th>104.194.24.237</th>\n",
       "      <td>[4566, 4634, 4568, 4566, 4568]</td>\n",
       "      <td>0</td>\n",
       "    </tr>\n",
       "    <tr>\n",
       "      <th>104.194.24.43</th>\n",
       "      <td>[143, 4566, 1071, 1070, 2037, 1896, 4077, 4137...</td>\n",
       "      <td>0</td>\n",
       "    </tr>\n",
       "    <tr>\n",
       "      <th>104.248.18.193</th>\n",
       "      <td>[3912, 4566, 4628, 4626, 2715, 3148, 4630, 462...</td>\n",
       "      <td>0</td>\n",
       "    </tr>\n",
       "    <tr>\n",
       "      <th>104.249.46.46</th>\n",
       "      <td>[4274]</td>\n",
       "      <td>0</td>\n",
       "    </tr>\n",
       "    <tr>\n",
       "      <th>...</th>\n",
       "      <td>...</td>\n",
       "      <td>...</td>\n",
       "    </tr>\n",
       "    <tr>\n",
       "      <th>94.183.37.129</th>\n",
       "      <td>[170, 946, 584, 735, 653, 4622, 996, 4566, 106...</td>\n",
       "      <td>0</td>\n",
       "    </tr>\n",
       "    <tr>\n",
       "      <th>94.184.237.187</th>\n",
       "      <td>[1726]</td>\n",
       "      <td>0</td>\n",
       "    </tr>\n",
       "    <tr>\n",
       "      <th>94.74.149.39</th>\n",
       "      <td>[4063, 4063, 4063, 4566, 2410, 2312, 898, 2936...</td>\n",
       "      <td>0</td>\n",
       "    </tr>\n",
       "    <tr>\n",
       "      <th>95.174.64.190</th>\n",
       "      <td>[43]</td>\n",
       "      <td>0</td>\n",
       "    </tr>\n",
       "    <tr>\n",
       "      <th>95.216.95.200</th>\n",
       "      <td>[4232, 4239, 4231]</td>\n",
       "      <td>0</td>\n",
       "    </tr>\n",
       "  </tbody>\n",
       "</table>\n",
       "<p>375 rows × 2 columns</p>\n",
       "</div>"
      ],
      "text/plain": [
       "                                                          page_id  label\n",
       "client                                                                  \n",
       "10.65.253.5                                                [4623]      0\n",
       "104.194.24.237                     [4566, 4634, 4568, 4566, 4568]      0\n",
       "104.194.24.43   [143, 4566, 1071, 1070, 2037, 1896, 4077, 4137...      0\n",
       "104.248.18.193  [3912, 4566, 4628, 4626, 2715, 3148, 4630, 462...      0\n",
       "104.249.46.46                                              [4274]      0\n",
       "...                                                           ...    ...\n",
       "94.183.37.129   [170, 946, 584, 735, 653, 4622, 996, 4566, 106...      0\n",
       "94.184.237.187                                             [1726]      0\n",
       "94.74.149.39    [4063, 4063, 4063, 4566, 2410, 2312, 898, 2936...      0\n",
       "95.174.64.190                                                [43]      0\n",
       "95.216.95.200                                  [4232, 4239, 4231]      0\n",
       "\n",
       "[375 rows x 2 columns]"
      ]
     },
     "execution_count": 40,
     "metadata": {},
     "output_type": "execute_result"
    }
   ],
   "source": [
    "NCTA_sequences_df"
   ]
  },
  {
   "cell_type": "code",
   "execution_count": 41,
   "id": "14068b33-25a8-42e2-a3c0-a88762ccced4",
   "metadata": {},
   "outputs": [
    {
     "data": {
      "text/html": [
       "<div>\n",
       "<style scoped>\n",
       "    .dataframe tbody tr th:only-of-type {\n",
       "        vertical-align: middle;\n",
       "    }\n",
       "\n",
       "    .dataframe tbody tr th {\n",
       "        vertical-align: top;\n",
       "    }\n",
       "\n",
       "    .dataframe thead th {\n",
       "        text-align: right;\n",
       "    }\n",
       "</style>\n",
       "<table border=\"1\" class=\"dataframe\">\n",
       "  <thead>\n",
       "    <tr style=\"text-align: right;\">\n",
       "      <th></th>\n",
       "      <th>page_id</th>\n",
       "      <th>label</th>\n",
       "    </tr>\n",
       "    <tr>\n",
       "      <th>client</th>\n",
       "      <th></th>\n",
       "      <th></th>\n",
       "    </tr>\n",
       "  </thead>\n",
       "  <tbody>\n",
       "    <tr>\n",
       "      <th>104.194.24.237</th>\n",
       "      <td>[4142, 4144]</td>\n",
       "      <td>1</td>\n",
       "    </tr>\n",
       "    <tr>\n",
       "      <th>104.194.24.43</th>\n",
       "      <td>[55, 66, 58]</td>\n",
       "      <td>1</td>\n",
       "    </tr>\n",
       "    <tr>\n",
       "      <th>104.222.32.94</th>\n",
       "      <td>[4505, 4432, 4452, 4490, 4166, 4330, 4511, 440...</td>\n",
       "      <td>1</td>\n",
       "    </tr>\n",
       "    <tr>\n",
       "      <th>128.199.138.35</th>\n",
       "      <td>[134, 58, 58, 58]</td>\n",
       "      <td>1</td>\n",
       "    </tr>\n",
       "    <tr>\n",
       "      <th>134.19.177.18</th>\n",
       "      <td>[4162, 4168, 4520, 4166, 4374, 4156, 4646]</td>\n",
       "      <td>1</td>\n",
       "    </tr>\n",
       "    <tr>\n",
       "      <th>...</th>\n",
       "      <td>...</td>\n",
       "      <td>...</td>\n",
       "    </tr>\n",
       "    <tr>\n",
       "      <th>93.118.108.2</th>\n",
       "      <td>[328, 4611]</td>\n",
       "      <td>1</td>\n",
       "    </tr>\n",
       "    <tr>\n",
       "      <th>93.119.76.133</th>\n",
       "      <td>[328]</td>\n",
       "      <td>1</td>\n",
       "    </tr>\n",
       "    <tr>\n",
       "      <th>94.176.54.17</th>\n",
       "      <td>[4611]</td>\n",
       "      <td>1</td>\n",
       "    </tr>\n",
       "    <tr>\n",
       "      <th>94.183.34.37</th>\n",
       "      <td>[328, 4611]</td>\n",
       "      <td>1</td>\n",
       "    </tr>\n",
       "    <tr>\n",
       "      <th>94.183.37.129</th>\n",
       "      <td>[328]</td>\n",
       "      <td>1</td>\n",
       "    </tr>\n",
       "  </tbody>\n",
       "</table>\n",
       "<p>77 rows × 2 columns</p>\n",
       "</div>"
      ],
      "text/plain": [
       "                                                          page_id  label\n",
       "client                                                                  \n",
       "104.194.24.237                                       [4142, 4144]      1\n",
       "104.194.24.43                                        [55, 66, 58]      1\n",
       "104.222.32.94   [4505, 4432, 4452, 4490, 4166, 4330, 4511, 440...      1\n",
       "128.199.138.35                                  [134, 58, 58, 58]      1\n",
       "134.19.177.18          [4162, 4168, 4520, 4166, 4374, 4156, 4646]      1\n",
       "...                                                           ...    ...\n",
       "93.118.108.2                                          [328, 4611]      1\n",
       "93.119.76.133                                               [328]      1\n",
       "94.176.54.17                                               [4611]      1\n",
       "94.183.34.37                                          [328, 4611]      1\n",
       "94.183.37.129                                               [328]      1\n",
       "\n",
       "[77 rows x 2 columns]"
      ]
     },
     "execution_count": 41,
     "metadata": {},
     "output_type": "execute_result"
    }
   ],
   "source": [
    "CTA_sequences_df"
   ]
  },
  {
   "cell_type": "code",
   "execution_count": 42,
   "id": "049703a7-d9d2-4a48-85b6-49b11ef93f41",
   "metadata": {},
   "outputs": [
    {
     "data": {
      "text/html": [
       "<div>\n",
       "<style scoped>\n",
       "    .dataframe tbody tr th:only-of-type {\n",
       "        vertical-align: middle;\n",
       "    }\n",
       "\n",
       "    .dataframe tbody tr th {\n",
       "        vertical-align: top;\n",
       "    }\n",
       "\n",
       "    .dataframe thead th {\n",
       "        text-align: right;\n",
       "    }\n",
       "</style>\n",
       "<table border=\"1\" class=\"dataframe\">\n",
       "  <thead>\n",
       "    <tr style=\"text-align: right;\">\n",
       "      <th></th>\n",
       "      <th>client</th>\n",
       "      <th>page_id</th>\n",
       "      <th>label</th>\n",
       "    </tr>\n",
       "  </thead>\n",
       "  <tbody>\n",
       "    <tr>\n",
       "      <th>0</th>\n",
       "      <td>104.194.24.237</td>\n",
       "      <td>[4142, 4144]</td>\n",
       "      <td>1</td>\n",
       "    </tr>\n",
       "    <tr>\n",
       "      <th>1</th>\n",
       "      <td>104.194.24.43</td>\n",
       "      <td>[55, 66, 58]</td>\n",
       "      <td>1</td>\n",
       "    </tr>\n",
       "  </tbody>\n",
       "</table>\n",
       "</div>"
      ],
      "text/plain": [
       "           client       page_id  label\n",
       "0  104.194.24.237  [4142, 4144]      1\n",
       "1   104.194.24.43  [55, 66, 58]      1"
      ]
     },
     "execution_count": 42,
     "metadata": {},
     "output_type": "execute_result"
    }
   ],
   "source": [
    "# Get unique clients for CTA sequences\n",
    "unique_clients_cta = CTA_sequences_df.index.tolist()\n",
    "\n",
    "# Get unique clients for NCTA sequences\n",
    "unique_clients_ncta = NCTA_sequences_df.index.tolist()\n",
    "\n",
    "# Combine unique clients for both CTA and NCTA sequences\n",
    "unique_clients_combined = unique_clients_cta + unique_clients_ncta\n",
    "\n",
    "# Add unique clients to the combined_sequence dataframe\n",
    "combined_sequence['client'] = unique_clients_combined\n",
    "\n",
    "# Reorder the columns if needed\n",
    "combined_sequence = combined_sequence[['client', 'page_id', 'label']]\n",
    "\n",
    "# Display the modified combined_sequence dataframe\n",
    "combined_sequence.head(2)"
   ]
  },
  {
   "cell_type": "code",
   "execution_count": 43,
   "id": "37decbb6-9b1c-4385-9cc5-62c90b537da4",
   "metadata": {},
   "outputs": [],
   "source": [
    "combo_sequence=combined_sequence.copy()"
   ]
  },
  {
   "cell_type": "raw",
   "id": "7d4aaea0-ec11-45fb-8e9e-35874db55d17",
   "metadata": {},
   "source": [
    "combined_sequence = combined_sequence.sample(frac=1, random_state=42).reset_index(drop=True)"
   ]
  },
  {
   "cell_type": "code",
   "execution_count": 44,
   "id": "37f13c38-6955-4ff1-9f5e-039a5e230378",
   "metadata": {},
   "outputs": [],
   "source": [
    "# Creating labels for CTA and NCTA sequences\n",
    "CTA = CTA.assign(label=1)\n",
    "NCTA = NCTA.assign(label=0)\n",
    "\n",
    "# Combining CTA and NCTA dataframes\n",
    "combined_df = pd.concat([CTA, NCTA], ignore_index=True)"
   ]
  },
  {
   "cell_type": "code",
   "execution_count": 45,
   "id": "70c02ee5-2ff7-43a8-bc82-d19c4d4367d0",
   "metadata": {},
   "outputs": [
    {
     "data": {
      "text/html": [
       "<div>\n",
       "<style scoped>\n",
       "    .dataframe tbody tr th:only-of-type {\n",
       "        vertical-align: middle;\n",
       "    }\n",
       "\n",
       "    .dataframe tbody tr th {\n",
       "        vertical-align: top;\n",
       "    }\n",
       "\n",
       "    .dataframe thead th {\n",
       "        text-align: right;\n",
       "    }\n",
       "</style>\n",
       "<table border=\"1\" class=\"dataframe\">\n",
       "  <thead>\n",
       "    <tr style=\"text-align: right;\">\n",
       "      <th></th>\n",
       "      <th>client</th>\n",
       "      <th>datetime</th>\n",
       "      <th>method</th>\n",
       "      <th>request</th>\n",
       "      <th>status</th>\n",
       "      <th>size</th>\n",
       "      <th>referer</th>\n",
       "      <th>user_agent</th>\n",
       "      <th>time_diff</th>\n",
       "      <th>session</th>\n",
       "      <th>clicks</th>\n",
       "      <th>page_id</th>\n",
       "      <th>label</th>\n",
       "    </tr>\n",
       "  </thead>\n",
       "  <tbody>\n",
       "    <tr>\n",
       "      <th>0</th>\n",
       "      <td>104.194.24.237</td>\n",
       "      <td>2019-01-22 12:40:34</td>\n",
       "      <td>POST</td>\n",
       "      <td>/order/onlinePayment</td>\n",
       "      <td>200</td>\n",
       "      <td>33390</td>\n",
       "      <td>https://www.zanbil.ir/order/completionAndRemai...</td>\n",
       "      <td>Mozilla/5.0 (Windows NT 10.0; rv:64.0) Gecko/2...</td>\n",
       "      <td>0 days</td>\n",
       "      <td>1</td>\n",
       "      <td>1</td>\n",
       "      <td>4142</td>\n",
       "      <td>1</td>\n",
       "    </tr>\n",
       "    <tr>\n",
       "      <th>1</th>\n",
       "      <td>104.194.24.237</td>\n",
       "      <td>2019-01-22 12:41:51</td>\n",
       "      <td>POST</td>\n",
       "      <td>/order/onlinePaymentResultMellat</td>\n",
       "      <td>200</td>\n",
       "      <td>34550</td>\n",
       "      <td>https://bpm.shaparak.ir/pgwchannel/successRece...</td>\n",
       "      <td>Mozilla/5.0 (Windows NT 10.0; rv:64.0) Gecko/2...</td>\n",
       "      <td>0 days</td>\n",
       "      <td>1</td>\n",
       "      <td>6</td>\n",
       "      <td>4144</td>\n",
       "      <td>1</td>\n",
       "    </tr>\n",
       "  </tbody>\n",
       "</table>\n",
       "</div>"
      ],
      "text/plain": [
       "           client            datetime method  \\\n",
       "0  104.194.24.237 2019-01-22 12:40:34   POST   \n",
       "1  104.194.24.237 2019-01-22 12:41:51   POST   \n",
       "\n",
       "                            request  status   size  \\\n",
       "0              /order/onlinePayment     200  33390   \n",
       "1  /order/onlinePaymentResultMellat     200  34550   \n",
       "\n",
       "                                             referer  \\\n",
       "0  https://www.zanbil.ir/order/completionAndRemai...   \n",
       "1  https://bpm.shaparak.ir/pgwchannel/successRece...   \n",
       "\n",
       "                                          user_agent time_diff  session  \\\n",
       "0  Mozilla/5.0 (Windows NT 10.0; rv:64.0) Gecko/2...    0 days        1   \n",
       "1  Mozilla/5.0 (Windows NT 10.0; rv:64.0) Gecko/2...    0 days        1   \n",
       "\n",
       "   clicks page_id  label  \n",
       "0       1    4142      1  \n",
       "1       6    4144      1  "
      ]
     },
     "execution_count": 45,
     "metadata": {},
     "output_type": "execute_result"
    }
   ],
   "source": [
    "combined_df.head(2)"
   ]
  },
  {
   "cell_type": "code",
   "execution_count": 46,
   "id": "eebfc689-7c0f-41ec-8d1b-f76de85f034f",
   "metadata": {
    "scrolled": true
   },
   "outputs": [
    {
     "data": {
      "text/html": [
       "<div>\n",
       "<style scoped>\n",
       "    .dataframe tbody tr th:only-of-type {\n",
       "        vertical-align: middle;\n",
       "    }\n",
       "\n",
       "    .dataframe tbody tr th {\n",
       "        vertical-align: top;\n",
       "    }\n",
       "\n",
       "    .dataframe thead th {\n",
       "        text-align: right;\n",
       "    }\n",
       "</style>\n",
       "<table border=\"1\" class=\"dataframe\">\n",
       "  <thead>\n",
       "    <tr style=\"text-align: right;\">\n",
       "      <th></th>\n",
       "      <th>client</th>\n",
       "      <th>datetime</th>\n",
       "      <th>method</th>\n",
       "      <th>request</th>\n",
       "      <th>status</th>\n",
       "      <th>size</th>\n",
       "      <th>referer</th>\n",
       "      <th>user_agent</th>\n",
       "      <th>time_diff</th>\n",
       "      <th>session</th>\n",
       "      <th>clicks</th>\n",
       "      <th>page_id</th>\n",
       "      <th>label</th>\n",
       "    </tr>\n",
       "  </thead>\n",
       "  <tbody>\n",
       "    <tr>\n",
       "      <th>0</th>\n",
       "      <td>10.65.253.5</td>\n",
       "      <td>2019-01-22 12:38:33</td>\n",
       "      <td>GET</td>\n",
       "      <td>/static/images/favicon.ico</td>\n",
       "      <td>200</td>\n",
       "      <td>152</td>\n",
       "      <td>-</td>\n",
       "      <td>Mozilla/5.0 (Windows NT 6.3; Win64; x64; Tride...</td>\n",
       "      <td>0 days 00:00:00</td>\n",
       "      <td>1</td>\n",
       "      <td>1</td>\n",
       "      <td>4623</td>\n",
       "      <td>0</td>\n",
       "    </tr>\n",
       "    <tr>\n",
       "      <th>1</th>\n",
       "      <td>104.194.24.237</td>\n",
       "      <td>2019-01-22 12:40:35</td>\n",
       "      <td>GET</td>\n",
       "      <td>/settings/logo</td>\n",
       "      <td>200</td>\n",
       "      <td>4120</td>\n",
       "      <td>https://www.zanbil.ir/order/onlinePayment</td>\n",
       "      <td>Mozilla/5.0 (Windows NT 10.0; rv:64.0) Gecko/2...</td>\n",
       "      <td>0 days 00:00:01</td>\n",
       "      <td>1</td>\n",
       "      <td>2</td>\n",
       "      <td>4566</td>\n",
       "      <td>0</td>\n",
       "    </tr>\n",
       "    <tr>\n",
       "      <th>2</th>\n",
       "      <td>104.194.24.237</td>\n",
       "      <td>2019-01-22 12:40:35</td>\n",
       "      <td>GET</td>\n",
       "      <td>/static/images/icons/info.png</td>\n",
       "      <td>200</td>\n",
       "      <td>3736</td>\n",
       "      <td>https://znbl.ir/static/bundle-bundle_site_head...</td>\n",
       "      <td>Mozilla/5.0 (Windows NT 10.0; rv:64.0) Gecko/2...</td>\n",
       "      <td>0 days 00:00:00</td>\n",
       "      <td>1</td>\n",
       "      <td>3</td>\n",
       "      <td>4634</td>\n",
       "      <td>0</td>\n",
       "    </tr>\n",
       "    <tr>\n",
       "      <th>3</th>\n",
       "      <td>104.194.24.237</td>\n",
       "      <td>2019-01-22 12:40:37</td>\n",
       "      <td>GET</td>\n",
       "      <td>/site/alexaGooleAnalitic</td>\n",
       "      <td>200</td>\n",
       "      <td>323</td>\n",
       "      <td>https://www.zanbil.ir/order/onlinePayment</td>\n",
       "      <td>Mozilla/5.0 (Windows NT 10.0; rv:64.0) Gecko/2...</td>\n",
       "      <td>0 days 00:00:02</td>\n",
       "      <td>1</td>\n",
       "      <td>4</td>\n",
       "      <td>4568</td>\n",
       "      <td>0</td>\n",
       "    </tr>\n",
       "    <tr>\n",
       "      <th>4</th>\n",
       "      <td>104.194.24.237</td>\n",
       "      <td>2019-01-22 12:41:51</td>\n",
       "      <td>GET</td>\n",
       "      <td>/settings/logo</td>\n",
       "      <td>200</td>\n",
       "      <td>4120</td>\n",
       "      <td>https://www.zanbil.ir/order/onlinePaymentResul...</td>\n",
       "      <td>Mozilla/5.0 (Windows NT 10.0; rv:64.0) Gecko/2...</td>\n",
       "      <td>0 days 00:01:14</td>\n",
       "      <td>1</td>\n",
       "      <td>5</td>\n",
       "      <td>4566</td>\n",
       "      <td>0</td>\n",
       "    </tr>\n",
       "    <tr>\n",
       "      <th>5</th>\n",
       "      <td>104.194.24.237</td>\n",
       "      <td>2019-01-22 12:41:53</td>\n",
       "      <td>GET</td>\n",
       "      <td>/site/alexaGooleAnalitic</td>\n",
       "      <td>200</td>\n",
       "      <td>323</td>\n",
       "      <td>https://www.zanbil.ir/order/onlinePaymentResul...</td>\n",
       "      <td>Mozilla/5.0 (Windows NT 10.0; rv:64.0) Gecko/2...</td>\n",
       "      <td>0 days 00:00:02</td>\n",
       "      <td>1</td>\n",
       "      <td>7</td>\n",
       "      <td>4568</td>\n",
       "      <td>0</td>\n",
       "    </tr>\n",
       "    <tr>\n",
       "      <th>6</th>\n",
       "      <td>104.194.24.43</td>\n",
       "      <td>2019-01-22 12:38:29</td>\n",
       "      <td>GET</td>\n",
       "      <td>/discountLabel/get/3?type=mobileSmallIcon</td>\n",
       "      <td>200</td>\n",
       "      <td>4336</td>\n",
       "      <td>https://www.zanbil.ir/m/product/27797/56389/%D...</td>\n",
       "      <td>Mozilla/5.0 (Linux; Android 6.0.1; SM-J700F) A...</td>\n",
       "      <td>0 days 00:00:00</td>\n",
       "      <td>1</td>\n",
       "      <td>1</td>\n",
       "      <td>143</td>\n",
       "      <td>0</td>\n",
       "    </tr>\n",
       "    <tr>\n",
       "      <th>7</th>\n",
       "      <td>104.194.24.43</td>\n",
       "      <td>2019-01-22 12:38:29</td>\n",
       "      <td>GET</td>\n",
       "      <td>/settings/logo</td>\n",
       "      <td>200</td>\n",
       "      <td>4120</td>\n",
       "      <td>https://www.zanbil.ir/m/product/27797/56389/%D...</td>\n",
       "      <td>Mozilla/5.0 (Linux; Android 6.0.1; SM-J700F) A...</td>\n",
       "      <td>0 days 00:00:00</td>\n",
       "      <td>1</td>\n",
       "      <td>2</td>\n",
       "      <td>4566</td>\n",
       "      <td>0</td>\n",
       "    </tr>\n",
       "    <tr>\n",
       "      <th>8</th>\n",
       "      <td>104.194.24.43</td>\n",
       "      <td>2019-01-22 12:38:30</td>\n",
       "      <td>GET</td>\n",
       "      <td>/image/27797?name=bf73f1.jpg&amp;wh=max</td>\n",
       "      <td>200</td>\n",
       "      <td>39056</td>\n",
       "      <td>https://www.zanbil.ir/m/product/27797/56389/%D...</td>\n",
       "      <td>Mozilla/5.0 (Linux; Android 6.0.1; SM-J700F) A...</td>\n",
       "      <td>0 days 00:00:01</td>\n",
       "      <td>1</td>\n",
       "      <td>3</td>\n",
       "      <td>1071</td>\n",
       "      <td>0</td>\n",
       "    </tr>\n",
       "    <tr>\n",
       "      <th>9</th>\n",
       "      <td>104.194.24.43</td>\n",
       "      <td>2019-01-22 12:38:31</td>\n",
       "      <td>GET</td>\n",
       "      <td>/image/27797?name=85ca79.jpg&amp;wh=max</td>\n",
       "      <td>200</td>\n",
       "      <td>38069</td>\n",
       "      <td>https://www.zanbil.ir/m/product/27797/56389/%D...</td>\n",
       "      <td>Mozilla/5.0 (Linux; Android 6.0.1; SM-J700F) A...</td>\n",
       "      <td>0 days 00:00:01</td>\n",
       "      <td>1</td>\n",
       "      <td>4</td>\n",
       "      <td>1070</td>\n",
       "      <td>0</td>\n",
       "    </tr>\n",
       "    <tr>\n",
       "      <th>10</th>\n",
       "      <td>104.194.24.43</td>\n",
       "      <td>2019-01-22 12:38:39</td>\n",
       "      <td>GET</td>\n",
       "      <td>/image/54309/productModel/150x150</td>\n",
       "      <td>200</td>\n",
       "      <td>3415</td>\n",
       "      <td>https://www.zanbil.ir/m/product/27797/56389/%D...</td>\n",
       "      <td>Mozilla/5.0 (Linux; Android 6.0.1; SM-J700F) A...</td>\n",
       "      <td>0 days 00:00:08</td>\n",
       "      <td>1</td>\n",
       "      <td>5</td>\n",
       "      <td>2037</td>\n",
       "      <td>0</td>\n",
       "    </tr>\n",
       "    <tr>\n",
       "      <th>11</th>\n",
       "      <td>104.194.24.43</td>\n",
       "      <td>2019-01-22 12:38:39</td>\n",
       "      <td>GET</td>\n",
       "      <td>/image/48056/productModel/150x150</td>\n",
       "      <td>200</td>\n",
       "      <td>4112</td>\n",
       "      <td>https://www.zanbil.ir/m/product/27797/56389/%D...</td>\n",
       "      <td>Mozilla/5.0 (Linux; Android 6.0.1; SM-J700F) A...</td>\n",
       "      <td>0 days 00:00:00</td>\n",
       "      <td>1</td>\n",
       "      <td>6</td>\n",
       "      <td>1896</td>\n",
       "      <td>0</td>\n",
       "    </tr>\n",
       "    <tr>\n",
       "      <th>12</th>\n",
       "      <td>104.194.24.43</td>\n",
       "      <td>2019-01-22 12:38:49</td>\n",
       "      <td>GET</td>\n",
       "      <td>/m/prepareSearch?phrase=1264</td>\n",
       "      <td>302</td>\n",
       "      <td>0</td>\n",
       "      <td>https://www.zanbil.ir/m/product/27797/56389/%D...</td>\n",
       "      <td>Mozilla/5.0 (Linux; Android 6.0.1; SM-J700F) A...</td>\n",
       "      <td>0 days 00:00:10</td>\n",
       "      <td>1</td>\n",
       "      <td>7</td>\n",
       "      <td>4077</td>\n",
       "      <td>0</td>\n",
       "    </tr>\n",
       "    <tr>\n",
       "      <th>13</th>\n",
       "      <td>104.194.24.43</td>\n",
       "      <td>2019-01-22 12:38:51</td>\n",
       "      <td>GET</td>\n",
       "      <td>/m/search/1264</td>\n",
       "      <td>200</td>\n",
       "      <td>17505</td>\n",
       "      <td>https://www.zanbil.ir/m/product/27797/56389/%D...</td>\n",
       "      <td>Mozilla/5.0 (Linux; Android 6.0.1; SM-J700F) A...</td>\n",
       "      <td>0 days 00:00:02</td>\n",
       "      <td>1</td>\n",
       "      <td>8</td>\n",
       "      <td>4137</td>\n",
       "      <td>0</td>\n",
       "    </tr>\n",
       "    <tr>\n",
       "      <th>14</th>\n",
       "      <td>104.194.24.43</td>\n",
       "      <td>2019-01-22 12:38:53</td>\n",
       "      <td>GET</td>\n",
       "      <td>/image/54309/productModel/200x200</td>\n",
       "      <td>200</td>\n",
       "      <td>5130</td>\n",
       "      <td>https://www.zanbil.ir/m/search/1264</td>\n",
       "      <td>Mozilla/5.0 (Linux; Android 6.0.1; SM-J700F) A...</td>\n",
       "      <td>0 days 00:00:02</td>\n",
       "      <td>1</td>\n",
       "      <td>9</td>\n",
       "      <td>2038</td>\n",
       "      <td>0</td>\n",
       "    </tr>\n",
       "    <tr>\n",
       "      <th>15</th>\n",
       "      <td>104.194.24.43</td>\n",
       "      <td>2019-01-22 12:38:53</td>\n",
       "      <td>GET</td>\n",
       "      <td>/settings/logo</td>\n",
       "      <td>200</td>\n",
       "      <td>4120</td>\n",
       "      <td>https://www.zanbil.ir/m/search/1264</td>\n",
       "      <td>Mozilla/5.0 (Linux; Android 6.0.1; SM-J700F) A...</td>\n",
       "      <td>0 days 00:00:00</td>\n",
       "      <td>1</td>\n",
       "      <td>10</td>\n",
       "      <td>4566</td>\n",
       "      <td>0</td>\n",
       "    </tr>\n",
       "    <tr>\n",
       "      <th>16</th>\n",
       "      <td>104.194.24.43</td>\n",
       "      <td>2019-01-22 12:38:54</td>\n",
       "      <td>GET</td>\n",
       "      <td>/image/1218/mainSlideMobile</td>\n",
       "      <td>200</td>\n",
       "      <td>68123</td>\n",
       "      <td>https://www.zanbil.ir/m/search/1264</td>\n",
       "      <td>Mozilla/5.0 (Linux; Android 6.0.1; SM-J700F) A...</td>\n",
       "      <td>0 days 00:00:01</td>\n",
       "      <td>1</td>\n",
       "      <td>11</td>\n",
       "      <td>542</td>\n",
       "      <td>0</td>\n",
       "    </tr>\n",
       "    <tr>\n",
       "      <th>17</th>\n",
       "      <td>104.194.24.43</td>\n",
       "      <td>2019-01-22 12:38:54</td>\n",
       "      <td>GET</td>\n",
       "      <td>/image/1/brand</td>\n",
       "      <td>200</td>\n",
       "      <td>3924</td>\n",
       "      <td>https://www.zanbil.ir/m/search/1264</td>\n",
       "      <td>Mozilla/5.0 (Linux; Android 6.0.1; SM-J700F) A...</td>\n",
       "      <td>0 days 00:00:00</td>\n",
       "      <td>1</td>\n",
       "      <td>12</td>\n",
       "      <td>329</td>\n",
       "      <td>0</td>\n",
       "    </tr>\n",
       "    <tr>\n",
       "      <th>18</th>\n",
       "      <td>104.194.24.43</td>\n",
       "      <td>2019-01-22 12:38:54</td>\n",
       "      <td>GET</td>\n",
       "      <td>/image/4/productTypeType</td>\n",
       "      <td>200</td>\n",
       "      <td>11319</td>\n",
       "      <td>https://www.zanbil.ir/m/search/1264</td>\n",
       "      <td>Mozilla/5.0 (Linux; Android 6.0.1; SM-J700F) A...</td>\n",
       "      <td>0 days 00:00:00</td>\n",
       "      <td>1</td>\n",
       "      <td>13</td>\n",
       "      <td>1748</td>\n",
       "      <td>0</td>\n",
       "    </tr>\n",
       "    <tr>\n",
       "      <th>19</th>\n",
       "      <td>104.194.24.43</td>\n",
       "      <td>2019-01-22 12:38:55</td>\n",
       "      <td>GET</td>\n",
       "      <td>/image/1215/mainSlideMobile</td>\n",
       "      <td>200</td>\n",
       "      <td>69159</td>\n",
       "      <td>https://www.zanbil.ir/m/search/1264</td>\n",
       "      <td>Mozilla/5.0 (Linux; Android 6.0.1; SM-J700F) A...</td>\n",
       "      <td>0 days 00:00:01</td>\n",
       "      <td>1</td>\n",
       "      <td>14</td>\n",
       "      <td>540</td>\n",
       "      <td>0</td>\n",
       "    </tr>\n",
       "    <tr>\n",
       "      <th>20</th>\n",
       "      <td>104.194.24.43</td>\n",
       "      <td>2019-01-22 12:38:55</td>\n",
       "      <td>GET</td>\n",
       "      <td>/image/1210/mainSlideMobile</td>\n",
       "      <td>200</td>\n",
       "      <td>66326</td>\n",
       "      <td>https://www.zanbil.ir/m/search/1264</td>\n",
       "      <td>Mozilla/5.0 (Linux; Android 6.0.1; SM-J700F) A...</td>\n",
       "      <td>0 days 00:00:00</td>\n",
       "      <td>1</td>\n",
       "      <td>15</td>\n",
       "      <td>538</td>\n",
       "      <td>0</td>\n",
       "    </tr>\n",
       "    <tr>\n",
       "      <th>21</th>\n",
       "      <td>104.194.24.43</td>\n",
       "      <td>2019-01-22 12:39:06</td>\n",
       "      <td>GET</td>\n",
       "      <td>/m/product/26555/54309/%D9%85%D8%A7%D8%B4%DB%8...</td>\n",
       "      <td>200</td>\n",
       "      <td>21800</td>\n",
       "      <td>https://www.zanbil.ir/m/search/1264</td>\n",
       "      <td>Mozilla/5.0 (Linux; Android 6.0.1; SM-J700F) A...</td>\n",
       "      <td>0 days 00:00:11</td>\n",
       "      <td>1</td>\n",
       "      <td>16</td>\n",
       "      <td>4097</td>\n",
       "      <td>0</td>\n",
       "    </tr>\n",
       "    <tr>\n",
       "      <th>22</th>\n",
       "      <td>104.194.24.43</td>\n",
       "      <td>2019-01-22 12:39:07</td>\n",
       "      <td>GET</td>\n",
       "      <td>/discountLabel/get/3?type=mobileSmallIcon</td>\n",
       "      <td>200</td>\n",
       "      <td>4336</td>\n",
       "      <td>https://www.zanbil.ir/m/product/26555/54309/%D...</td>\n",
       "      <td>Mozilla/5.0 (Linux; Android 6.0.1; SM-J700F) A...</td>\n",
       "      <td>0 days 00:00:01</td>\n",
       "      <td>1</td>\n",
       "      <td>17</td>\n",
       "      <td>143</td>\n",
       "      <td>0</td>\n",
       "    </tr>\n",
       "    <tr>\n",
       "      <th>23</th>\n",
       "      <td>104.194.24.43</td>\n",
       "      <td>2019-01-22 12:39:08</td>\n",
       "      <td>GET</td>\n",
       "      <td>/settings/logo</td>\n",
       "      <td>200</td>\n",
       "      <td>4120</td>\n",
       "      <td>https://www.zanbil.ir/m/product/26555/54309/%D...</td>\n",
       "      <td>Mozilla/5.0 (Linux; Android 6.0.1; SM-J700F) A...</td>\n",
       "      <td>0 days 00:00:01</td>\n",
       "      <td>1</td>\n",
       "      <td>18</td>\n",
       "      <td>4566</td>\n",
       "      <td>0</td>\n",
       "    </tr>\n",
       "    <tr>\n",
       "      <th>24</th>\n",
       "      <td>104.194.24.43</td>\n",
       "      <td>2019-01-22 12:39:09</td>\n",
       "      <td>GET</td>\n",
       "      <td>/image/26555?name=5a025933333.jpg&amp;wh=max</td>\n",
       "      <td>200</td>\n",
       "      <td>39974</td>\n",
       "      <td>https://www.zanbil.ir/m/product/26555/54309/%D...</td>\n",
       "      <td>Mozilla/5.0 (Linux; Android 6.0.1; SM-J700F) A...</td>\n",
       "      <td>0 days 00:00:01</td>\n",
       "      <td>1</td>\n",
       "      <td>19</td>\n",
       "      <td>1023</td>\n",
       "      <td>0</td>\n",
       "    </tr>\n",
       "    <tr>\n",
       "      <th>25</th>\n",
       "      <td>104.194.24.43</td>\n",
       "      <td>2019-01-22 12:39:10</td>\n",
       "      <td>GET</td>\n",
       "      <td>/image/26555?name=e2185b22222.jpg&amp;wh=max</td>\n",
       "      <td>200</td>\n",
       "      <td>43815</td>\n",
       "      <td>https://www.zanbil.ir/m/product/26555/54309/%D...</td>\n",
       "      <td>Mozilla/5.0 (Linux; Android 6.0.1; SM-J700F) A...</td>\n",
       "      <td>0 days 00:00:01</td>\n",
       "      <td>1</td>\n",
       "      <td>20</td>\n",
       "      <td>1024</td>\n",
       "      <td>0</td>\n",
       "    </tr>\n",
       "    <tr>\n",
       "      <th>26</th>\n",
       "      <td>104.194.24.43</td>\n",
       "      <td>2019-01-22 12:39:12</td>\n",
       "      <td>POST</td>\n",
       "      <td>/m/updateVariation?__amp_source_origin=https%3...</td>\n",
       "      <td>200</td>\n",
       "      <td>428</td>\n",
       "      <td>https://www.zanbil.ir/m/product/26555/54309/%D...</td>\n",
       "      <td>Mozilla/5.0 (Linux; Android 6.0.1; SM-J700F) A...</td>\n",
       "      <td>0 days 00:00:02</td>\n",
       "      <td>1</td>\n",
       "      <td>21</td>\n",
       "      <td>4139</td>\n",
       "      <td>0</td>\n",
       "    </tr>\n",
       "    <tr>\n",
       "      <th>27</th>\n",
       "      <td>104.194.24.43</td>\n",
       "      <td>2019-01-22 12:39:17</td>\n",
       "      <td>GET</td>\n",
       "      <td>/image/54307/productModel/150x150</td>\n",
       "      <td>200</td>\n",
       "      <td>3251</td>\n",
       "      <td>https://www.zanbil.ir/m/product/26555/54309/%D...</td>\n",
       "      <td>Mozilla/5.0 (Linux; Android 6.0.1; SM-J700F) A...</td>\n",
       "      <td>0 days 00:00:05</td>\n",
       "      <td>1</td>\n",
       "      <td>22</td>\n",
       "      <td>2036</td>\n",
       "      <td>0</td>\n",
       "    </tr>\n",
       "    <tr>\n",
       "      <th>28</th>\n",
       "      <td>104.194.24.43</td>\n",
       "      <td>2019-01-22 12:39:27</td>\n",
       "      <td>GET</td>\n",
       "      <td>/settings/logo</td>\n",
       "      <td>200</td>\n",
       "      <td>4120</td>\n",
       "      <td>https://www.zanbil.ir/m/search/1264</td>\n",
       "      <td>Mozilla/5.0 (Linux; Android 6.0.1; SM-J700F) A...</td>\n",
       "      <td>0 days 00:00:10</td>\n",
       "      <td>1</td>\n",
       "      <td>23</td>\n",
       "      <td>4566</td>\n",
       "      <td>0</td>\n",
       "    </tr>\n",
       "    <tr>\n",
       "      <th>29</th>\n",
       "      <td>104.194.24.43</td>\n",
       "      <td>2019-01-22 12:40:16</td>\n",
       "      <td>GET</td>\n",
       "      <td>/image/56389/productModel/100x100</td>\n",
       "      <td>200</td>\n",
       "      <td>2235</td>\n",
       "      <td>https://www.zanbil.ir/basket/view</td>\n",
       "      <td>Mozilla/5.0 (Linux; Android 6.0.1; SM-J700F) A...</td>\n",
       "      <td>0 days 00:00:03</td>\n",
       "      <td>1</td>\n",
       "      <td>26</td>\n",
       "      <td>2119</td>\n",
       "      <td>0</td>\n",
       "    </tr>\n",
       "    <tr>\n",
       "      <th>30</th>\n",
       "      <td>104.194.24.43</td>\n",
       "      <td>2019-01-22 12:40:16</td>\n",
       "      <td>GET</td>\n",
       "      <td>/settings/logo</td>\n",
       "      <td>200</td>\n",
       "      <td>4120</td>\n",
       "      <td>https://www.zanbil.ir/basket/view</td>\n",
       "      <td>Mozilla/5.0 (Linux; Android 6.0.1; SM-J700F) A...</td>\n",
       "      <td>0 days 00:00:00</td>\n",
       "      <td>1</td>\n",
       "      <td>27</td>\n",
       "      <td>4566</td>\n",
       "      <td>0</td>\n",
       "    </tr>\n",
       "    <tr>\n",
       "      <th>31</th>\n",
       "      <td>104.194.24.43</td>\n",
       "      <td>2019-01-22 12:40:35</td>\n",
       "      <td>GET</td>\n",
       "      <td>/settings/logo</td>\n",
       "      <td>200</td>\n",
       "      <td>4120</td>\n",
       "      <td>https://www.zanbil.ir/basket/checkout</td>\n",
       "      <td>Mozilla/5.0 (Linux; Android 6.0.1; SM-J700F) A...</td>\n",
       "      <td>0 days 00:00:02</td>\n",
       "      <td>1</td>\n",
       "      <td>29</td>\n",
       "      <td>4566</td>\n",
       "      <td>0</td>\n",
       "    </tr>\n",
       "    <tr>\n",
       "      <th>32</th>\n",
       "      <td>104.248.18.193</td>\n",
       "      <td>2019-01-22 12:38:44</td>\n",
       "      <td>GET</td>\n",
       "      <td>/m/browse/vacuum-cleaner/%D8%AC%D8%A7%D8%B1%D9...</td>\n",
       "      <td>200</td>\n",
       "      <td>19950</td>\n",
       "      <td>https://www-zanbil-ir.cdn.ampproject.org/</td>\n",
       "      <td>Mozilla/5.0 (iPhone; CPU iPhone OS 11_4_1 like...</td>\n",
       "      <td>0 days 00:00:00</td>\n",
       "      <td>1</td>\n",
       "      <td>1</td>\n",
       "      <td>3912</td>\n",
       "      <td>0</td>\n",
       "    </tr>\n",
       "    <tr>\n",
       "      <th>33</th>\n",
       "      <td>104.248.18.193</td>\n",
       "      <td>2019-01-22 12:38:45</td>\n",
       "      <td>GET</td>\n",
       "      <td>/settings/logo</td>\n",
       "      <td>200</td>\n",
       "      <td>4120</td>\n",
       "      <td>https://www.zanbil.ir/m/browse/vacuum-cleaner/...</td>\n",
       "      <td>Mozilla/5.0 (iPhone; CPU iPhone OS 11_4_1 like...</td>\n",
       "      <td>0 days 00:00:01</td>\n",
       "      <td>1</td>\n",
       "      <td>2</td>\n",
       "      <td>4566</td>\n",
       "      <td>0</td>\n",
       "    </tr>\n",
       "    <tr>\n",
       "      <th>34</th>\n",
       "      <td>104.248.18.193</td>\n",
       "      <td>2019-01-22 12:38:46</td>\n",
       "      <td>GET</td>\n",
       "      <td>/static/images/guarantees/goodShopping.png</td>\n",
       "      <td>200</td>\n",
       "      <td>6496</td>\n",
       "      <td>https://www.zanbil.ir/m/browse/vacuum-cleaner/...</td>\n",
       "      <td>Mozilla/5.0 (iPhone; CPU iPhone OS 11_4_1 like...</td>\n",
       "      <td>0 days 00:00:01</td>\n",
       "      <td>1</td>\n",
       "      <td>3</td>\n",
       "      <td>4628</td>\n",
       "      <td>0</td>\n",
       "    </tr>\n",
       "    <tr>\n",
       "      <th>35</th>\n",
       "      <td>104.248.18.193</td>\n",
       "      <td>2019-01-22 12:38:47</td>\n",
       "      <td>GET</td>\n",
       "      <td>/static/images/guarantees/bestPrice.png</td>\n",
       "      <td>200</td>\n",
       "      <td>7356</td>\n",
       "      <td>https://www.zanbil.ir/m/browse/vacuum-cleaner/...</td>\n",
       "      <td>Mozilla/5.0 (iPhone; CPU iPhone OS 11_4_1 like...</td>\n",
       "      <td>0 days 00:00:01</td>\n",
       "      <td>1</td>\n",
       "      <td>4</td>\n",
       "      <td>4626</td>\n",
       "      <td>0</td>\n",
       "    </tr>\n",
       "    <tr>\n",
       "      <th>36</th>\n",
       "      <td>104.248.18.193</td>\n",
       "      <td>2019-01-22 12:38:47</td>\n",
       "      <td>GET</td>\n",
       "      <td>/image/60736/productModel/200x200</td>\n",
       "      <td>200</td>\n",
       "      <td>7953</td>\n",
       "      <td>https://www.zanbil.ir/m/browse/vacuum-cleaner/...</td>\n",
       "      <td>Mozilla/5.0 (iPhone; CPU iPhone OS 11_4_1 like...</td>\n",
       "      <td>0 days 00:00:00</td>\n",
       "      <td>1</td>\n",
       "      <td>5</td>\n",
       "      <td>2715</td>\n",
       "      <td>0</td>\n",
       "    </tr>\n",
       "    <tr>\n",
       "      <th>37</th>\n",
       "      <td>104.248.18.193</td>\n",
       "      <td>2019-01-22 12:38:47</td>\n",
       "      <td>GET</td>\n",
       "      <td>/image/63480/productModel/200x200</td>\n",
       "      <td>200</td>\n",
       "      <td>5690</td>\n",
       "      <td>https://www.zanbil.ir/m/browse/vacuum-cleaner/...</td>\n",
       "      <td>Mozilla/5.0 (iPhone; CPU iPhone OS 11_4_1 like...</td>\n",
       "      <td>0 days 00:00:00</td>\n",
       "      <td>1</td>\n",
       "      <td>6</td>\n",
       "      <td>3148</td>\n",
       "      <td>0</td>\n",
       "    </tr>\n",
       "    <tr>\n",
       "      <th>38</th>\n",
       "      <td>104.248.18.193</td>\n",
       "      <td>2019-01-22 12:38:47</td>\n",
       "      <td>GET</td>\n",
       "      <td>/static/images/guarantees/support.png</td>\n",
       "      <td>200</td>\n",
       "      <td>6454</td>\n",
       "      <td>https://www.zanbil.ir/m/browse/vacuum-cleaner/...</td>\n",
       "      <td>Mozilla/5.0 (iPhone; CPU iPhone OS 11_4_1 like...</td>\n",
       "      <td>0 days 00:00:00</td>\n",
       "      <td>1</td>\n",
       "      <td>7</td>\n",
       "      <td>4630</td>\n",
       "      <td>0</td>\n",
       "    </tr>\n",
       "    <tr>\n",
       "      <th>39</th>\n",
       "      <td>104.248.18.193</td>\n",
       "      <td>2019-01-22 12:38:47</td>\n",
       "      <td>GET</td>\n",
       "      <td>/static/images/guarantees/fastDelivery.png</td>\n",
       "      <td>200</td>\n",
       "      <td>7713</td>\n",
       "      <td>https://www.zanbil.ir/m/browse/vacuum-cleaner/...</td>\n",
       "      <td>Mozilla/5.0 (iPhone; CPU iPhone OS 11_4_1 like...</td>\n",
       "      <td>0 days 00:00:00</td>\n",
       "      <td>1</td>\n",
       "      <td>8</td>\n",
       "      <td>4627</td>\n",
       "      <td>0</td>\n",
       "    </tr>\n",
       "    <tr>\n",
       "      <th>40</th>\n",
       "      <td>104.248.18.193</td>\n",
       "      <td>2019-01-22 12:38:47</td>\n",
       "      <td>GET</td>\n",
       "      <td>/static/css/font/wyekan/font.woff</td>\n",
       "      <td>200</td>\n",
       "      <td>28536</td>\n",
       "      <td>https://www.zanbil.ir/m/browse/vacuum-cleaner/...</td>\n",
       "      <td>Mozilla/5.0 (iPhone; CPU iPhone OS 11_4_1 like...</td>\n",
       "      <td>0 days 00:00:00</td>\n",
       "      <td>1</td>\n",
       "      <td>9</td>\n",
       "      <td>4607</td>\n",
       "      <td>0</td>\n",
       "    </tr>\n",
       "    <tr>\n",
       "      <th>41</th>\n",
       "      <td>104.248.18.193</td>\n",
       "      <td>2019-01-22 12:38:47</td>\n",
       "      <td>GET</td>\n",
       "      <td>/static/images/guarantees/warranty.png</td>\n",
       "      <td>200</td>\n",
       "      <td>5807</td>\n",
       "      <td>https://www.zanbil.ir/m/browse/vacuum-cleaner/...</td>\n",
       "      <td>Mozilla/5.0 (iPhone; CPU iPhone OS 11_4_1 like...</td>\n",
       "      <td>0 days 00:00:00</td>\n",
       "      <td>1</td>\n",
       "      <td>10</td>\n",
       "      <td>4631</td>\n",
       "      <td>0</td>\n",
       "    </tr>\n",
       "    <tr>\n",
       "      <th>42</th>\n",
       "      <td>104.248.18.193</td>\n",
       "      <td>2019-01-22 12:38:48</td>\n",
       "      <td>GET</td>\n",
       "      <td>/image/59665/productModel/200x200</td>\n",
       "      <td>200</td>\n",
       "      <td>5494</td>\n",
       "      <td>https://www.zanbil.ir/m/browse/vacuum-cleaner/...</td>\n",
       "      <td>Mozilla/5.0 (iPhone; CPU iPhone OS 11_4_1 like...</td>\n",
       "      <td>0 days 00:00:01</td>\n",
       "      <td>1</td>\n",
       "      <td>11</td>\n",
       "      <td>2565</td>\n",
       "      <td>0</td>\n",
       "    </tr>\n",
       "    <tr>\n",
       "      <th>43</th>\n",
       "      <td>104.248.18.193</td>\n",
       "      <td>2019-01-22 12:38:48</td>\n",
       "      <td>GET</td>\n",
       "      <td>/image/43/brand</td>\n",
       "      <td>200</td>\n",
       "      <td>2376</td>\n",
       "      <td>https://www.zanbil.ir/m/browse/vacuum-cleaner/...</td>\n",
       "      <td>Mozilla/5.0 (iPhone; CPU iPhone OS 11_4_1 like...</td>\n",
       "      <td>0 days 00:00:00</td>\n",
       "      <td>1</td>\n",
       "      <td>12</td>\n",
       "      <td>1786</td>\n",
       "      <td>0</td>\n",
       "    </tr>\n",
       "    <tr>\n",
       "      <th>44</th>\n",
       "      <td>104.248.18.193</td>\n",
       "      <td>2019-01-22 12:38:48</td>\n",
       "      <td>GET</td>\n",
       "      <td>/image/58807/productModel/200x200</td>\n",
       "      <td>200</td>\n",
       "      <td>4786</td>\n",
       "      <td>https://www.zanbil.ir/m/browse/vacuum-cleaner/...</td>\n",
       "      <td>Mozilla/5.0 (iPhone; CPU iPhone OS 11_4_1 like...</td>\n",
       "      <td>0 days 00:00:00</td>\n",
       "      <td>1</td>\n",
       "      <td>13</td>\n",
       "      <td>2452</td>\n",
       "      <td>0</td>\n",
       "    </tr>\n",
       "    <tr>\n",
       "      <th>45</th>\n",
       "      <td>104.248.18.193</td>\n",
       "      <td>2019-01-22 12:38:48</td>\n",
       "      <td>GET</td>\n",
       "      <td>/image/8710/specialSale?role=mobile</td>\n",
       "      <td>200</td>\n",
       "      <td>16330</td>\n",
       "      <td>https://www.zanbil.ir/m/browse/vacuum-cleaner/...</td>\n",
       "      <td>Mozilla/5.0 (iPhone; CPU iPhone OS 11_4_1 like...</td>\n",
       "      <td>0 days 00:00:00</td>\n",
       "      <td>1</td>\n",
       "      <td>14</td>\n",
       "      <td>3685</td>\n",
       "      <td>0</td>\n",
       "    </tr>\n",
       "    <tr>\n",
       "      <th>46</th>\n",
       "      <td>104.248.18.193</td>\n",
       "      <td>2019-01-22 12:38:48</td>\n",
       "      <td>GET</td>\n",
       "      <td>/image/131/brand</td>\n",
       "      <td>200</td>\n",
       "      <td>2599</td>\n",
       "      <td>https://www.zanbil.ir/m/browse/vacuum-cleaner/...</td>\n",
       "      <td>Mozilla/5.0 (iPhone; CPU iPhone OS 11_4_1 like...</td>\n",
       "      <td>0 days 00:00:00</td>\n",
       "      <td>1</td>\n",
       "      <td>15</td>\n",
       "      <td>562</td>\n",
       "      <td>0</td>\n",
       "    </tr>\n",
       "    <tr>\n",
       "      <th>47</th>\n",
       "      <td>104.248.18.193</td>\n",
       "      <td>2019-01-22 12:38:48</td>\n",
       "      <td>GET</td>\n",
       "      <td>/image/788/mainSlideMobile</td>\n",
       "      <td>200</td>\n",
       "      <td>60795</td>\n",
       "      <td>https://www.zanbil.ir/m/browse/vacuum-cleaner/...</td>\n",
       "      <td>Mozilla/5.0 (iPhone; CPU iPhone OS 11_4_1 like...</td>\n",
       "      <td>0 days 00:00:00</td>\n",
       "      <td>1</td>\n",
       "      <td>16</td>\n",
       "      <td>3612</td>\n",
       "      <td>0</td>\n",
       "    </tr>\n",
       "    <tr>\n",
       "      <th>48</th>\n",
       "      <td>104.248.18.193</td>\n",
       "      <td>2019-01-22 12:38:48</td>\n",
       "      <td>GET</td>\n",
       "      <td>/image/900/brand</td>\n",
       "      <td>200</td>\n",
       "      <td>4424</td>\n",
       "      <td>https://www.zanbil.ir/m/browse/vacuum-cleaner/...</td>\n",
       "      <td>Mozilla/5.0 (iPhone; CPU iPhone OS 11_4_1 like...</td>\n",
       "      <td>0 days 00:00:00</td>\n",
       "      <td>1</td>\n",
       "      <td>17</td>\n",
       "      <td>3780</td>\n",
       "      <td>0</td>\n",
       "    </tr>\n",
       "    <tr>\n",
       "      <th>49</th>\n",
       "      <td>104.248.18.193</td>\n",
       "      <td>2019-01-22 12:38:49</td>\n",
       "      <td>GET</td>\n",
       "      <td>/image/61708/productModel/200x200</td>\n",
       "      <td>200</td>\n",
       "      <td>6573</td>\n",
       "      <td>https://www.zanbil.ir/m/browse/vacuum-cleaner/...</td>\n",
       "      <td>Mozilla/5.0 (iPhone; CPU iPhone OS 11_4_1 like...</td>\n",
       "      <td>0 days 00:00:01</td>\n",
       "      <td>1</td>\n",
       "      <td>18</td>\n",
       "      <td>2866</td>\n",
       "      <td>0</td>\n",
       "    </tr>\n",
       "  </tbody>\n",
       "</table>\n",
       "</div>"
      ],
      "text/plain": [
       "            client            datetime method  \\\n",
       "0      10.65.253.5 2019-01-22 12:38:33    GET   \n",
       "1   104.194.24.237 2019-01-22 12:40:35    GET   \n",
       "2   104.194.24.237 2019-01-22 12:40:35    GET   \n",
       "3   104.194.24.237 2019-01-22 12:40:37    GET   \n",
       "4   104.194.24.237 2019-01-22 12:41:51    GET   \n",
       "5   104.194.24.237 2019-01-22 12:41:53    GET   \n",
       "6    104.194.24.43 2019-01-22 12:38:29    GET   \n",
       "7    104.194.24.43 2019-01-22 12:38:29    GET   \n",
       "8    104.194.24.43 2019-01-22 12:38:30    GET   \n",
       "9    104.194.24.43 2019-01-22 12:38:31    GET   \n",
       "10   104.194.24.43 2019-01-22 12:38:39    GET   \n",
       "11   104.194.24.43 2019-01-22 12:38:39    GET   \n",
       "12   104.194.24.43 2019-01-22 12:38:49    GET   \n",
       "13   104.194.24.43 2019-01-22 12:38:51    GET   \n",
       "14   104.194.24.43 2019-01-22 12:38:53    GET   \n",
       "15   104.194.24.43 2019-01-22 12:38:53    GET   \n",
       "16   104.194.24.43 2019-01-22 12:38:54    GET   \n",
       "17   104.194.24.43 2019-01-22 12:38:54    GET   \n",
       "18   104.194.24.43 2019-01-22 12:38:54    GET   \n",
       "19   104.194.24.43 2019-01-22 12:38:55    GET   \n",
       "20   104.194.24.43 2019-01-22 12:38:55    GET   \n",
       "21   104.194.24.43 2019-01-22 12:39:06    GET   \n",
       "22   104.194.24.43 2019-01-22 12:39:07    GET   \n",
       "23   104.194.24.43 2019-01-22 12:39:08    GET   \n",
       "24   104.194.24.43 2019-01-22 12:39:09    GET   \n",
       "25   104.194.24.43 2019-01-22 12:39:10    GET   \n",
       "26   104.194.24.43 2019-01-22 12:39:12   POST   \n",
       "27   104.194.24.43 2019-01-22 12:39:17    GET   \n",
       "28   104.194.24.43 2019-01-22 12:39:27    GET   \n",
       "29   104.194.24.43 2019-01-22 12:40:16    GET   \n",
       "30   104.194.24.43 2019-01-22 12:40:16    GET   \n",
       "31   104.194.24.43 2019-01-22 12:40:35    GET   \n",
       "32  104.248.18.193 2019-01-22 12:38:44    GET   \n",
       "33  104.248.18.193 2019-01-22 12:38:45    GET   \n",
       "34  104.248.18.193 2019-01-22 12:38:46    GET   \n",
       "35  104.248.18.193 2019-01-22 12:38:47    GET   \n",
       "36  104.248.18.193 2019-01-22 12:38:47    GET   \n",
       "37  104.248.18.193 2019-01-22 12:38:47    GET   \n",
       "38  104.248.18.193 2019-01-22 12:38:47    GET   \n",
       "39  104.248.18.193 2019-01-22 12:38:47    GET   \n",
       "40  104.248.18.193 2019-01-22 12:38:47    GET   \n",
       "41  104.248.18.193 2019-01-22 12:38:47    GET   \n",
       "42  104.248.18.193 2019-01-22 12:38:48    GET   \n",
       "43  104.248.18.193 2019-01-22 12:38:48    GET   \n",
       "44  104.248.18.193 2019-01-22 12:38:48    GET   \n",
       "45  104.248.18.193 2019-01-22 12:38:48    GET   \n",
       "46  104.248.18.193 2019-01-22 12:38:48    GET   \n",
       "47  104.248.18.193 2019-01-22 12:38:48    GET   \n",
       "48  104.248.18.193 2019-01-22 12:38:48    GET   \n",
       "49  104.248.18.193 2019-01-22 12:38:49    GET   \n",
       "\n",
       "                                              request  status   size  \\\n",
       "0                          /static/images/favicon.ico     200    152   \n",
       "1                                      /settings/logo     200   4120   \n",
       "2                       /static/images/icons/info.png     200   3736   \n",
       "3                            /site/alexaGooleAnalitic     200    323   \n",
       "4                                      /settings/logo     200   4120   \n",
       "5                            /site/alexaGooleAnalitic     200    323   \n",
       "6           /discountLabel/get/3?type=mobileSmallIcon     200   4336   \n",
       "7                                      /settings/logo     200   4120   \n",
       "8                 /image/27797?name=bf73f1.jpg&wh=max     200  39056   \n",
       "9                 /image/27797?name=85ca79.jpg&wh=max     200  38069   \n",
       "10                  /image/54309/productModel/150x150     200   3415   \n",
       "11                  /image/48056/productModel/150x150     200   4112   \n",
       "12                       /m/prepareSearch?phrase=1264     302      0   \n",
       "13                                     /m/search/1264     200  17505   \n",
       "14                  /image/54309/productModel/200x200     200   5130   \n",
       "15                                     /settings/logo     200   4120   \n",
       "16                        /image/1218/mainSlideMobile     200  68123   \n",
       "17                                     /image/1/brand     200   3924   \n",
       "18                           /image/4/productTypeType     200  11319   \n",
       "19                        /image/1215/mainSlideMobile     200  69159   \n",
       "20                        /image/1210/mainSlideMobile     200  66326   \n",
       "21  /m/product/26555/54309/%D9%85%D8%A7%D8%B4%DB%8...     200  21800   \n",
       "22          /discountLabel/get/3?type=mobileSmallIcon     200   4336   \n",
       "23                                     /settings/logo     200   4120   \n",
       "24           /image/26555?name=5a025933333.jpg&wh=max     200  39974   \n",
       "25           /image/26555?name=e2185b22222.jpg&wh=max     200  43815   \n",
       "26  /m/updateVariation?__amp_source_origin=https%3...     200    428   \n",
       "27                  /image/54307/productModel/150x150     200   3251   \n",
       "28                                     /settings/logo     200   4120   \n",
       "29                  /image/56389/productModel/100x100     200   2235   \n",
       "30                                     /settings/logo     200   4120   \n",
       "31                                     /settings/logo     200   4120   \n",
       "32  /m/browse/vacuum-cleaner/%D8%AC%D8%A7%D8%B1%D9...     200  19950   \n",
       "33                                     /settings/logo     200   4120   \n",
       "34         /static/images/guarantees/goodShopping.png     200   6496   \n",
       "35            /static/images/guarantees/bestPrice.png     200   7356   \n",
       "36                  /image/60736/productModel/200x200     200   7953   \n",
       "37                  /image/63480/productModel/200x200     200   5690   \n",
       "38              /static/images/guarantees/support.png     200   6454   \n",
       "39         /static/images/guarantees/fastDelivery.png     200   7713   \n",
       "40                  /static/css/font/wyekan/font.woff     200  28536   \n",
       "41             /static/images/guarantees/warranty.png     200   5807   \n",
       "42                  /image/59665/productModel/200x200     200   5494   \n",
       "43                                    /image/43/brand     200   2376   \n",
       "44                  /image/58807/productModel/200x200     200   4786   \n",
       "45                /image/8710/specialSale?role=mobile     200  16330   \n",
       "46                                   /image/131/brand     200   2599   \n",
       "47                         /image/788/mainSlideMobile     200  60795   \n",
       "48                                   /image/900/brand     200   4424   \n",
       "49                  /image/61708/productModel/200x200     200   6573   \n",
       "\n",
       "                                              referer  \\\n",
       "0                                                   -   \n",
       "1           https://www.zanbil.ir/order/onlinePayment   \n",
       "2   https://znbl.ir/static/bundle-bundle_site_head...   \n",
       "3           https://www.zanbil.ir/order/onlinePayment   \n",
       "4   https://www.zanbil.ir/order/onlinePaymentResul...   \n",
       "5   https://www.zanbil.ir/order/onlinePaymentResul...   \n",
       "6   https://www.zanbil.ir/m/product/27797/56389/%D...   \n",
       "7   https://www.zanbil.ir/m/product/27797/56389/%D...   \n",
       "8   https://www.zanbil.ir/m/product/27797/56389/%D...   \n",
       "9   https://www.zanbil.ir/m/product/27797/56389/%D...   \n",
       "10  https://www.zanbil.ir/m/product/27797/56389/%D...   \n",
       "11  https://www.zanbil.ir/m/product/27797/56389/%D...   \n",
       "12  https://www.zanbil.ir/m/product/27797/56389/%D...   \n",
       "13  https://www.zanbil.ir/m/product/27797/56389/%D...   \n",
       "14                https://www.zanbil.ir/m/search/1264   \n",
       "15                https://www.zanbil.ir/m/search/1264   \n",
       "16                https://www.zanbil.ir/m/search/1264   \n",
       "17                https://www.zanbil.ir/m/search/1264   \n",
       "18                https://www.zanbil.ir/m/search/1264   \n",
       "19                https://www.zanbil.ir/m/search/1264   \n",
       "20                https://www.zanbil.ir/m/search/1264   \n",
       "21                https://www.zanbil.ir/m/search/1264   \n",
       "22  https://www.zanbil.ir/m/product/26555/54309/%D...   \n",
       "23  https://www.zanbil.ir/m/product/26555/54309/%D...   \n",
       "24  https://www.zanbil.ir/m/product/26555/54309/%D...   \n",
       "25  https://www.zanbil.ir/m/product/26555/54309/%D...   \n",
       "26  https://www.zanbil.ir/m/product/26555/54309/%D...   \n",
       "27  https://www.zanbil.ir/m/product/26555/54309/%D...   \n",
       "28                https://www.zanbil.ir/m/search/1264   \n",
       "29                  https://www.zanbil.ir/basket/view   \n",
       "30                  https://www.zanbil.ir/basket/view   \n",
       "31              https://www.zanbil.ir/basket/checkout   \n",
       "32          https://www-zanbil-ir.cdn.ampproject.org/   \n",
       "33  https://www.zanbil.ir/m/browse/vacuum-cleaner/...   \n",
       "34  https://www.zanbil.ir/m/browse/vacuum-cleaner/...   \n",
       "35  https://www.zanbil.ir/m/browse/vacuum-cleaner/...   \n",
       "36  https://www.zanbil.ir/m/browse/vacuum-cleaner/...   \n",
       "37  https://www.zanbil.ir/m/browse/vacuum-cleaner/...   \n",
       "38  https://www.zanbil.ir/m/browse/vacuum-cleaner/...   \n",
       "39  https://www.zanbil.ir/m/browse/vacuum-cleaner/...   \n",
       "40  https://www.zanbil.ir/m/browse/vacuum-cleaner/...   \n",
       "41  https://www.zanbil.ir/m/browse/vacuum-cleaner/...   \n",
       "42  https://www.zanbil.ir/m/browse/vacuum-cleaner/...   \n",
       "43  https://www.zanbil.ir/m/browse/vacuum-cleaner/...   \n",
       "44  https://www.zanbil.ir/m/browse/vacuum-cleaner/...   \n",
       "45  https://www.zanbil.ir/m/browse/vacuum-cleaner/...   \n",
       "46  https://www.zanbil.ir/m/browse/vacuum-cleaner/...   \n",
       "47  https://www.zanbil.ir/m/browse/vacuum-cleaner/...   \n",
       "48  https://www.zanbil.ir/m/browse/vacuum-cleaner/...   \n",
       "49  https://www.zanbil.ir/m/browse/vacuum-cleaner/...   \n",
       "\n",
       "                                           user_agent       time_diff  \\\n",
       "0   Mozilla/5.0 (Windows NT 6.3; Win64; x64; Tride... 0 days 00:00:00   \n",
       "1   Mozilla/5.0 (Windows NT 10.0; rv:64.0) Gecko/2... 0 days 00:00:01   \n",
       "2   Mozilla/5.0 (Windows NT 10.0; rv:64.0) Gecko/2... 0 days 00:00:00   \n",
       "3   Mozilla/5.0 (Windows NT 10.0; rv:64.0) Gecko/2... 0 days 00:00:02   \n",
       "4   Mozilla/5.0 (Windows NT 10.0; rv:64.0) Gecko/2... 0 days 00:01:14   \n",
       "5   Mozilla/5.0 (Windows NT 10.0; rv:64.0) Gecko/2... 0 days 00:00:02   \n",
       "6   Mozilla/5.0 (Linux; Android 6.0.1; SM-J700F) A... 0 days 00:00:00   \n",
       "7   Mozilla/5.0 (Linux; Android 6.0.1; SM-J700F) A... 0 days 00:00:00   \n",
       "8   Mozilla/5.0 (Linux; Android 6.0.1; SM-J700F) A... 0 days 00:00:01   \n",
       "9   Mozilla/5.0 (Linux; Android 6.0.1; SM-J700F) A... 0 days 00:00:01   \n",
       "10  Mozilla/5.0 (Linux; Android 6.0.1; SM-J700F) A... 0 days 00:00:08   \n",
       "11  Mozilla/5.0 (Linux; Android 6.0.1; SM-J700F) A... 0 days 00:00:00   \n",
       "12  Mozilla/5.0 (Linux; Android 6.0.1; SM-J700F) A... 0 days 00:00:10   \n",
       "13  Mozilla/5.0 (Linux; Android 6.0.1; SM-J700F) A... 0 days 00:00:02   \n",
       "14  Mozilla/5.0 (Linux; Android 6.0.1; SM-J700F) A... 0 days 00:00:02   \n",
       "15  Mozilla/5.0 (Linux; Android 6.0.1; SM-J700F) A... 0 days 00:00:00   \n",
       "16  Mozilla/5.0 (Linux; Android 6.0.1; SM-J700F) A... 0 days 00:00:01   \n",
       "17  Mozilla/5.0 (Linux; Android 6.0.1; SM-J700F) A... 0 days 00:00:00   \n",
       "18  Mozilla/5.0 (Linux; Android 6.0.1; SM-J700F) A... 0 days 00:00:00   \n",
       "19  Mozilla/5.0 (Linux; Android 6.0.1; SM-J700F) A... 0 days 00:00:01   \n",
       "20  Mozilla/5.0 (Linux; Android 6.0.1; SM-J700F) A... 0 days 00:00:00   \n",
       "21  Mozilla/5.0 (Linux; Android 6.0.1; SM-J700F) A... 0 days 00:00:11   \n",
       "22  Mozilla/5.0 (Linux; Android 6.0.1; SM-J700F) A... 0 days 00:00:01   \n",
       "23  Mozilla/5.0 (Linux; Android 6.0.1; SM-J700F) A... 0 days 00:00:01   \n",
       "24  Mozilla/5.0 (Linux; Android 6.0.1; SM-J700F) A... 0 days 00:00:01   \n",
       "25  Mozilla/5.0 (Linux; Android 6.0.1; SM-J700F) A... 0 days 00:00:01   \n",
       "26  Mozilla/5.0 (Linux; Android 6.0.1; SM-J700F) A... 0 days 00:00:02   \n",
       "27  Mozilla/5.0 (Linux; Android 6.0.1; SM-J700F) A... 0 days 00:00:05   \n",
       "28  Mozilla/5.0 (Linux; Android 6.0.1; SM-J700F) A... 0 days 00:00:10   \n",
       "29  Mozilla/5.0 (Linux; Android 6.0.1; SM-J700F) A... 0 days 00:00:03   \n",
       "30  Mozilla/5.0 (Linux; Android 6.0.1; SM-J700F) A... 0 days 00:00:00   \n",
       "31  Mozilla/5.0 (Linux; Android 6.0.1; SM-J700F) A... 0 days 00:00:02   \n",
       "32  Mozilla/5.0 (iPhone; CPU iPhone OS 11_4_1 like... 0 days 00:00:00   \n",
       "33  Mozilla/5.0 (iPhone; CPU iPhone OS 11_4_1 like... 0 days 00:00:01   \n",
       "34  Mozilla/5.0 (iPhone; CPU iPhone OS 11_4_1 like... 0 days 00:00:01   \n",
       "35  Mozilla/5.0 (iPhone; CPU iPhone OS 11_4_1 like... 0 days 00:00:01   \n",
       "36  Mozilla/5.0 (iPhone; CPU iPhone OS 11_4_1 like... 0 days 00:00:00   \n",
       "37  Mozilla/5.0 (iPhone; CPU iPhone OS 11_4_1 like... 0 days 00:00:00   \n",
       "38  Mozilla/5.0 (iPhone; CPU iPhone OS 11_4_1 like... 0 days 00:00:00   \n",
       "39  Mozilla/5.0 (iPhone; CPU iPhone OS 11_4_1 like... 0 days 00:00:00   \n",
       "40  Mozilla/5.0 (iPhone; CPU iPhone OS 11_4_1 like... 0 days 00:00:00   \n",
       "41  Mozilla/5.0 (iPhone; CPU iPhone OS 11_4_1 like... 0 days 00:00:00   \n",
       "42  Mozilla/5.0 (iPhone; CPU iPhone OS 11_4_1 like... 0 days 00:00:01   \n",
       "43  Mozilla/5.0 (iPhone; CPU iPhone OS 11_4_1 like... 0 days 00:00:00   \n",
       "44  Mozilla/5.0 (iPhone; CPU iPhone OS 11_4_1 like... 0 days 00:00:00   \n",
       "45  Mozilla/5.0 (iPhone; CPU iPhone OS 11_4_1 like... 0 days 00:00:00   \n",
       "46  Mozilla/5.0 (iPhone; CPU iPhone OS 11_4_1 like... 0 days 00:00:00   \n",
       "47  Mozilla/5.0 (iPhone; CPU iPhone OS 11_4_1 like... 0 days 00:00:00   \n",
       "48  Mozilla/5.0 (iPhone; CPU iPhone OS 11_4_1 like... 0 days 00:00:00   \n",
       "49  Mozilla/5.0 (iPhone; CPU iPhone OS 11_4_1 like... 0 days 00:00:01   \n",
       "\n",
       "    session  clicks page_id  label  \n",
       "0         1       1    4623      0  \n",
       "1         1       2    4566      0  \n",
       "2         1       3    4634      0  \n",
       "3         1       4    4568      0  \n",
       "4         1       5    4566      0  \n",
       "5         1       7    4568      0  \n",
       "6         1       1     143      0  \n",
       "7         1       2    4566      0  \n",
       "8         1       3    1071      0  \n",
       "9         1       4    1070      0  \n",
       "10        1       5    2037      0  \n",
       "11        1       6    1896      0  \n",
       "12        1       7    4077      0  \n",
       "13        1       8    4137      0  \n",
       "14        1       9    2038      0  \n",
       "15        1      10    4566      0  \n",
       "16        1      11     542      0  \n",
       "17        1      12     329      0  \n",
       "18        1      13    1748      0  \n",
       "19        1      14     540      0  \n",
       "20        1      15     538      0  \n",
       "21        1      16    4097      0  \n",
       "22        1      17     143      0  \n",
       "23        1      18    4566      0  \n",
       "24        1      19    1023      0  \n",
       "25        1      20    1024      0  \n",
       "26        1      21    4139      0  \n",
       "27        1      22    2036      0  \n",
       "28        1      23    4566      0  \n",
       "29        1      26    2119      0  \n",
       "30        1      27    4566      0  \n",
       "31        1      29    4566      0  \n",
       "32        1       1    3912      0  \n",
       "33        1       2    4566      0  \n",
       "34        1       3    4628      0  \n",
       "35        1       4    4626      0  \n",
       "36        1       5    2715      0  \n",
       "37        1       6    3148      0  \n",
       "38        1       7    4630      0  \n",
       "39        1       8    4627      0  \n",
       "40        1       9    4607      0  \n",
       "41        1      10    4631      0  \n",
       "42        1      11    2565      0  \n",
       "43        1      12    1786      0  \n",
       "44        1      13    2452      0  \n",
       "45        1      14    3685      0  \n",
       "46        1      15     562      0  \n",
       "47        1      16    3612      0  \n",
       "48        1      17    3780      0  \n",
       "49        1      18    2866      0  "
      ]
     },
     "execution_count": 46,
     "metadata": {},
     "output_type": "execute_result"
    }
   ],
   "source": [
    "# Set the 'client' and 'page_id' columns as the key for the difference operation\n",
    "key_columns = ['client', 'page_id']\n",
    "\n",
    "# Find rows in combined_df that are not in CTA based on the specified key columns\n",
    "NCTA_df = combined_df[~combined_df[key_columns].isin(CTA[key_columns].to_dict(orient='list')).all(axis=1)]\n",
    "\n",
    "# Reset the index of the result DataFrame\n",
    "NCTA_df = NCTA_df.reset_index(drop=True)\n",
    "NCTA_df.head(50)"
   ]
  },
  {
   "cell_type": "code",
   "execution_count": 47,
   "id": "1f8e84e1-bb8e-477f-9250-a9e01cb34011",
   "metadata": {
    "scrolled": true
   },
   "outputs": [
    {
     "data": {
      "text/html": [
       "<div>\n",
       "<style scoped>\n",
       "    .dataframe tbody tr th:only-of-type {\n",
       "        vertical-align: middle;\n",
       "    }\n",
       "\n",
       "    .dataframe tbody tr th {\n",
       "        vertical-align: top;\n",
       "    }\n",
       "\n",
       "    .dataframe thead th {\n",
       "        text-align: right;\n",
       "    }\n",
       "</style>\n",
       "<table border=\"1\" class=\"dataframe\">\n",
       "  <thead>\n",
       "    <tr style=\"text-align: right;\">\n",
       "      <th></th>\n",
       "      <th>client</th>\n",
       "      <th>datetime</th>\n",
       "      <th>method</th>\n",
       "      <th>request</th>\n",
       "      <th>status</th>\n",
       "      <th>size</th>\n",
       "      <th>referer</th>\n",
       "      <th>user_agent</th>\n",
       "      <th>time_diff</th>\n",
       "      <th>session</th>\n",
       "      <th>clicks</th>\n",
       "      <th>page_id</th>\n",
       "      <th>label</th>\n",
       "    </tr>\n",
       "  </thead>\n",
       "  <tbody>\n",
       "    <tr>\n",
       "      <th>0</th>\n",
       "      <td>104.194.24.237</td>\n",
       "      <td>2019-01-22 12:40:34</td>\n",
       "      <td>POST</td>\n",
       "      <td>/order/onlinePayment</td>\n",
       "      <td>200</td>\n",
       "      <td>33390</td>\n",
       "      <td>https://www.zanbil.ir/order/completionAndRemai...</td>\n",
       "      <td>Mozilla/5.0 (Windows NT 10.0; rv:64.0) Gecko/2...</td>\n",
       "      <td>0 days</td>\n",
       "      <td>1</td>\n",
       "      <td>1</td>\n",
       "      <td>4142</td>\n",
       "      <td>1</td>\n",
       "    </tr>\n",
       "    <tr>\n",
       "      <th>1</th>\n",
       "      <td>104.194.24.237</td>\n",
       "      <td>2019-01-22 12:41:51</td>\n",
       "      <td>POST</td>\n",
       "      <td>/order/onlinePaymentResultMellat</td>\n",
       "      <td>200</td>\n",
       "      <td>34550</td>\n",
       "      <td>https://bpm.shaparak.ir/pgwchannel/successRece...</td>\n",
       "      <td>Mozilla/5.0 (Windows NT 10.0; rv:64.0) Gecko/2...</td>\n",
       "      <td>0 days</td>\n",
       "      <td>1</td>\n",
       "      <td>6</td>\n",
       "      <td>4144</td>\n",
       "      <td>1</td>\n",
       "    </tr>\n",
       "  </tbody>\n",
       "</table>\n",
       "</div>"
      ],
      "text/plain": [
       "           client            datetime method  \\\n",
       "0  104.194.24.237 2019-01-22 12:40:34   POST   \n",
       "1  104.194.24.237 2019-01-22 12:41:51   POST   \n",
       "\n",
       "                            request  status   size  \\\n",
       "0              /order/onlinePayment     200  33390   \n",
       "1  /order/onlinePaymentResultMellat     200  34550   \n",
       "\n",
       "                                             referer  \\\n",
       "0  https://www.zanbil.ir/order/completionAndRemai...   \n",
       "1  https://bpm.shaparak.ir/pgwchannel/successRece...   \n",
       "\n",
       "                                          user_agent time_diff  session  \\\n",
       "0  Mozilla/5.0 (Windows NT 10.0; rv:64.0) Gecko/2...    0 days        1   \n",
       "1  Mozilla/5.0 (Windows NT 10.0; rv:64.0) Gecko/2...    0 days        1   \n",
       "\n",
       "   clicks page_id  label  \n",
       "0       1    4142      1  \n",
       "1       6    4144      1  "
      ]
     },
     "execution_count": 47,
     "metadata": {},
     "output_type": "execute_result"
    }
   ],
   "source": [
    "# Set the 'client' and 'page_id' columns as the key for the difference operation\n",
    "key_columns = ['client', 'page_id']\n",
    "\n",
    "# Find rows in combined_df that are not in CTA based on the specified key columns\n",
    "CTA_df = combined_df[~combined_df[key_columns].isin(NCTA[key_columns].to_dict(orient='list')).all(axis=1)]\n",
    "\n",
    "# Reset the index of the result DataFrame\n",
    "CTA_df = CTA_df.reset_index(drop=True)\n",
    "CTA_df.head(2)"
   ]
  },
  {
   "cell_type": "code",
   "execution_count": 48,
   "id": "8aab98b1-5463-42a6-9b42-0013befd4091",
   "metadata": {},
   "outputs": [
    {
     "data": {
      "text/plain": [
       "0    9239\n",
       "1     378\n",
       "Name: label, dtype: int64"
      ]
     },
     "execution_count": 48,
     "metadata": {},
     "output_type": "execute_result"
    }
   ],
   "source": [
    "combined_df.label.value_counts()"
   ]
  },
  {
   "cell_type": "raw",
   "id": "fa932a2f-ed53-4582-a402-6b9f76128200",
   "metadata": {},
   "source": [
    "profile= ProfileReport(original_df,title='Pandas Profiling Report')\n",
    "profile.to_file(output_file='original_df.html')"
   ]
  },
  {
   "cell_type": "raw",
   "id": "6616124c-d487-4fb9-aa71-8b48e2962355",
   "metadata": {},
   "source": [
    "profile= ProfileReport(combined_sequence,title='Pandas Profiling Report')\n",
    "profile.to_file(output_file='combined_sequence.html')"
   ]
  },
  {
   "cell_type": "raw",
   "id": "b6448f59-d2ab-4f65-9b7b-874eb1116aa0",
   "metadata": {},
   "source": [
    "profile= ProfileReport(combined_df,title='Pandas Profiling Report')\n",
    "profile.to_file(output_file='combined_df.html')"
   ]
  },
  {
   "cell_type": "markdown",
   "id": "87197062-c7d4-468f-889c-0f3ac3b8bea6",
   "metadata": {},
   "source": [
    "### **Predictive modelling** ###"
   ]
  },
  {
   "cell_type": "code",
   "execution_count": 49,
   "id": "369ac8ee-561c-418b-a2a6-e1b871bf6bf7",
   "metadata": {},
   "outputs": [
    {
     "data": {
      "text/plain": [
       "client\n",
       "10.65.253.5                                                  [4623]\n",
       "104.194.24.237                       [4566, 4634, 4568, 4566, 4568]\n",
       "104.194.24.43     [143, 4566, 1071, 1070, 2037, 1896, 4077, 4137...\n",
       "104.248.18.193    [3912, 4566, 4628, 4626, 2715, 3148, 4630, 462...\n",
       "104.249.46.46                                                [4274]\n",
       "                                        ...                        \n",
       "94.183.37.129     [170, 946, 584, 735, 653, 4622, 996, 4566, 106...\n",
       "94.184.237.187                                               [1726]\n",
       "94.74.149.39      [4063, 4063, 4063, 4566, 2410, 2312, 898, 2936...\n",
       "95.174.64.190                                                  [43]\n",
       "95.216.95.200                                    [4232, 4239, 4231]\n",
       "Name: page_id, Length: 375, dtype: object"
      ]
     },
     "execution_count": 49,
     "metadata": {},
     "output_type": "execute_result"
    }
   ],
   "source": [
    "NCTA_sequences_df.page_id"
   ]
  },
  {
   "cell_type": "markdown",
   "id": "7b93f734-c716-4cf2-a2c5-8fa818d5a97c",
   "metadata": {},
   "source": [
    "## Predicting 1st click ##"
   ]
  },
  {
   "cell_type": "code",
   "execution_count": 50,
   "id": "c5edfa27-dc0f-4ac4-8fef-23a67e418162",
   "metadata": {},
   "outputs": [
    {
     "data": {
      "text/plain": [
       "array([[4623,    0,    0,    0,    0],\n",
       "       [4566, 4634, 4568, 4566, 4568],\n",
       "       [ 143, 4566, 1071, 1070, 2037],\n",
       "       ...,\n",
       "       [4063, 4063, 4063, 4566, 2410],\n",
       "       [  43,    0,    0,    0,    0],\n",
       "       [4232, 4239, 4231,    0,    0]])"
      ]
     },
     "execution_count": 50,
     "metadata": {},
     "output_type": "execute_result"
    }
   ],
   "source": [
    "sixth_pad_page_id = pad_sequences(NCTA_sequences_df['page_id'], maxlen=6, padding='post', truncating='post')\n",
    "\n",
    "fifth_pad_page_id = pad_sequences(NCTA_sequences_df['page_id'], maxlen=5, truncating='post', padding='post')\n",
    "fifth_pad_page_id"
   ]
  },
  {
   "cell_type": "code",
   "execution_count": 51,
   "id": "e50f1d87-3cbc-462f-bf77-2da9b26afacb",
   "metadata": {},
   "outputs": [],
   "source": [
    "# Extract the last element from each sequence\n",
    "y = sixth_pad_page_id[:, -1]\n",
    "y = y.flatten()"
   ]
  },
  {
   "cell_type": "raw",
   "id": "8c1edf34-5d6d-4fe8-9198-2ead56acef65",
   "metadata": {},
   "source": [
    "from sklearn.model_selection import train_test_split\n",
    "\n",
    "# Normalize the input data\n",
    "from sklearn.preprocessing import MinMaxScaler\n",
    "scaler = MinMaxScaler()\n",
    "fifth_pad_page_id = scaler.fit_transform(fifth_pad_page_id)\n",
    "\n",
    "# Split data into training, validation, and test sets\n",
    "X_train, X_temp, y_train, y_temp = train_test_split(fifth_pad_page_id, y, test_size=0.2, random_state=42)\n",
    "X_val, X_test, y_val, y_test = train_test_split(X_temp, y_temp, test_size=0.5, random_state=42)"
   ]
  },
  {
   "cell_type": "code",
   "execution_count": 52,
   "id": "17a55460-8f57-4d6c-8268-e98e395dbb79",
   "metadata": {
    "scrolled": true
   },
   "outputs": [
    {
     "name": "stdout",
     "output_type": "stream",
     "text": [
      "[4623    0    0    0    0] 0\n",
      "[4566 4634 4568 4566 4568] 0\n",
      "[ 143 4566 1071 1070 2037] 1896\n",
      "[3912 4566 4628 4626 2715] 3148\n",
      "[4274    0    0    0    0] 0\n",
      "[3922  150 4566 4630  351] 4631\n",
      "[779   0   0   0   0] 0\n",
      "[3904 4607 4627 4631 4628] 4630\n",
      "[ 150 4117 4566 1493 1494] 1796\n",
      "[1764 4566 4568  132  137] 132\n",
      "[4045   44 4631 4628 4626] 4627\n",
      "[319 288 323 311 302] 277\n",
      "[4324 4620    0    0    0] 0\n",
      "[1069    0    0    0    0] 0\n",
      "[43  0  0  0  0] 0\n",
      "[4607 3501 3502 3505 3503] 2172\n",
      "[3988 4630 4628 4626 4607] 4631\n",
      "[1656    0    0    0    0] 0\n",
      "[1683 1579    0    0    0] 0\n",
      "[43  0  0  0  0] 0\n",
      "[  43 4038 4607 4628 4626] 4630\n",
      "[754   0   0   0   0] 0\n",
      "[1007  150    0    0    0] 0\n",
      "[1608    0    0    0    0] 0\n",
      "[3717 3715 3716 3697 3696] 3698\n",
      "[4284 4566 4568 4285 1665] 1668\n",
      "[ 105 3681 3735 3730  541] 497\n",
      "[4274 4118  142  143 4566] 4139\n",
      "[4648 4632 4649 4664 4662] 4324\n",
      "[3889   48   50  150   51] 48\n",
      "[ 320  631  241 1298 1252] 193\n",
      "[3725 3724 3726    0    0] 0\n",
      "[4566 4568    0    0    0] 0\n",
      "[992   0   0   0   0] 0\n",
      "[182 183 239 240   0] 0\n",
      "[4570 4570 4570 4570 4570] 4570\n",
      "[4261 4607 1386 4647 1401] 553\n",
      "[2869 2871    0    0    0] 0\n",
      "[  46 4566   46    0    0] 0\n",
      "[1738  967  194 1765 1752] 1786\n",
      "[ 116 4622 4566 2944 3273] 1977\n",
      "[4625 3086 2830 3011  860] 2901\n",
      "[ 541  519  539  522 4609] 520\n",
      "[3870 3872 3871 3869 3876] 3874\n",
      "[4625  951  917 2111 2905] 621\n",
      "[1138  565  736 1783 1978] 1782\n",
      "[ 571 4278 1550 1564 1561] 1563\n",
      "[3548  150    0    0    0] 0\n",
      "[4200  748  762 4655  764] 751\n",
      "[ 105 4566  497 3735 1335] 2049\n",
      "[ 181 3344 1087 2613  871] 932\n",
      "[4181 4566 4568 4639    0] 0\n",
      "[1360 1357 1359 1452 1108] 1353\n",
      "[1036 1507    0    0    0] 0\n",
      "[1314 1287 1288 1286    0] 0\n",
      "[3899 3396 3427 3452 3455] 3438\n",
      "[43  0  0  0  0] 0\n",
      "[1507  515 1628 1629 1478] 518\n",
      "[354 150   0   0   0] 0\n",
      "[ 571 1026  135 4566 4568] 0\n",
      "[ 109  391  349 3653  557] 4637\n",
      "[43  0  0  0  0] 0\n",
      "[1678    0    0    0    0] 0\n",
      "[43  0  0  0  0] 0\n",
      "[1308    0    0    0    0] 0\n",
      "[2891  104 4566 4568 4179] 2057\n",
      "[4566 4647 4607 4633 4609] 3730\n",
      "[1551    0    0    0    0] 0\n",
      "[4115 4089    0    0    0] 0\n",
      "[1628  515    0    0    0] 0\n",
      "[4607 3891 4631 4627 4630] 4628\n",
      "[4607 4609    0    0    0] 0\n",
      "[ 105 3730 4566 4607  861] 1335\n",
      "[4566 4569 4568  604 1138] 3730\n",
      "[2845    0    0    0    0] 0\n",
      "[1507 1478 1628  515    0] 0\n",
      "[4279  802 1249 1581  329] 2499\n",
      "[4080 4080  143 4566  655] 0\n",
      "[ 186 3981 4566 3281  994] 427\n",
      "[3900 4628 2228 4630 4627] 2262\n",
      "[4292 4655 2008 2009 2063] 4566\n",
      "[998   0   0   0   0] 0\n",
      "[3910 2695 1178  930 2947] 933\n",
      "[3859    0    0    0    0] 0\n",
      "[ 279  898 4566 4633 3619] 4647\n",
      "[43  0  0  0  0] 0\n",
      "[4606 2049  105  861 3211] 2037\n",
      "[1526    0    0    0    0] 0\n",
      "[3962 4631 4628 4607 4626] 4630\n",
      "[ 108 2835 3833 4641 4628] 1821\n",
      "[4625   40 4642 1997 2629] 3641\n",
      "[4566 4569 4568 1788    0] 0\n",
      "[3775 1760    0    0    0] 0\n",
      "[1246    0    0    0    0] 0\n",
      "[1507    0    0    0    0] 0\n",
      "[3890 4631 4628 4607 4626] 4630\n",
      "[3889   48   48   51  150] 49\n",
      "[ 450 1018  309  307   69] 4185\n",
      "[3859    0    0    0    0] 0\n",
      "[645   0   0   0   0] 0\n",
      "[1507    0    0    0    0] 0\n",
      "[4277 3390 1541 3389 4655] 1544\n",
      "[4178  401  398  402 4607] 2137\n",
      "[1661    0    0    0    0] 0\n",
      "[1109    0    0    0    0] 0\n",
      "[598 150   0   0   0] 0\n",
      "[1593 1593    0    0    0] 0\n",
      "[1107 1106 1106    0    0] 0\n",
      "[ 122 4607 4609  387 4641] 4633\n",
      "[4637 2273 4622 2286 2275] 2307\n",
      "[4566    0    0    0    0] 0\n",
      "[3911 1034 4566 3220 2956] 143\n",
      "[4119 4566 1603 1604   76] 3896\n",
      "[1659    0    0    0    0] 0\n",
      "[4625 2967   30 3844 2844] 1792\n",
      "[1166 1083 1088 1089 1091] 1085\n",
      "[1678    0    0    0    0] 0\n",
      "[535   0   0   0   0] 0\n",
      "[  80  497 2631 3542 2311] 2037\n",
      "[1145 1146 4608 4568 4654] 4637\n",
      "[1593    0    0    0    0] 0\n",
      "[ 173  946 4630  983 4609] 4647\n",
      "[4079  389   44 4566 1173] 3135\n",
      "[4624 4636 2390   72 4566] 4568\n",
      "[4623 4566 4651 4630 4631] 4647\n",
      "[3269    0    0    0    0] 0\n",
      "[3863 4180  310 3860 1244] 386\n",
      "[ 113 1892 4566 4617 4618] 2105\n",
      "[3791    0    0    0    0] 0\n",
      "[4196 2662 4566 2564 4568] 2663\n",
      "[  25 2320 2779 2104   24] 3011\n",
      "[106   0   0   0   0] 0\n",
      "[ 895 1032 1152  885 1016] 3680\n",
      "[4566    0    0    0    0] 0\n",
      "[4271 4566 1504 1496 1497] 3288\n",
      "[3919 4566 4566 4138 4566] 0\n",
      "[ 486 4647 4627 3740 4633] 2055\n",
      "[4191    0    0    0    0] 0\n",
      "[ 515 1628    0    0    0] 0\n",
      "[ 112 3690 3714 3709 3695] 539\n",
      "[43  0  0  0  0] 0\n",
      "[1675    0    0    0    0] 0\n",
      "[1507  515 1628    0    0] 0\n",
      "[150   0   0   0   0] 0\n",
      "[1256    0    0    0    0] 0\n",
      "[1628  515    0    0    0] 0\n",
      "[1515    0    0    0    0] 0\n",
      "[43  0  0  0  0] 0\n",
      "[4253 4109 4566  143 4631] 4628\n",
      "[1036    0    0    0    0] 0\n",
      "[1507  515 1628    0    0] 0\n",
      "[1526    0    0    0    0] 0\n",
      "[1939  333  113  419 2767] 3537\n",
      "[1526    0    0    0    0] 0\n",
      "[4637 4638 4638 4637 4637] 4638\n",
      "[4566    0    0    0    0] 0\n",
      "[1681 4067 3134 3373   46] 4566\n",
      "[1611    0    0    0    0] 0\n",
      "[1507  515 1628    0    0] 0\n",
      "[4626 4627 4609 4630 2953] 4628\n",
      "[ 515 1628 1478    0    0] 0\n",
      "[3992  143 3214 2109 3212] 4566\n",
      "[1507  515 1628 1314 1288] 1287\n",
      "[1254    0    0    0    0] 0\n",
      "[1551 1676    0    0    0] 0\n",
      "[4081   46 4566  710  711] 4606\n",
      "[  43 4055 4631 4630 4628] 4626\n",
      "[1551    0    0    0    0] 0\n",
      "[1166 1654 1655    0    0] 0\n",
      "[150   0   0   0   0] 0\n",
      "[1551    0    0    0    0] 0\n",
      "[1042    0    0    0    0] 0\n",
      "[43  0  0  0  0] 0\n",
      "[2049  737  542  861  586] 1335\n",
      "[1679    0    0    0    0] 0\n",
      "[3892 4626 4631 4628 4607] 4627\n",
      "[4267 4267 4627 4626 4607] 4116\n",
      "[4252 4566 4568  321  299] 3089\n",
      "[1597    0    0    0    0] 0\n",
      "[1314    0    0    0    0] 0\n",
      "[4078 4566  384   46  385] 3673\n",
      "[  46 4566  143    0    0] 0\n",
      "[4037 4037 4631 4607 4626] 4630\n",
      "[4206 4088 4566    0    0] 0\n",
      "[1551    0    0    0    0] 0\n",
      "[4579 4578 4604 4574 4634] 0\n",
      "[327 326 308 123 118] 102\n",
      "[4566    0    0    0    0] 0\n",
      "[1845   38 3313 3262    0] 0\n",
      "[3590 4566 3827 3821 3588] 3824\n",
      "[4566    0    0    0    0] 0\n",
      "[3647    0    0    0    0] 0\n",
      "[  43 3894 4628 4631 4607] 4626\n",
      "[1507  515 1478 1628  521] 1629\n",
      "[1507 1628  515 1478    0] 0\n",
      "[ 150 4058 4566  150 3446] 4059\n",
      "[ 136   46  130 4566  136] 130\n",
      "[ 515 1628    0    0    0] 0\n",
      "[4111 4566 1364 1363 3522] 1460\n",
      "[3902 4628 4627 4626 4607] 4630\n",
      "[1507    0    0    0    0] 0\n",
      "[1680    0    0    0    0] 0\n",
      "[4108 4631 4566  150 4628] 4630\n",
      "[43  0  0  0  0] 0\n",
      "[4566  150    0    0    0] 0\n",
      "[1411    0    0    0    0] 0\n",
      "[1083    0    0    0    0] 0\n",
      "[1507    0    0    0    0] 0\n",
      "[1551    0    0    0    0] 0\n",
      "[4139    0    0    0    0] 0\n",
      "[3957 3957 4627 4631 4630] 3634\n",
      "[3901 4607 4631 4630 4627] 4626\n",
      "[4105 4566 3794 1144  770] 3785\n",
      "[1507    0    0    0    0] 0\n",
      "[1368    0    0    0    0] 0\n",
      "[1507  515 1628    0    0] 0\n",
      "[3897 4566    0    0    0] 0\n",
      "[3954 4627 4631 4626 4628] 4607\n",
      "[3433    0    0    0    0] 0\n",
      "[1957  541    0    0    0] 0\n",
      "[908   0   0   0   0] 0\n",
      "[ 541 4566 4618 4654 3700] 3735\n",
      "[2928  150    0    0    0] 0\n",
      "[1160  150 4634 4625    1] 2\n",
      "[  52 1737  415 1761 1382] 1776\n",
      "[4248 4622 1258  329 4655] 1283\n",
      "[ 515 1628 1478 1524    0] 0\n",
      "[1710 1012 3071 1762 4633] 3115\n",
      "[1680 1478 1524 1682    0] 0\n",
      "[1659 1657 1658    0    0] 0\n",
      "[3397 3376 1903 3521 3622] 238\n",
      "[3859    0    0    0    0] 0\n",
      "[3904 1833 4630 3734 4607] 3620\n",
      "[43  0  0  0  0] 0\n",
      "[4139 4139 4139 4139 4139] 4139\n",
      "[ 191 2100 2098 2805 2764] 2773\n",
      "[4561   83   84   85   86] 90\n",
      "[ 110 3907 4607 3552 4631] 584\n",
      "[4127    0    0    0    0] 0\n",
      "[1609 1611    0    0    0] 0\n",
      "[  43 3917  150 4630 4631] 4628\n",
      "[289   0   0   0   0] 0\n",
      "[195   0   0   0   0] 0\n",
      "[184   0   0   0   0] 0\n",
      "[296   0   0   0   0] 0\n",
      "[4192    0    0    0    0] 0\n",
      "[301   0   0   0   0] 0\n",
      "[269   0   0   0   0] 0\n",
      "[188   0   0   0   0] 0\n",
      "[266   0   0   0   0] 0\n",
      "[271   0   0   0   0] 0\n",
      "[152   0   0   0   0] 0\n",
      "[270   0   0   0   0] 0\n",
      "[153   0   0   0   0] 0\n",
      "[177   0   0   0   0] 0\n",
      "[287   0   0   0   0] 0\n",
      "[4286  154    0    0    0] 0\n",
      "[190   0   0   0   0] 0\n",
      "[179   0   0   0   0] 0\n",
      "[267   0   0   0   0] 0\n",
      "[268   0   0   0   0] 0\n",
      "[157   0   0   0   0] 0\n",
      "[4296    0    0    0    0] 0\n",
      "[ 67 174   0   0   0] 0\n",
      "[4221    0    0    0    0] 0\n",
      "[298   0   0   0   0] 0\n",
      "[167   0   0   0   0] 0\n",
      "[284   0   0   0   0] 0\n",
      "[276   0   0   0   0] 0\n",
      "[169   0   0   0   0] 0\n",
      "[294   0   0   0   0] 0\n",
      "[175   0   0   0   0] 0\n",
      "[172   0   0   0   0] 0\n",
      "[275   0   0   0   0] 0\n",
      "[187   0   0   0   0] 0\n",
      "[68  0  0  0  0] 0\n",
      "[168   0   0   0   0] 0\n",
      "[295   0   0   0   0] 0\n",
      "[189   0   0   0   0] 0\n",
      "[151   0   0   0   0] 0\n",
      "[290   0   0   0   0] 0\n",
      "[166   0   0   0   0] 0\n",
      "[1040 1040    0    0    0] 0\n",
      "[1238 1237 1239 1236    0] 0\n",
      "[ 114  350 4637 3250 3105] 4622\n",
      "[1240 4568 4566    0    0] 0\n",
      "[ 113 4566 1939 3841  333] 419\n",
      "[4101 3990 3938 4209 4190] 3929\n",
      "[4565  120    0    0    0] 0\n",
      "[1319  802  221  237  291] 1327\n",
      "[ 226  207 4207  222 3365] 256\n",
      "[1149    0    0    0    0] 0\n",
      "[4237  143 4106    0    0] 0\n",
      "[4107 3889 3889    0    0] 0\n",
      "[4236 4566    0    0    0] 0\n",
      "[1314 3541 1937 2317  638] 1168\n",
      "[1167  723 1169 1746 2630] 4615\n",
      "[1288 1286 1287 2594 1726] 2055\n",
      "[3977    0    0    0    0] 0\n",
      "[  43 4042 3494 2758 4628] 3666\n",
      "[ 541  537  539 3740 4637] 4629\n",
      "[4566 3240 2742 3085 3187] 442\n",
      "[4302 4566 4568 4566 2003] 2000\n",
      "[1597   80 2631 1157 4633] 4609\n",
      "[1288 1314 1287 1286 1190] 1256\n",
      "[  82 3451 3507 3503 4568] 3578\n",
      "[1745 4566  712 4323 4568] 3203\n",
      "[ 194 1786 4637 1752  967] 3602\n",
      "[4276 1527 1525 1535 1529] 1536\n",
      "[ 105 2768 4566  124    0] 0\n",
      "[1507  515 1628  521 1478] 518\n",
      "[43  0  0  0  0] 0\n",
      "[ 329 4248 4622 1268 1285] 1283\n",
      "[3859    0    0    0    0] 0\n",
      "[4140 4140 4141 4141    0] 0\n",
      "[1287 1288 1314 1286 1190] 0\n",
      "[1551    0    0    0    0] 0\n",
      "[ 898 4635  541 3841  860] 1012\n",
      "[ 727 4642  726 1425  725] 2697\n",
      "[4566 4568 4566 4568  125] 4567\n",
      "[ 113 4637 3549 1939  526] 558\n",
      "[4259 4633 4566 4647 4607] 1369\n",
      "[  33 2669 2667  568 3609] 2644\n",
      "[ 132  132  137  131 4566] 4634\n",
      "[4072 4133 4566 4071 4132] 4071\n",
      "[ 515 1628    0    0    0] 0\n",
      "[ 942 4566  948 1041 3168] 947\n",
      "[1628    0    0    0    0] 0\n",
      "[43  0  0  0  0] 0\n",
      "[ 765 1598 3647 3678    0] 0\n",
      "[4568    0    0    0    0] 0\n",
      "[4249  452 3192 3207 4566] 1289\n",
      "[ 147 1872  835  807  814] 2342\n",
      "[3793    0    0    0    0] 0\n",
      "[3772 3771    0    0    0] 0\n",
      "[1551    0    0    0    0] 0\n",
      "[ 127 4647 4623 4633 4612] 4607\n",
      "[ 192  784 1155  907  649] 785\n",
      "[4651 4568 4640 4619 4623] 0\n",
      "[43  0  0  0  0] 0\n",
      "[4242 4607 4655 1199 4612] 4621\n",
      "[1287 1314 1288 1310 1190] 1286\n",
      "[1602    0    0    0    0] 0\n",
      "[4110   44 4566 4628 1321] 4626\n",
      "[4224 4103  150   51   50] 49\n",
      "[4070 2535  985 4130 4566] 2042\n",
      "[4566    0    0    0    0] 0\n",
      "[1288 1314 1287 1286 1190] 1300\n",
      "[3903    0    0    0    0] 0\n",
      "[1158  150  862 1336  324] 324\n",
      "[ 140 1509 1512 1511 4566] 4275\n",
      "[2979 3511 3053 1514 1510] 4579\n",
      "[1593    0    0    0    0] 0\n",
      "[4069 4128 4626 4628 4631] 4630\n",
      "[3881    0    0    0    0] 0\n",
      "[1507 1628  515    0    0] 0\n",
      "[4566 4623 4568    0    0] 0\n",
      "[945 150   0   0   0] 0\n",
      "[4326 4326 4328 4663 1600] 4536\n",
      "[1039    0    0    0    0] 0\n",
      "[4205 4226 4216 4250 4225] 4223\n",
      "[ 297 2965 4566 4568    0] 0\n",
      "[1315  620    0    0    0] 0\n",
      "[4637 2953  486 4630 3740] 330\n",
      "[1609    0    0    0    0] 0\n",
      "[4270 1479 4633 4655 4647] 2836\n",
      "[  81 4633 2571 4647 2575] 4607\n",
      "[4283 1646 1637 1644 2172] 1650\n",
      "[1609 1611    0    0    0] 0\n",
      "[4566  541 4607 3740 3730] 1957\n",
      "[170 946 584 735 653] 4622\n",
      "[1726    0    0    0    0] 0\n",
      "[4063 4063 4063 4566 2410] 2312\n",
      "[43  0  0  0  0] 0\n",
      "[4232 4239 4231    0    0] 0\n"
     ]
    }
   ],
   "source": [
    "for i in range(len(fifth_pad_page_id)):\n",
    "    print(fifth_pad_page_id[i], y[i])"
   ]
  },
  {
   "cell_type": "code",
   "execution_count": 53,
   "id": "d8b8993a-665c-4c62-a275-89c84e5c10b8",
   "metadata": {},
   "outputs": [],
   "source": [
    "n_steps=5\n",
    "n_features=1"
   ]
  },
  {
   "cell_type": "code",
   "execution_count": 54,
   "id": "4b03740f-61c6-4991-a3b2-aeeeb317aacf",
   "metadata": {
    "scrolled": true
   },
   "outputs": [
    {
     "name": "stdout",
     "output_type": "stream",
     "text": [
      "Epoch 1/20\n"
     ]
    },
    {
     "name": "stdout",
     "output_type": "stream",
     "text": [
      "12/12 [==============================] - 4s 5ms/step - loss: 2516759.5000 - accuracy: 0.3787\n",
      "Epoch 2/20\n",
      "12/12 [==============================] - 0s 4ms/step - loss: 1477351.8750 - accuracy: 0.4507\n",
      "Epoch 3/20\n",
      "12/12 [==============================] - 0s 4ms/step - loss: 1468421.0000 - accuracy: 0.4507\n",
      "Epoch 4/20\n",
      "12/12 [==============================] - 0s 6ms/step - loss: 1494373.3750 - accuracy: 0.4880\n",
      "Epoch 5/20\n",
      "12/12 [==============================] - 0s 4ms/step - loss: 1411329.2500 - accuracy: 0.4853\n",
      "Epoch 6/20\n",
      "12/12 [==============================] - 0s 4ms/step - loss: 1361273.2500 - accuracy: 0.4560\n",
      "Epoch 7/20\n",
      "12/12 [==============================] - 0s 4ms/step - loss: 1426008.6250 - accuracy: 0.4320\n",
      "Epoch 8/20\n",
      "12/12 [==============================] - 0s 4ms/step - loss: 1388761.2500 - accuracy: 0.4267\n",
      "Epoch 9/20\n",
      "12/12 [==============================] - 0s 4ms/step - loss: 1274615.7500 - accuracy: 0.4587\n",
      "Epoch 10/20\n",
      "12/12 [==============================] - 0s 9ms/step - loss: 1238457.1250 - accuracy: 0.4533\n",
      "Epoch 11/20\n",
      "12/12 [==============================] - 0s 4ms/step - loss: 1187353.7500 - accuracy: 0.4560\n",
      "Epoch 12/20\n",
      "12/12 [==============================] - 0s 3ms/step - loss: 1286168.7500 - accuracy: 0.3947\n",
      "Epoch 13/20\n",
      "12/12 [==============================] - 0s 4ms/step - loss: 1233162.1250 - accuracy: 0.4480\n",
      "Epoch 14/20\n",
      "12/12 [==============================] - 0s 4ms/step - loss: 1386703.7500 - accuracy: 0.5040\n"
     ]
    },
    {
     "data": {
      "text/plain": [
       "<keras.src.callbacks.History at 0x1d5571479a0>"
      ]
     },
     "execution_count": 54,
     "metadata": {},
     "output_type": "execute_result"
    }
   ],
   "source": [
    "# Set random seeds for reproducibility\n",
    "np.random.seed(42)\n",
    "tf.random.set_seed(42)\n",
    "\n",
    "# Define your LSTM model_click\n",
    "model_click = Sequential()\n",
    "model_click.add(LSTM(50, activation='relu', input_shape=(n_steps, n_features)))\n",
    "model_click.add(Dense(1, activation='relu'))\n",
    "\n",
    "# Compile your model_click\n",
    "from keras.optimizers import Adam\n",
    "optimizer = Adam(learning_rate=0.01)\n",
    "model_click.compile(optimizer=optimizer, loss='mse', metrics=['accuracy'])\n",
    "\n",
    "# Define EarlyStopping\n",
    "early_stopping = EarlyStopping(monitor='loss', patience=3, restore_best_weights=True)\n",
    "\n",
    "# Train your model_click with Early Stopping\n",
    "model_click.fit(fifth_pad_page_id, y, epochs=20, verbose=1, batch_size=32, callbacks=[early_stopping])"
   ]
  },
  {
   "cell_type": "code",
   "execution_count": 55,
   "id": "76f06ebc-37e6-4c3d-bc59-3ff1c613ab79",
   "metadata": {},
   "outputs": [
    {
     "name": "stdout",
     "output_type": "stream",
     "text": [
      "[[   0    0    0    0    0]\n",
      " [4634 4568 4566 4568 3813]\n",
      " [4566 1071 1070 2037 1647]\n",
      " ...\n",
      " [4063 4063 4566 2410 3115]\n",
      " [   0    0    0    0    0]\n",
      " [4239 4231    0    0 1844]]\n"
     ]
    }
   ],
   "source": [
    "# Reshape the entire X for prediction\n",
    "#test_data = fifth_pad_page_id.reshape((fifth_pad_page_id.shape[0], 5, 1))\n",
    "test_data = fifth_pad_page_id.reshape((fifth_pad_page_id.shape[0], n_steps, n_features))\n",
    "\n",
    "# Initialize an empty list to store sequences\n",
    "first_click_prediction_data = []\n",
    "\n",
    "# Predict the next numbers for all sequences at once using the model test data\n",
    "predictions_one = model_click.predict(test_data, verbose=0)\n",
    "\n",
    "# Print the input sequences and predicted values\n",
    "for i in range(len(fifth_pad_page_id)):\n",
    "    input_sequence = fifth_pad_page_id[i].flatten()  # Flatten the input sequence\n",
    "    predicted_value = round(predictions_one[i][0])  # Round the predicted value\n",
    "    \n",
    "    input_sequence = input_sequence[1:]  # Remove the first element\n",
    "    modified_sequence = np.append(input_sequence, predicted_value)\n",
    "    first_click_prediction_data.append(modified_sequence)\n",
    "\n",
    "# Convert the list to a NumPy array\n",
    "first_click_prediction_data = np.array(first_click_prediction_data)\n",
    "\n",
    "# Print the resulting NumPy array\n",
    "print(first_click_prediction_data)"
   ]
  },
  {
   "cell_type": "code",
   "execution_count": 56,
   "id": "fd1c9eaf-cc43-4a2f-8f2b-f4e75bc8f24a",
   "metadata": {},
   "outputs": [
    {
     "data": {
      "text/plain": [
       "(375, 5)"
      ]
     },
     "execution_count": 56,
     "metadata": {},
     "output_type": "execute_result"
    }
   ],
   "source": [
    "first_click_prediction_data.shape"
   ]
  },
  {
   "cell_type": "markdown",
   "id": "e3d43957-1791-4913-8de5-a498a4aa8532",
   "metadata": {},
   "source": [
    "## Predicting 2nd click ##"
   ]
  },
  {
   "cell_type": "code",
   "execution_count": 57,
   "id": "18ef8e5b-d591-40b5-8f78-de8be2918cbb",
   "metadata": {},
   "outputs": [],
   "source": [
    "X_one = first_click_prediction_data"
   ]
  },
  {
   "cell_type": "code",
   "execution_count": 58,
   "id": "5a1b913d-a9d5-45dd-b7fa-9e511b012ea9",
   "metadata": {},
   "outputs": [
    {
     "name": "stdout",
     "output_type": "stream",
     "text": [
      "[[   0    0    0    0    1]\n",
      " [4568 4566 4568 3813 3647]\n",
      " [1071 1070 2037 1647 1816]\n",
      " ...\n",
      " [4063 4566 2410 3115 3044]\n",
      " [   0    0    0    0    1]\n",
      " [4231    0    0 1844 2504]]\n"
     ]
    }
   ],
   "source": [
    "# Reshape the entire X_one for prediction\n",
    "test_data = X_one.reshape((X_one.shape[0], n_steps, n_features))\n",
    "\n",
    "# Initialize an empty list to store sequences\n",
    "second_click_prediction_data = []\n",
    "\n",
    "# Predict the neX_onet numbers for all sequences at once using the model test data\n",
    "predictions_two = model_click.predict(test_data, verbose=0)\n",
    "\n",
    "# Print the input sequences and predicted values\n",
    "for i in range(len(X_one)):\n",
    "    input_sequence = X_one[i].flatten()  # Flatten the input sequence\n",
    "    predicted_value = round(predictions_two[i][0])  # Round the predicted value\n",
    "    input_sequence = input_sequence[1:]  # Remove the first element\n",
    "    modified_sequence = np.append(input_sequence, predicted_value)\n",
    "    second_click_prediction_data.append(modified_sequence)\n",
    "    #print(np.append(input_sequence, predicted_value))\n",
    "\n",
    "# Convert the list to a NumPy array\n",
    "second_click_prediction_data = np.array(second_click_prediction_data)\n",
    "\n",
    "# Print the resulting NumPy array\n",
    "print(second_click_prediction_data)"
   ]
  },
  {
   "cell_type": "markdown",
   "id": "faa5636a-77ee-48a3-8306-f3beb616cf2a",
   "metadata": {},
   "source": [
    "## Predicting 3rd click ##"
   ]
  },
  {
   "cell_type": "code",
   "execution_count": 59,
   "id": "f2def07b-174b-400b-811a-4dcf5108bad6",
   "metadata": {},
   "outputs": [],
   "source": [
    "X_two = second_click_prediction_data"
   ]
  },
  {
   "cell_type": "code",
   "execution_count": 60,
   "id": "874c0789-9382-4c8f-8d88-cc84cc55009e",
   "metadata": {},
   "outputs": [
    {
     "name": "stdout",
     "output_type": "stream",
     "text": [
      "[[   0    0    0    1    1]\n",
      " [4566 4568 3813 3647 3482]\n",
      " [1070 2037 1647 1816 1333]\n",
      " ...\n",
      " [4566 2410 3115 3044 2868]\n",
      " [   0    0    0    1    1]\n",
      " [   0    0 1844 2504 2530]]\n"
     ]
    }
   ],
   "source": [
    "# Reshape the entire X_two for prediction\n",
    "test_data = X_two.reshape((X_two.shape[0], n_steps, n_features))\n",
    "\n",
    "# Initialize an empty list to store sequences\n",
    "third_click_prediction_data = []\n",
    "\n",
    "# Predict the neX_twot numbers for all sequences at once using the model test data\n",
    "predictions_three = model_click.predict(test_data, verbose=0)\n",
    "\n",
    "# Print the input sequences and predicted values\n",
    "for i in range(len(X_two)):\n",
    "    input_sequence = X_two[i].flatten()  # Flatten the input sequence\n",
    "    predicted_value = round(predictions_three[i][0])  # Round the predicted value\n",
    "    input_sequence = input_sequence[1:]  # Remove the first element\n",
    "    modified_sequence = np.append(input_sequence, predicted_value)\n",
    "    third_click_prediction_data.append(modified_sequence)\n",
    "    #print(np.append(input_sequence, predicted_value))\n",
    "\n",
    "# Convert the list to a NumPy array\n",
    "third_click_prediction_data = np.array(third_click_prediction_data)\n",
    "\n",
    "# Print the resulting NumPy array\n",
    "print(third_click_prediction_data)"
   ]
  },
  {
   "cell_type": "markdown",
   "id": "f7843f9f-1898-472b-b504-27da44cf8604",
   "metadata": {},
   "source": [
    "## Complete_sequence_data ##"
   ]
  },
  {
   "cell_type": "code",
   "execution_count": 61,
   "id": "c82cd743-f4f8-44c1-bce6-57687779b293",
   "metadata": {
    "scrolled": true
   },
   "outputs": [
    {
     "name": "stdout",
     "output_type": "stream",
     "text": [
      "[4623, 0, 0, 0, 0, 0, 1, 1]\n",
      "[4566, 4634, 4568, 4566, 4568, 3813, 3647, 3482]\n",
      "[143, 4566, 1071, 1070, 2037, 1647, 1816, 1333]\n",
      "[3912, 4566, 4628, 4626, 2715, 3329, 3298, 3075]\n",
      "[4274, 0, 0, 0, 0, 0, 1, 1]\n",
      "[3922, 150, 4566, 4630, 351, 2583, 2416, 2850]\n",
      "[779, 0, 0, 0, 0, 0, 1, 1]\n",
      "[3904, 4607, 4627, 4631, 4628, 3756, 3660, 3508]\n",
      "[150, 4117, 4566, 1493, 1494, 2106, 2428, 2028]\n",
      "[1764, 4566, 4568, 132, 137, 1882, 2583, 2633]\n",
      "[4045, 44, 4631, 4628, 4626, 3801, 3134, 3397]\n",
      "[319, 288, 323, 311, 302, 258, 246, 238]\n",
      "[4324, 4620, 0, 0, 0, 905, 652, 337]\n",
      "[1069, 0, 0, 0, 0, 0, 1, 1]\n",
      "[43, 0, 0, 0, 0, 0, 1, 1]\n",
      "[4607, 3501, 3502, 3505, 3503, 3064, 2821, 2694]\n",
      "[3988, 4630, 4628, 4626, 4607, 3765, 3660, 3504]\n",
      "[1656, 0, 0, 0, 0, 0, 1, 1]\n",
      "[1683, 1579, 0, 0, 0, 325, 230, 121]\n",
      "[43, 0, 0, 0, 0, 0, 1, 1]\n",
      "[43, 4038, 4607, 4628, 4626, 3249, 3469, 3400]\n",
      "[754, 0, 0, 0, 0, 0, 1, 1]\n",
      "[1007, 150, 0, 0, 0, 79, 58, 34]\n",
      "[1608, 0, 0, 0, 0, 0, 1, 1]\n",
      "[3717, 3715, 3716, 3697, 3696, 3087, 2950, 2821]\n",
      "[4284, 4566, 4568, 4285, 1665, 3045, 3050, 2810]\n",
      "[105, 3681, 3735, 3730, 541, 1943, 2385, 2274]\n",
      "[4274, 4118, 142, 143, 4566, 3284, 3118, 2143]\n",
      "[4648, 4632, 4649, 4664, 4662, 3875, 3704, 3547]\n",
      "[3889, 48, 50, 150, 51, 472, 199, 188]\n",
      "[320, 631, 241, 1298, 1252, 732, 726, 732]\n",
      "[3725, 3724, 3726, 0, 0, 1622, 2203, 2227]\n",
      "[4566, 4568, 0, 0, 0, 917, 654, 339]\n",
      "[992, 0, 0, 0, 0, 0, 1, 1]\n",
      "[182, 183, 239, 240, 0, 109, 142, 160]\n",
      "[4570, 4570, 4570, 4570, 4570, 3806, 3638, 3481]\n",
      "[4261, 4607, 1386, 4647, 1401, 2734, 2623, 2279]\n",
      "[2869, 2871, 0, 0, 0, 576, 411, 214]\n",
      "[46, 4566, 46, 0, 0, 448, 455, 226]\n",
      "[1738, 967, 194, 1765, 1752, 1202, 1057, 1029]\n",
      "[116, 4622, 4566, 2944, 3273, 2719, 2948, 2707]\n",
      "[4625, 3086, 2830, 3011, 860, 2195, 2058, 1909]\n",
      "[541, 519, 539, 522, 4609, 1655, 1578, 1653]\n",
      "[3870, 3872, 3871, 3869, 3876, 3225, 3083, 2950]\n",
      "[4625, 951, 917, 2111, 2905, 2138, 1616, 1631]\n",
      "[1138, 565, 736, 1783, 1978, 1151, 1090, 1135]\n",
      "[571, 4278, 1550, 1564, 1561, 1685, 1751, 1369]\n",
      "[3548, 150, 0, 0, 0, 320, 171, 104]\n",
      "[4200, 748, 762, 4655, 764, 2034, 1752, 1874]\n",
      "[105, 4566, 497, 3735, 1335, 1979, 2336, 1782]\n",
      "[181, 3344, 1087, 2613, 871, 1390, 1589, 1321]\n",
      "[4181, 4566, 4568, 4639, 0, 2095, 2768, 3055]\n",
      "[1360, 1357, 1359, 1452, 1108, 1095, 1053, 992]\n",
      "[1036, 1507, 0, 0, 0, 151, 152, 71]\n",
      "[1314, 1287, 1288, 1286, 0, 602, 780, 858]\n",
      "[3899, 3396, 3427, 3452, 3455, 2924, 2749, 2633]\n",
      "[43, 0, 0, 0, 0, 0, 1, 1]\n",
      "[1507, 515, 1628, 1629, 1478, 1163, 1086, 1143]\n",
      "[354, 150, 0, 0, 0, 45, 41, 23]\n",
      "[571, 1026, 135, 4566, 4568, 2340, 2356, 2444]\n",
      "[109, 391, 349, 3653, 557, 1037, 1190, 1333]\n",
      "[43, 0, 0, 0, 0, 0, 1, 1]\n",
      "[1678, 0, 0, 0, 0, 0, 1, 1]\n",
      "[43, 0, 0, 0, 0, 0, 1, 1]\n",
      "[1308, 0, 0, 0, 0, 0, 1, 1]\n",
      "[2891, 104, 4566, 4568, 4179, 3242, 2912, 3178]\n",
      "[4566, 4647, 4607, 4633, 4609, 3842, 3678, 3516]\n",
      "[1551, 0, 0, 0, 0, 0, 1, 1]\n",
      "[4115, 4089, 0, 0, 0, 823, 586, 304]\n",
      "[1628, 515, 0, 0, 0, 128, 133, 62]\n",
      "[4607, 3891, 4631, 4627, 4630, 3755, 3565, 3487]\n",
      "[4607, 4609, 0, 0, 0, 925, 659, 342]\n",
      "[105, 3730, 4566, 4607, 861, 2324, 2779, 2742]\n",
      "[4566, 4569, 4568, 604, 1138, 2615, 2592, 2161]\n",
      "[2845, 0, 0, 0, 0, 0, 1, 1]\n",
      "[1507, 1478, 1628, 515, 0, 754, 864, 779]\n",
      "[4279, 802, 1249, 1581, 329, 1368, 973, 971]\n",
      "[4080, 4080, 143, 4566, 655, 2584, 2841, 2044]\n",
      "[186, 3981, 4566, 3281, 994, 2153, 2525, 2357]\n",
      "[3900, 4628, 2228, 4630, 4627, 3491, 3285, 3041]\n",
      "[4292, 4655, 2008, 2009, 2063, 2547, 2193, 1825]\n",
      "[998, 0, 0, 0, 0, 0, 1, 1]\n",
      "[3910, 2695, 1178, 930, 2947, 2106, 1720, 1531]\n",
      "[3859, 0, 0, 0, 0, 0, 1, 1]\n",
      "[279, 898, 4566, 4633, 3619, 2609, 2757, 2973]\n",
      "[43, 0, 0, 0, 0, 0, 1, 1]\n",
      "[4606, 2049, 105, 861, 3211, 2320, 1800, 1508]\n",
      "[1526, 0, 0, 0, 0, 0, 1, 1]\n",
      "[3962, 4631, 4628, 4607, 4626, 3762, 3660, 3505]\n",
      "[108, 2835, 3833, 4641, 4628, 2996, 3150, 3188]\n",
      "[4625, 40, 4642, 1997, 2629, 3136, 2211, 2378]\n",
      "[4566, 4569, 4568, 1788, 0, 2245, 2580, 2303]\n",
      "[3775, 1760, 0, 0, 0, 327, 241, 124]\n",
      "[1246, 0, 0, 0, 0, 0, 1, 1]\n",
      "[1507, 0, 0, 0, 0, 0, 1, 1]\n",
      "[3890, 4631, 4628, 4607, 4626, 3753, 3658, 3503]\n",
      "[3889, 48, 48, 51, 150, 480, 196, 188]\n",
      "[450, 1018, 309, 307, 69, 353, 369, 260]\n",
      "[3859, 0, 0, 0, 0, 0, 1, 1]\n",
      "[645, 0, 0, 0, 0, 0, 1, 1]\n",
      "[1507, 0, 0, 0, 0, 0, 1, 1]\n",
      "[4277, 3390, 1541, 3389, 4655, 3067, 2754, 2612]\n",
      "[4178, 401, 398, 402, 4607, 2430, 1689, 1734]\n",
      "[1661, 0, 0, 0, 0, 0, 1, 1]\n",
      "[1109, 0, 0, 0, 0, 0, 1, 1]\n",
      "[598, 150, 0, 0, 0, 53, 50, 27]\n",
      "[1593, 1593, 0, 0, 0, 320, 228, 120]\n",
      "[1107, 1106, 1106, 0, 0, 482, 654, 662]\n",
      "[122, 4607, 4609, 387, 4641, 2936, 3325, 3064]\n",
      "[4637, 2273, 4622, 2286, 2275, 2682, 2399, 2317]\n",
      "[4566, 0, 0, 0, 0, 0, 1, 1]\n",
      "[3911, 1034, 4566, 3220, 2956, 2711, 2461, 2582]\n",
      "[4119, 4566, 1603, 1604, 76, 1815, 1822, 1416]\n",
      "[1659, 0, 0, 0, 0, 0, 1, 1]\n",
      "[4625, 2967, 30, 3844, 2844, 2957, 2660, 2164]\n",
      "[1166, 1083, 1088, 1089, 1091, 918, 870, 833]\n",
      "[1678, 0, 0, 0, 0, 0, 1, 1]\n",
      "[535, 0, 0, 0, 0, 0, 1, 1]\n",
      "[80, 497, 2631, 3542, 2311, 1722, 1830, 1976]\n",
      "[1145, 1146, 4608, 4568, 4654, 2985, 3056, 3273]\n",
      "[1593, 0, 0, 0, 0, 0, 1, 1]\n",
      "[173, 946, 4630, 983, 4609, 2390, 2554, 2684]\n",
      "[4079, 389, 44, 4566, 1173, 2346, 1640, 1726]\n",
      "[4624, 4636, 2390, 72, 4566, 3260, 3010, 2633]\n",
      "[4623, 4566, 4651, 4630, 4631, 3850, 3679, 3528]\n",
      "[3269, 0, 0, 0, 0, 0, 1, 1]\n",
      "[3863, 4180, 310, 3860, 1244, 2535, 2499, 1897]\n",
      "[113, 1892, 4566, 4617, 4618, 2966, 3119, 3279]\n",
      "[3791, 0, 0, 0, 0, 0, 1, 1]\n",
      "[4196, 2662, 4566, 2564, 4568, 3240, 2982, 2964]\n",
      "[25, 2320, 2779, 2104, 24, 941, 1400, 1533]\n",
      "[106, 0, 0, 0, 0, 0, 1, 1]\n",
      "[895, 1032, 1152, 885, 1016, 836, 808, 774]\n",
      "[4566, 0, 0, 0, 0, 0, 1, 1]\n",
      "[4271, 4566, 1504, 1496, 1497, 2312, 1938, 1503]\n",
      "[3919, 4566, 4566, 4138, 4566, 3643, 3532, 3371]\n",
      "[486, 4647, 4627, 3740, 4633, 3230, 3412, 3256]\n",
      "[4191, 0, 0, 0, 0, 0, 1, 1]\n",
      "[515, 1628, 0, 0, 0, 221, 189, 92]\n",
      "[112, 3690, 3714, 3709, 3695, 2675, 2857, 2752]\n",
      "[43, 0, 0, 0, 0, 0, 1, 1]\n",
      "[1675, 0, 0, 0, 0, 0, 1, 1]\n",
      "[1507, 515, 1628, 0, 0, 613, 735, 900]\n",
      "[150, 0, 0, 0, 0, 0, 1, 1]\n",
      "[1256, 0, 0, 0, 0, 0, 1, 1]\n",
      "[1628, 515, 0, 0, 0, 128, 133, 62]\n",
      "[1515, 0, 0, 0, 0, 0, 1, 1]\n",
      "[43, 0, 0, 0, 0, 0, 1, 1]\n",
      "[4253, 4109, 4566, 143, 4631, 3496, 3485, 3384]\n",
      "[1036, 0, 0, 0, 0, 0, 1, 1]\n",
      "[1507, 515, 1628, 0, 0, 613, 735, 900]\n",
      "[1526, 0, 0, 0, 0, 0, 1, 1]\n",
      "[1939, 333, 113, 419, 2767, 1281, 1000, 1024]\n",
      "[1526, 0, 0, 0, 0, 0, 1, 1]\n",
      "[4637, 4638, 4638, 4637, 4637, 3862, 3692, 3532]\n",
      "[4566, 0, 0, 0, 0, 0, 1, 1]\n",
      "[1681, 4067, 3134, 3373, 46, 1489, 2211, 2234]\n",
      "[1611, 0, 0, 0, 0, 0, 1, 1]\n",
      "[1507, 515, 1628, 0, 0, 613, 735, 900]\n",
      "[4626, 4627, 4609, 4630, 2953, 3482, 3368, 3129]\n",
      "[515, 1628, 1478, 0, 0, 437, 827, 845]\n",
      "[3992, 143, 3214, 2109, 3212, 2722, 2043, 2179]\n",
      "[1507, 515, 1628, 1314, 1288, 1065, 983, 1025]\n",
      "[1254, 0, 0, 0, 0, 0, 1, 1]\n",
      "[1551, 1676, 0, 0, 0, 327, 236, 123]\n",
      "[4081, 46, 4566, 710, 711, 2373, 1678, 1883]\n",
      "[43, 4055, 4631, 4630, 4628, 3255, 3477, 3407]\n",
      "[1551, 0, 0, 0, 0, 0, 1, 1]\n",
      "[1166, 1654, 1655, 0, 0, 643, 959, 975]\n",
      "[150, 0, 0, 0, 0, 0, 1, 1]\n",
      "[1551, 0, 0, 0, 0, 0, 1, 1]\n",
      "[1042, 0, 0, 0, 0, 0, 1, 1]\n",
      "[43, 0, 0, 0, 0, 0, 1, 1]\n",
      "[2049, 737, 542, 861, 586, 781, 599, 559]\n",
      "[1679, 0, 0, 0, 0, 0, 1, 1]\n",
      "[3892, 4626, 4631, 4628, 4607, 3752, 3658, 3503]\n",
      "[4267, 4267, 4627, 4626, 4607, 3753, 3609, 3492]\n",
      "[4252, 4566, 4568, 321, 299, 2280, 2590, 2393]\n",
      "[1597, 0, 0, 0, 0, 0, 1, 1]\n",
      "[1314, 0, 0, 0, 0, 0, 1, 1]\n",
      "[4078, 4566, 384, 46, 385, 1774, 2005, 986]\n",
      "[46, 4566, 143, 0, 0, 617, 700, 362]\n",
      "[4037, 4037, 4631, 4607, 4626, 3696, 3567, 3477]\n",
      "[4206, 4088, 4566, 0, 0, 1879, 2584, 2685]\n",
      "[1551, 0, 0, 0, 0, 0, 1, 1]\n",
      "[4579, 4578, 4604, 4574, 4634, 3829, 3661, 3506]\n",
      "[327, 326, 308, 123, 118, 197, 187, 158]\n",
      "[4566, 0, 0, 0, 0, 0, 1, 1]\n",
      "[1845, 38, 3313, 3262, 0, 1543, 1685, 2111]\n",
      "[3590, 4566, 3827, 3821, 3588, 3196, 3104, 2883]\n",
      "[4566, 0, 0, 0, 0, 0, 1, 1]\n",
      "[3647, 0, 0, 0, 0, 0, 1, 1]\n",
      "[43, 3894, 4628, 4631, 4607, 3228, 3445, 3392]\n",
      "[1507, 515, 1478, 1628, 521, 922, 889, 940]\n",
      "[1507, 1628, 515, 1478, 0, 781, 850, 839]\n",
      "[150, 4058, 4566, 150, 3446, 2587, 3048, 2949]\n",
      "[136, 46, 130, 4566, 136, 943, 1266, 1642]\n",
      "[515, 1628, 0, 0, 0, 221, 189, 92]\n",
      "[4111, 4566, 1364, 1363, 3522, 2745, 2349, 1965]\n",
      "[3902, 4628, 4627, 4626, 4607, 3753, 3657, 3502]\n",
      "[1507, 0, 0, 0, 0, 0, 1, 1]\n",
      "[1680, 0, 0, 0, 0, 0, 1, 1]\n",
      "[4108, 4631, 4566, 150, 4628, 3555, 3591, 3411]\n",
      "[43, 0, 0, 0, 0, 0, 1, 1]\n",
      "[4566, 150, 0, 0, 0, 289, 163, 97]\n",
      "[1411, 0, 0, 0, 0, 0, 1, 1]\n",
      "[1083, 0, 0, 0, 0, 0, 1, 1]\n",
      "[1507, 0, 0, 0, 0, 0, 1, 1]\n",
      "[1551, 0, 0, 0, 0, 0, 1, 1]\n",
      "[4139, 0, 0, 0, 0, 0, 1, 1]\n",
      "[3957, 3957, 4627, 4631, 4630, 3680, 3557, 3476]\n",
      "[3901, 4607, 4631, 4630, 4627, 3756, 3660, 3508]\n",
      "[4105, 4566, 3794, 1144, 770, 2300, 2266, 1802]\n",
      "[1507, 0, 0, 0, 0, 0, 1, 1]\n",
      "[1368, 0, 0, 0, 0, 0, 1, 1]\n",
      "[1507, 515, 1628, 0, 0, 613, 735, 900]\n",
      "[3897, 4566, 0, 0, 0, 865, 632, 324]\n",
      "[3954, 4627, 4631, 4626, 4628, 3765, 3664, 3510]\n",
      "[3433, 0, 0, 0, 0, 0, 1, 1]\n",
      "[1957, 541, 0, 0, 0, 158, 169, 77]\n",
      "[908, 0, 0, 0, 0, 0, 1, 1]\n",
      "[541, 4566, 4618, 4654, 3700, 3156, 3384, 3203]\n",
      "[2928, 150, 0, 0, 0, 260, 156, 90]\n",
      "[1160, 150, 4634, 4625, 1, 1443, 2182, 2809]\n",
      "[52, 1737, 415, 1761, 1382, 1008, 1081, 966]\n",
      "[4248, 4622, 1258, 329, 4655, 3058, 2668, 2173]\n",
      "[515, 1628, 1478, 1524, 0, 628, 909, 989]\n",
      "[1710, 1012, 3071, 1762, 4633, 2354, 2288, 2412]\n",
      "[1680, 1478, 1524, 1682, 0, 745, 958, 1072]\n",
      "[1659, 1657, 1658, 0, 0, 722, 981, 992]\n",
      "[3397, 3376, 1903, 3521, 3622, 2725, 2542, 2381]\n",
      "[3859, 0, 0, 0, 0, 0, 1, 1]\n",
      "[3904, 1833, 4630, 3734, 4607, 3255, 3059, 3176]\n",
      "[43, 0, 0, 0, 0, 0, 1, 1]\n",
      "[4139, 4139, 4139, 4139, 4139, 3447, 3295, 3153]\n",
      "[191, 2100, 2098, 2805, 2764, 1831, 1927, 1895]\n",
      "[4561, 83, 84, 85, 86, 531, 214, 201]\n",
      "[110, 3907, 4607, 3552, 4631, 3053, 3249, 3167]\n",
      "[4127, 0, 0, 0, 0, 0, 1, 1]\n",
      "[1609, 1611, 0, 0, 0, 323, 231, 121]\n",
      "[43, 3917, 150, 4630, 4631, 2961, 3264, 2737]\n",
      "[289, 0, 0, 0, 0, 1, 1, 1]\n",
      "[195, 0, 0, 0, 0, 0, 1, 1]\n",
      "[184, 0, 0, 0, 0, 0, 1, 1]\n",
      "[296, 0, 0, 0, 0, 2, 1, 2]\n",
      "[4192, 0, 0, 0, 0, 0, 1, 1]\n",
      "[301, 0, 0, 0, 0, 2, 1, 2]\n",
      "[269, 0, 0, 0, 0, 0, 1, 1]\n",
      "[188, 0, 0, 0, 0, 0, 1, 1]\n",
      "[266, 0, 0, 0, 0, 0, 1, 1]\n",
      "[271, 0, 0, 0, 0, 0, 1, 1]\n",
      "[152, 0, 0, 0, 0, 0, 1, 1]\n",
      "[270, 0, 0, 0, 0, 0, 1, 1]\n",
      "[153, 0, 0, 0, 0, 0, 1, 1]\n",
      "[177, 0, 0, 0, 0, 0, 1, 1]\n",
      "[287, 0, 0, 0, 0, 1, 1, 1]\n",
      "[4286, 154, 0, 0, 0, 369, 186, 117]\n",
      "[190, 0, 0, 0, 0, 0, 1, 1]\n",
      "[179, 0, 0, 0, 0, 0, 1, 1]\n",
      "[267, 0, 0, 0, 0, 0, 1, 1]\n",
      "[268, 0, 0, 0, 0, 0, 1, 1]\n",
      "[157, 0, 0, 0, 0, 0, 1, 1]\n",
      "[4296, 0, 0, 0, 0, 0, 1, 1]\n",
      "[67, 174, 0, 0, 0, 22, 21, 13]\n",
      "[4221, 0, 0, 0, 0, 0, 1, 1]\n",
      "[298, 0, 0, 0, 0, 2, 1, 2]\n",
      "[167, 0, 0, 0, 0, 0, 1, 1]\n",
      "[284, 0, 0, 0, 0, 1, 1, 1]\n",
      "[276, 0, 0, 0, 0, 1, 1, 1]\n",
      "[169, 0, 0, 0, 0, 0, 1, 1]\n",
      "[294, 0, 0, 0, 0, 2, 1, 2]\n",
      "[175, 0, 0, 0, 0, 0, 1, 1]\n",
      "[172, 0, 0, 0, 0, 0, 1, 1]\n",
      "[275, 0, 0, 0, 0, 1, 1, 1]\n",
      "[187, 0, 0, 0, 0, 0, 1, 1]\n",
      "[68, 0, 0, 0, 0, 0, 1, 1]\n",
      "[168, 0, 0, 0, 0, 0, 1, 1]\n",
      "[295, 0, 0, 0, 0, 2, 1, 2]\n",
      "[189, 0, 0, 0, 0, 0, 1, 1]\n",
      "[151, 0, 0, 0, 0, 0, 1, 1]\n",
      "[290, 0, 0, 0, 0, 1, 1, 1]\n",
      "[166, 0, 0, 0, 0, 0, 1, 1]\n",
      "[1040, 1040, 0, 0, 0, 209, 150, 80]\n",
      "[1238, 1237, 1239, 1236, 0, 576, 749, 825]\n",
      "[114, 350, 4637, 3250, 3105, 2182, 2305, 2529]\n",
      "[1240, 4568, 4566, 0, 0, 1255, 2441, 2566]\n",
      "[113, 4566, 1939, 3841, 333, 1772, 2245, 1989]\n",
      "[4101, 3990, 3938, 4209, 4190, 3415, 3262, 3132]\n",
      "[4565, 120, 0, 0, 0, 247, 139, 83]\n",
      "[1319, 802, 221, 237, 291, 506, 368, 287]\n",
      "[226, 207, 4207, 222, 3365, 1928, 2104, 2446]\n",
      "[1149, 0, 0, 0, 0, 0, 1, 1]\n",
      "[4237, 143, 4106, 0, 0, 1894, 1678, 2259]\n",
      "[4107, 3889, 3889, 0, 0, 1722, 2307, 2330]\n",
      "[4236, 4566, 0, 0, 0, 891, 643, 332]\n",
      "[1314, 3541, 1937, 2317, 638, 1549, 1691, 1433]\n",
      "[1167, 723, 1169, 1746, 2630, 1401, 1350, 1412]\n",
      "[1288, 1286, 1287, 2594, 1726, 1429, 1411, 1398]\n",
      "[3977, 0, 0, 0, 0, 0, 1, 1]\n",
      "[43, 4042, 3494, 2758, 4628, 2757, 2923, 2790]\n",
      "[541, 537, 539, 3740, 4637, 2141, 2147, 2311]\n",
      "[4566, 3240, 2742, 3085, 3187, 2759, 2492, 2350]\n",
      "[4302, 4566, 4568, 4566, 2003, 3187, 3168, 2942]\n",
      "[1597, 80, 2631, 1157, 4633, 2218, 2072, 2193]\n",
      "[1288, 1314, 1287, 1286, 1190, 1055, 1007, 957]\n",
      "[82, 3451, 3507, 3503, 4568, 2798, 2957, 2893]\n",
      "[1745, 4566, 712, 4323, 4568, 3070, 3054, 2714]\n",
      "[194, 1786, 4637, 1752, 967, 1656, 1908, 1851]\n",
      "[4276, 1527, 1525, 1535, 1529, 1706, 1319, 1262]\n",
      "[105, 2768, 4566, 124, 0, 1375, 2134, 2373]\n",
      "[1507, 515, 1628, 521, 1478, 1030, 930, 935]\n",
      "[43, 0, 0, 0, 0, 0, 1, 1]\n",
      "[329, 4248, 4622, 1268, 1285, 2083, 2434, 2022]\n",
      "[3859, 0, 0, 0, 0, 0, 1, 1]\n",
      "[4140, 4140, 4141, 4141, 0, 1920, 2502, 2755]\n",
      "[1287, 1288, 1314, 1286, 1190, 1056, 1007, 961]\n",
      "[1551, 0, 0, 0, 0, 0, 1, 1]\n",
      "[898, 4635, 541, 3841, 860, 1999, 2337, 1797]\n",
      "[727, 4642, 726, 1425, 725, 1553, 1712, 1110]\n",
      "[4566, 4568, 4566, 4568, 125, 2676, 3084, 3154]\n",
      "[113, 4637, 3549, 1939, 526, 1769, 2154, 1766]\n",
      "[4259, 4633, 4566, 4647, 4607, 3795, 3662, 3503]\n",
      "[33, 2669, 2667, 568, 3609, 1911, 2061, 1937]\n",
      "[132, 132, 137, 131, 4566, 1332, 1245, 1358]\n",
      "[4072, 4133, 4566, 4071, 4132, 3490, 3348, 3220]\n",
      "[515, 1628, 0, 0, 0, 221, 189, 92]\n",
      "[942, 4566, 948, 1041, 3168, 2124, 2125, 1645]\n",
      "[1628, 0, 0, 0, 0, 0, 1, 1]\n",
      "[43, 0, 0, 0, 0, 0, 1, 1]\n",
      "[765, 1598, 3647, 3678, 0, 1223, 1812, 2256]\n",
      "[4568, 0, 0, 0, 0, 0, 1, 1]\n",
      "[4249, 452, 3192, 3207, 4566, 2997, 2564, 2744]\n",
      "[147, 1872, 835, 807, 814, 772, 830, 677]\n",
      "[3793, 0, 0, 0, 0, 0, 1, 1]\n",
      "[3772, 3771, 0, 0, 0, 757, 540, 280]\n",
      "[1551, 0, 0, 0, 0, 0, 1, 1]\n",
      "[127, 4647, 4623, 4633, 4612, 3341, 3571, 3434]\n",
      "[192, 784, 1155, 907, 649, 635, 678, 662]\n",
      "[4651, 4568, 4640, 4619, 4623, 3849, 3674, 3522]\n",
      "[43, 0, 0, 0, 0, 0, 1, 1]\n",
      "[4242, 4607, 4655, 1199, 4612, 3436, 3268, 2954]\n",
      "[1287, 1314, 1288, 1310, 1190, 1059, 1012, 962]\n",
      "[1602, 0, 0, 0, 0, 0, 1, 1]\n",
      "[4110, 44, 4566, 4628, 1321, 2995, 2489, 2758]\n",
      "[4224, 4103, 150, 51, 50, 1601, 1298, 687]\n",
      "[4070, 2535, 985, 4130, 4566, 2971, 2665, 2614]\n",
      "[4566, 0, 0, 0, 0, 0, 1, 1]\n",
      "[1288, 1314, 1287, 1286, 1190, 1055, 1007, 957]\n",
      "[3903, 0, 0, 0, 0, 0, 1, 1]\n",
      "[1158, 150, 862, 1336, 324, 670, 617, 672]\n",
      "[140, 1509, 1512, 1511, 4566, 1917, 1987, 2019]\n",
      "[2979, 3511, 3053, 1514, 1510, 2061, 1975, 1673]\n",
      "[1593, 0, 0, 0, 0, 0, 1, 1]\n",
      "[4069, 4128, 4626, 4628, 4631, 3716, 3587, 3487]\n",
      "[3881, 0, 0, 0, 0, 0, 1, 1]\n",
      "[1507, 1628, 515, 0, 0, 577, 585, 480]\n",
      "[4566, 4623, 4568, 0, 0, 1996, 2713, 2734]\n",
      "[945, 150, 0, 0, 0, 79, 58, 34]\n",
      "[4326, 4326, 4328, 4663, 1600, 3035, 3047, 2856]\n",
      "[1039, 0, 0, 0, 0, 0, 1, 1]\n",
      "[4205, 4226, 4216, 4250, 4225, 3520, 3366, 3221]\n",
      "[297, 2965, 4566, 4568, 0, 1594, 2398, 2856]\n",
      "[1315, 620, 0, 0, 0, 117, 89, 48]\n",
      "[4637, 2953, 486, 4630, 3740, 3039, 2651, 2494]\n",
      "[1609, 0, 0, 0, 0, 0, 1, 1]\n",
      "[4270, 1479, 4633, 4655, 4647, 3422, 3200, 3374]\n",
      "[81, 4633, 2571, 4647, 2575, 2564, 2824, 2540]\n",
      "[4283, 1646, 1637, 1644, 2172, 1894, 1524, 1473]\n",
      "[1609, 1611, 0, 0, 0, 323, 231, 121]\n",
      "[4566, 541, 4607, 3740, 3730, 3144, 2735, 2924]\n",
      "[170, 946, 584, 735, 653, 539, 564, 509]\n",
      "[1726, 0, 0, 0, 0, 0, 1, 1]\n",
      "[4063, 4063, 4063, 4566, 2410, 3115, 3044, 2868]\n",
      "[43, 0, 0, 0, 0, 0, 1, 1]\n",
      "[4232, 4239, 4231, 0, 0, 1844, 2504, 2530]\n"
     ]
    }
   ],
   "source": [
    "# Extract the first 3 values from X and remove the extra dimension\n",
    "first_3_values = fifth_pad_page_id[:, :3].reshape((fifth_pad_page_id.shape[0], 3, 1))\n",
    "\n",
    "# Add a new axis to third_click_prediction_data to make it 3D\n",
    "third_click_prediction_data = third_click_prediction_data[:, :, np.newaxis]\n",
    "\n",
    "# Concatenate the first 3 values to the beginning of each subsequence in third_click_prediction_data\n",
    "modified_third_click_prediction_data = np.concatenate((first_3_values, third_click_prediction_data), axis=1)\n",
    "\n",
    "# Print the formatted data\n",
    "for sequence in modified_third_click_prediction_data:\n",
    "    print(sequence[:, 0].T.tolist())"
   ]
  },
  {
   "cell_type": "code",
   "execution_count": 62,
   "id": "0916ded4-7a1c-43f7-9bbd-abb6df7886a3",
   "metadata": {},
   "outputs": [
    {
     "data": {
      "text/plain": [
       "array([[4623,    0,    0, ...,    0,    1,    1],\n",
       "       [4566, 4634, 4568, ..., 3813, 3647, 3482],\n",
       "       [ 143, 4566, 1071, ..., 1647, 1816, 1333],\n",
       "       ...,\n",
       "       [4063, 4063, 4063, ..., 3115, 3044, 2868],\n",
       "       [  43,    0,    0, ...,    0,    1,    1],\n",
       "       [4232, 4239, 4231, ..., 1844, 2504, 2530]])"
      ]
     },
     "execution_count": 62,
     "metadata": {},
     "output_type": "execute_result"
    }
   ],
   "source": [
    "# Create an array named complete_sequence_data\n",
    "sequence_all = np.array([sequence[:, 0].T.tolist() for sequence in modified_third_click_prediction_data])\n",
    "sequence_all"
   ]
  },
  {
   "cell_type": "markdown",
   "id": "27614b2a-debc-409b-a3b2-4e12b29d6b58",
   "metadata": {},
   "source": [
    "## Prediction of next click in unique sequence ##"
   ]
  },
  {
   "cell_type": "code",
   "execution_count": 63,
   "id": "e41c1625-5c89-4851-9340-bda98663f6b2",
   "metadata": {},
   "outputs": [
    {
     "name": "stdout",
     "output_type": "stream",
     "text": [
      "1/1 [==============================] - 0s 104ms/step\n"
     ]
    },
    {
     "data": {
      "text/plain": [
       "array([[2983.4055]], dtype=float32)"
      ]
     },
     "execution_count": 63,
     "metadata": {},
     "output_type": "execute_result"
    }
   ],
   "source": [
    "single_sequence = np.array([[4063, 4063, 4566, 2410, 2841]])\n",
    "\n",
    "# Reshape and preprocess the sequence\n",
    "single_sequence = single_sequence.reshape(1, n_steps, n_features)  # n_steps=5 and n_features=1\n",
    "predicted_value = model_click.predict(single_sequence)\n",
    "predicted_value"
   ]
  },
  {
   "cell_type": "markdown",
   "id": "11942792-5bd2-4618-8a2e-d86f0cee6439",
   "metadata": {},
   "source": [
    "## Probability of reaching next click in unique sequence ##"
   ]
  },
  {
   "cell_type": "code",
   "execution_count": 64,
   "id": "a3aaa568-14ed-4c2c-86d6-e7d871f4cc01",
   "metadata": {},
   "outputs": [
    {
     "name": "stdout",
     "output_type": "stream",
     "text": [
      "Epoch 1/10\n"
     ]
    },
    {
     "name": "stdout",
     "output_type": "stream",
     "text": [
      "1/1 [==============================] - 2s 2s/step - loss: 537.1662 - accuracy: 0.0000e+00\n",
      "Epoch 2/10\n",
      "1/1 [==============================] - 0s 0s/step - loss: 483.3249 - accuracy: 0.0000e+00\n",
      "Epoch 3/10\n",
      "1/1 [==============================] - 0s 16ms/step - loss: 431.5167 - accuracy: 0.0000e+00\n",
      "Epoch 4/10\n",
      "1/1 [==============================] - 0s 2ms/step - loss: 379.8086 - accuracy: 0.0000e+00\n",
      "Epoch 5/10\n",
      "1/1 [==============================] - 0s 9ms/step - loss: 328.1122 - accuracy: 0.0000e+00\n",
      "Epoch 6/10\n",
      "1/1 [==============================] - 0s 10ms/step - loss: 276.4175 - accuracy: 0.0000e+00\n",
      "Epoch 7/10\n",
      "1/1 [==============================] - 0s 0s/step - loss: 224.7230 - accuracy: 0.0000e+00\n",
      "Epoch 8/10\n",
      "1/1 [==============================] - 0s 16ms/step - loss: 173.0291 - accuracy: 0.0000e+00\n",
      "Epoch 9/10\n",
      "1/1 [==============================] - 0s 0s/step - loss: 121.3350 - accuracy: 0.0000e+00\n",
      "Epoch 10/10\n",
      "1/1 [==============================] - 0s 16ms/step - loss: 69.6414 - accuracy: 0.0000e+00\n",
      "1/1 [==============================] - 0s 376ms/step\n",
      "Probability of reaching next click in unique sequence: 0.4985539\n"
     ]
    }
   ],
   "source": [
    "# Set random seeds for reproducibility\n",
    "np.random.seed(42)\n",
    "tf.random.set_seed(42)\n",
    "\n",
    "a = np.array([[4063, 4063, 4566, 2410, 2841]])\n",
    "b = predicted_value\n",
    "\n",
    "# Build the LSTM model\n",
    "model = Sequential()\n",
    "model.add(LSTM(64, input_shape=(5, 1)))\n",
    "model.add(Dense(1, activation='sigmoid'))\n",
    "model.compile(loss='binary_crossentropy', optimizer='adam', metrics=['accuracy'])\n",
    "# Define EarlyStopping\n",
    "early_stopping = EarlyStopping(monitor='loss', patience=3, restore_best_weights=True)\n",
    "# Train the model\n",
    "model.fit(a, b, epochs=10)\n",
    "# Make a prediction for the probability of reaching next click\n",
    "sequence_to_predict = np.array([[4063, 4566, 2410, 2841, predicted_value[0][0]]])\n",
    "prediction = model.predict(sequence_to_predict)\n",
    "print(\"Probability of reaching next click in unique sequence:\", prediction[0][0])"
   ]
  },
  {
   "cell_type": "markdown",
   "id": "bee10c5f-a915-41cb-b373-c8d912fb2562",
   "metadata": {},
   "source": [
    "**=====================================**"
   ]
  },
  {
   "cell_type": "markdown",
   "id": "74b5c451-b221-4d7f-b1d9-1150072befe5",
   "metadata": {},
   "source": [
    "## Multilabel Classification after predicting next 3 click in sequence ##"
   ]
  },
  {
   "cell_type": "code",
   "execution_count": 65,
   "id": "91e2f25d-87da-40c2-85aa-1c30f8be5768",
   "metadata": {},
   "outputs": [
    {
     "data": {
      "text/plain": [
       "array([[   0,    1,    1],\n",
       "       [3813, 3647, 3482],\n",
       "       [1647, 1816, 1333],\n",
       "       ...,\n",
       "       [3115, 3044, 2868],\n",
       "       [   0,    1,    1],\n",
       "       [1844, 2504, 2530]])"
      ]
     },
     "execution_count": 65,
     "metadata": {},
     "output_type": "execute_result"
    }
   ],
   "source": [
    "# Extract the last 3 values from modified_third_click_prediction_data\n",
    "last_3_predicted_clicks = modified_third_click_prediction_data[:, -3:, 0]\n",
    "last_3_predicted_clicks"
   ]
  },
  {
   "cell_type": "raw",
   "id": "4c843a07-52b6-417f-95f5-554de78896f7",
   "metadata": {},
   "source": [
    "device_name = tf.test.gpu_device_name()\n",
    "if device_name != '/device:GPU:0':\n",
    "  raise SystemError('GPU device not found')\n",
    "print('Found GPU at: {}'.format(device_name))"
   ]
  },
  {
   "cell_type": "raw",
   "id": "4d46d893-fc34-4435-a8b9-3233bf069953",
   "metadata": {},
   "source": [
    "import tensorflow as tf\n",
    "import timeit\n",
    "\n",
    "device_name = tf.test.gpu_device_name()\n",
    "if device_name != '/device:GPU:0':\n",
    "  print(\n",
    "      '\\n\\nThis error most likely means that this notebook is not '\n",
    "      'configured to use a GPU.  Change this in Notebook Settings via the '\n",
    "      'command palette (cmd/ctrl-shift-P) or the Edit menu.\\n\\n')\n",
    "  raise SystemError('GPU device not found')\n",
    "\n",
    "def cpu():\n",
    "  with tf.device('/cpu:0'):\n",
    "    random_image_cpu = tf.random.normal((100, 100, 100, 3))\n",
    "    net_cpu = tf.keras.layers.Conv2D(32, 7)(random_image_cpu)\n",
    "    return tf.math.reduce_sum(net_cpu)\n",
    "\n",
    "def gpu():\n",
    "  with tf.device('/device:GPU:0'):\n",
    "    random_image_gpu = tf.random.normal((100, 100, 100, 3))\n",
    "    net_gpu = tf.keras.layers.Conv2D(32, 7)(random_image_gpu)\n",
    "    return tf.math.reduce_sum(net_gpu)\n",
    "\n",
    "# We run each op once to warm up; see: https://stackoverflow.com/a/45067900\n",
    "cpu()\n",
    "gpu()\n",
    "\n",
    "# Run the op several times.\n",
    "print('Time (s) to convolve 32x7x7x3 filter over random 100x100x100x3 images '\n",
    "      '(batch x height x width x channel). Sum of ten runs.')\n",
    "print('CPU (s):')\n",
    "cpu_time = timeit.timeit('cpu()', number=10, setup=\"from __main__ import cpu\")\n",
    "print(cpu_time)\n",
    "print('GPU (s):')\n",
    "gpu_time = timeit.timeit('gpu()', number=10, setup=\"from __main__ import gpu\")\n",
    "print(gpu_time)\n",
    "print('GPU speedup over CPU: {}x'.format(int(cpu_time/gpu_time)))"
   ]
  },
  {
   "cell_type": "code",
   "execution_count": 66,
   "id": "bceadc22-12ed-46c0-9ec4-2e48b0d62d31",
   "metadata": {},
   "outputs": [
    {
     "data": {
      "text/html": [
       "<div>\n",
       "<style scoped>\n",
       "    .dataframe tbody tr th:only-of-type {\n",
       "        vertical-align: middle;\n",
       "    }\n",
       "\n",
       "    .dataframe tbody tr th {\n",
       "        vertical-align: top;\n",
       "    }\n",
       "\n",
       "    .dataframe thead th {\n",
       "        text-align: right;\n",
       "    }\n",
       "</style>\n",
       "<table border=\"1\" class=\"dataframe\">\n",
       "  <thead>\n",
       "    <tr style=\"text-align: right;\">\n",
       "      <th></th>\n",
       "      <th>client</th>\n",
       "      <th>datetime</th>\n",
       "      <th>method</th>\n",
       "      <th>request</th>\n",
       "      <th>status</th>\n",
       "      <th>size</th>\n",
       "      <th>referer</th>\n",
       "      <th>user_agent</th>\n",
       "      <th>time_diff</th>\n",
       "      <th>session</th>\n",
       "      <th>clicks</th>\n",
       "      <th>page_id</th>\n",
       "      <th>label</th>\n",
       "    </tr>\n",
       "  </thead>\n",
       "  <tbody>\n",
       "    <tr>\n",
       "      <th>0</th>\n",
       "      <td>104.194.24.237</td>\n",
       "      <td>2019-01-22 12:40:34</td>\n",
       "      <td>POST</td>\n",
       "      <td>/order/onlinePayment</td>\n",
       "      <td>200</td>\n",
       "      <td>33390</td>\n",
       "      <td>https://www.zanbil.ir/order/completionAndRemai...</td>\n",
       "      <td>Mozilla/5.0 (Windows NT 10.0; rv:64.0) Gecko/2...</td>\n",
       "      <td>0 days</td>\n",
       "      <td>1</td>\n",
       "      <td>1</td>\n",
       "      <td>4142</td>\n",
       "      <td>1</td>\n",
       "    </tr>\n",
       "    <tr>\n",
       "      <th>1</th>\n",
       "      <td>104.194.24.237</td>\n",
       "      <td>2019-01-22 12:41:51</td>\n",
       "      <td>POST</td>\n",
       "      <td>/order/onlinePaymentResultMellat</td>\n",
       "      <td>200</td>\n",
       "      <td>34550</td>\n",
       "      <td>https://bpm.shaparak.ir/pgwchannel/successRece...</td>\n",
       "      <td>Mozilla/5.0 (Windows NT 10.0; rv:64.0) Gecko/2...</td>\n",
       "      <td>0 days</td>\n",
       "      <td>1</td>\n",
       "      <td>6</td>\n",
       "      <td>4144</td>\n",
       "      <td>1</td>\n",
       "    </tr>\n",
       "  </tbody>\n",
       "</table>\n",
       "</div>"
      ],
      "text/plain": [
       "           client            datetime method  \\\n",
       "0  104.194.24.237 2019-01-22 12:40:34   POST   \n",
       "1  104.194.24.237 2019-01-22 12:41:51   POST   \n",
       "\n",
       "                            request  status   size  \\\n",
       "0              /order/onlinePayment     200  33390   \n",
       "1  /order/onlinePaymentResultMellat     200  34550   \n",
       "\n",
       "                                             referer  \\\n",
       "0  https://www.zanbil.ir/order/completionAndRemai...   \n",
       "1  https://bpm.shaparak.ir/pgwchannel/successRece...   \n",
       "\n",
       "                                          user_agent time_diff  session  \\\n",
       "0  Mozilla/5.0 (Windows NT 10.0; rv:64.0) Gecko/2...    0 days        1   \n",
       "1  Mozilla/5.0 (Windows NT 10.0; rv:64.0) Gecko/2...    0 days        1   \n",
       "\n",
       "   clicks page_id  label  \n",
       "0       1    4142      1  \n",
       "1       6    4144      1  "
      ]
     },
     "execution_count": 66,
     "metadata": {},
     "output_type": "execute_result"
    }
   ],
   "source": [
    "combined_df.head(2)"
   ]
  },
  {
   "cell_type": "code",
   "execution_count": 67,
   "id": "85a614b7-fa07-477a-91f9-3bc404d622c2",
   "metadata": {},
   "outputs": [
    {
     "data": {
      "text/plain": [
       "4667"
      ]
     },
     "execution_count": 67,
     "metadata": {},
     "output_type": "execute_result"
    }
   ],
   "source": [
    "unique_encoded_values = combined_df['page_id'].nunique()\n",
    "unique_encoded_values"
   ]
  },
  {
   "cell_type": "code",
   "execution_count": 68,
   "id": "35ebcfc4-2c6e-4cb2-9527-393957a15bd4",
   "metadata": {},
   "outputs": [],
   "source": [
    "cols = ['request']\n",
    "for col in cols:\n",
    "    combined_df[col] = label_encoder.fit_transform(combined_df[col])"
   ]
  },
  {
   "cell_type": "code",
   "execution_count": 69,
   "id": "b1e648d5-8b4e-4607-a787-5c00e580709b",
   "metadata": {},
   "outputs": [],
   "source": [
    "X=combined_df.loc[:,['request']]"
   ]
  },
  {
   "cell_type": "code",
   "execution_count": 70,
   "id": "3a0c0d09-30d1-4dec-a243-f5e0e75ee806",
   "metadata": {},
   "outputs": [
    {
     "data": {
      "text/plain": [
       "array([4142, 4144,   55, ..., 4232, 4239, 4231], dtype=int64)"
      ]
     },
     "execution_count": 70,
     "metadata": {},
     "output_type": "execute_result"
    }
   ],
   "source": [
    "label_encoder.fit_transform(X['request'])"
   ]
  },
  {
   "cell_type": "code",
   "execution_count": 71,
   "id": "35c2e0c1-1330-4ead-a162-782fae17a17f",
   "metadata": {},
   "outputs": [],
   "source": [
    "y=combined_df.iloc[:,[-1]]"
   ]
  },
  {
   "cell_type": "code",
   "execution_count": 72,
   "id": "f11db567-4a0f-42dc-868b-7c032d80f09d",
   "metadata": {},
   "outputs": [
    {
     "data": {
      "text/plain": [
       "(      request\n",
       " 6108     1842\n",
       " 6071     1422\n",
       " 4489      461\n",
       " 6126     4631\n",
       " 3891      664\n",
       " ...       ...\n",
       " 7470     1036\n",
       " 837      1010\n",
       " 5282     4055\n",
       " 8729     2746\n",
       " 5689     1460\n",
       " \n",
       " [1924 rows x 1 columns],\n",
       "       label\n",
       " 6108      0\n",
       " 6071      0\n",
       " 4489      0\n",
       " 6126      0\n",
       " 3891      0\n",
       " ...     ...\n",
       " 7470      0\n",
       " 837       0\n",
       " 5282      0\n",
       " 8729      0\n",
       " 5689      0\n",
       " \n",
       " [1924 rows x 1 columns])"
      ]
     },
     "execution_count": 72,
     "metadata": {},
     "output_type": "execute_result"
    }
   ],
   "source": [
    "from sklearn.model_selection import train_test_split\n",
    "X_train,X_test,y_train,y_test=train_test_split(X,y,test_size=0.20,random_state=42)\n",
    "X_test,y_test"
   ]
  },
  {
   "cell_type": "code",
   "execution_count": 73,
   "id": "ffbcf398-364e-4cf6-81ec-93045bd54e49",
   "metadata": {},
   "outputs": [
    {
     "name": "stdout",
     "output_type": "stream",
     "text": [
      "Epoch 1/10\n"
     ]
    },
    {
     "name": "stderr",
     "output_type": "stream",
     "text": [
      "c:\\Users\\SAPTARSHI BHATTACHAR\\AppData\\Local\\Programs\\Python\\Python310\\lib\\site-packages\\tensorflow\\python\\util\\dispatch.py:1260: SyntaxWarning: In loss categorical_crossentropy, expected y_pred.shape to be (batch_size, num_classes) with num_classes > 1. Received: y_pred.shape=(None, 1). Consider using 'binary_crossentropy' if you only have 2 classes.\n",
      "  return dispatch_target(*args, **kwargs)\n"
     ]
    },
    {
     "name": "stdout",
     "output_type": "stream",
     "text": [
      "241/241 [==============================] - 14s 39ms/step - loss: 0.0000e+00 - accuracy: 0.0393\n",
      "Epoch 2/10\n",
      "241/241 [==============================] - 9s 37ms/step - loss: 0.0000e+00 - accuracy: 0.0393\n",
      "Epoch 3/10\n",
      "241/241 [==============================] - 9s 36ms/step - loss: 0.0000e+00 - accuracy: 0.0393\n",
      "Epoch 4/10\n",
      "241/241 [==============================] - 9s 35ms/step - loss: 0.0000e+00 - accuracy: 0.0393\n",
      "61/61 [==============================] - 0s 2ms/step\n"
     ]
    }
   ],
   "source": [
    "import tensorflow as tf\n",
    "from tensorflow.keras.models import Sequential\n",
    "from tensorflow.keras.layers import Embedding, LSTM, Dense\n",
    "max_sequence_length=8\n",
    "\n",
    "# Define the model\n",
    "model = Sequential()\n",
    "model.add(Embedding(input_dim=unique_encoded_values, output_dim=400, input_length=max_sequence_length))\n",
    "\n",
    "model.add(LSTM(128,dropout=.2))\n",
    "model.add(Dense(1, activation='softmax'))\n",
    "\n",
    "# Compile the model\n",
    "model.compile(loss='categorical_crossentropy', optimizer='adam', metrics=['accuracy'])\n",
    "early_stopping=EarlyStopping(monitor='loss',patience=3,restore_best_weights=True)\n",
    "# Training\n",
    "history = model.fit(X_train, y_train, epochs=10, batch_size=32,callbacks=[early_stopping])\n",
    "\n",
    "# Prediction\n",
    "predictions = model.predict(X_test)"
   ]
  },
  {
   "cell_type": "code",
   "execution_count": 74,
   "id": "9903ed97-f70b-4975-92f6-855dd1da5e1b",
   "metadata": {},
   "outputs": [
    {
     "data": {
      "text/plain": [
       "label\n",
       "0    1848\n",
       "1      76\n",
       "dtype: int64"
      ]
     },
     "execution_count": 74,
     "metadata": {},
     "output_type": "execute_result"
    }
   ],
   "source": [
    "y_test.value_counts('label')"
   ]
  },
  {
   "cell_type": "code",
   "execution_count": 75,
   "id": "f00fa1c2-e5cc-48fd-8e40-1cba0924ad40",
   "metadata": {},
   "outputs": [
    {
     "data": {
      "text/plain": [
       "(       request\n",
       " 0         4142\n",
       " 1         4144\n",
       " 2           55\n",
       " 3           66\n",
       " 4           58\n",
       " ...        ...\n",
       " 18473     4406\n",
       " 18474     4464\n",
       " 18475     4516\n",
       " 18476     4406\n",
       " 18477     4412\n",
       " \n",
       " [18478 rows x 1 columns],\n",
       "        label\n",
       " 0          1\n",
       " 1          1\n",
       " 2          1\n",
       " 3          1\n",
       " 4          1\n",
       " ...      ...\n",
       " 18473      1\n",
       " 18474      1\n",
       " 18475      1\n",
       " 18476      1\n",
       " 18477      1\n",
       " \n",
       " [18478 rows x 1 columns])"
      ]
     },
     "execution_count": 75,
     "metadata": {},
     "output_type": "execute_result"
    }
   ],
   "source": [
    "from imblearn.combine import SMOTETomek\n",
    "smk = SMOTETomek(random_state=42)\n",
    "X_resampled, y_resampled = smk.fit_resample(X,y)\n",
    "X_resampled,y_resampled"
   ]
  },
  {
   "cell_type": "code",
   "execution_count": 76,
   "id": "44852971-9a84-4383-998f-c68c8054ee26",
   "metadata": {},
   "outputs": [
    {
     "name": "stdout",
     "output_type": "stream",
     "text": [
      "Epoch 1/10\n"
     ]
    },
    {
     "name": "stderr",
     "output_type": "stream",
     "text": [
      "c:\\Users\\SAPTARSHI BHATTACHAR\\AppData\\Local\\Programs\\Python\\Python310\\lib\\site-packages\\tensorflow\\python\\util\\dispatch.py:1260: SyntaxWarning: In loss categorical_crossentropy, expected y_pred.shape to be (batch_size, num_classes) with num_classes > 1. Received: y_pred.shape=(None, 1). Consider using 'binary_crossentropy' if you only have 2 classes.\n",
      "  return dispatch_target(*args, **kwargs)\n"
     ]
    },
    {
     "name": "stdout",
     "output_type": "stream",
     "text": [
      "289/289 [==============================] - 14s 39ms/step - loss: 0.0000e+00 - accuracy: 0.5000\n",
      "Epoch 2/10\n",
      "289/289 [==============================] - 11s 37ms/step - loss: 0.0000e+00 - accuracy: 0.5000\n",
      "Epoch 3/10\n",
      "289/289 [==============================] - 11s 37ms/step - loss: 0.0000e+00 - accuracy: 0.5000\n",
      "Epoch 4/10\n",
      "289/289 [==============================] - 11s 38ms/step - loss: 0.0000e+00 - accuracy: 0.5000\n",
      "61/61 [==============================] - 0s 2ms/step\n"
     ]
    }
   ],
   "source": [
    "import tensorflow as tf\n",
    "from tensorflow.keras.models import Sequential\n",
    "from tensorflow.keras.layers import Embedding, LSTM, Dense\n",
    "\n",
    "max_sequence_length=8\n",
    "from keras.callbacks import EarlyStopping\n",
    "\n",
    "# Define the model\n",
    "model = Sequential()\n",
    "model.add(Embedding(input_dim=unique_encoded_values, output_dim=400, input_length=max_sequence_length))\n",
    "\n",
    "model.add(LSTM(128,dropout=.2,recurrent_dropout=.2))\n",
    "model.add(Dense(1, activation='softmax'))\n",
    "\n",
    "# Compile the model\n",
    "model.compile(loss='categorical_crossentropy', optimizer='adam', metrics=['accuracy'])\n",
    "early_stopping=EarlyStopping(monitor='loss',patience=3,restore_best_weights=True)\n",
    "# Training\n",
    "history = model.fit(X_resampled, y_resampled, epochs=10, batch_size=64,callbacks=[early_stopping])\n",
    "\n",
    "# Evaluation\n",
    "#test_loss, test_accuracy = model.evaluate(x_test, y_test)\n",
    "#print(f'Test Loss: {test_loss}, Test Accuracy: {test_accuracy}')\n",
    "\n",
    "# Prediction\n",
    "predictions = model.predict(X_test)"
   ]
  },
  {
   "cell_type": "markdown",
   "id": "3ebd0220-7b7c-466d-8f6e-911dc4a9512b",
   "metadata": {},
   "source": [
    "============================================================"
   ]
  },
  {
   "cell_type": "code",
   "execution_count": 77,
   "id": "a04e8425-cf5a-45a7-a1cf-ac987a3802c6",
   "metadata": {},
   "outputs": [
    {
     "name": "stdout",
     "output_type": "stream",
     "text": [
      "Epoch 1/10\n"
     ]
    },
    {
     "name": "stderr",
     "output_type": "stream",
     "text": [
      "c:\\Users\\SAPTARSHI BHATTACHAR\\AppData\\Local\\Programs\\Python\\Python310\\lib\\site-packages\\tensorflow\\python\\util\\dispatch.py:1260: SyntaxWarning: In loss categorical_crossentropy, expected y_pred.shape to be (batch_size, num_classes) with num_classes > 1. Received: y_pred.shape=(None, 1). Consider using 'binary_crossentropy' if you only have 2 classes.\n",
      "  return dispatch_target(*args, **kwargs)\n"
     ]
    },
    {
     "name": "stdout",
     "output_type": "stream",
     "text": [
      "226/226 [==============================] - 10s 38ms/step - loss: 0.0000e+00 - accuracy: 0.0377\n",
      "Epoch 2/10\n",
      "226/226 [==============================] - 8s 35ms/step - loss: 0.0000e+00 - accuracy: 0.0377\n",
      "Epoch 3/10\n",
      "226/226 [==============================] - 8s 35ms/step - loss: 0.0000e+00 - accuracy: 0.0377\n",
      "Epoch 4/10\n",
      "226/226 [==============================] - 8s 35ms/step - loss: 0.0000e+00 - accuracy: 0.0377\n",
      "76/76 [==============================] - 0s 2ms/step\n"
     ]
    }
   ],
   "source": [
    "import tensorflow as tf\n",
    "from tensorflow.keras.models import Sequential\n",
    "from tensorflow.keras.layers import Embedding, LSTM, Dense\n",
    "\n",
    "max_sequence_length=8\n",
    "\n",
    "from sklearn.model_selection import train_test_split\n",
    "from keras.utils import to_categorical\n",
    "\n",
    "# Assuming 'page_id' is already label-encoded\n",
    "X = combined_df['page_id'] #.values\n",
    "y = combined_df['label']\n",
    "\n",
    "# Determine the number of unique classes for the output layer\n",
    "num_classes = len(np.unique(y))\n",
    "\n",
    "# Split the data into training and testing sets\n",
    "X_train, X_test, y_train, y_test = train_test_split(X, y, test_size=0.25, random_state=42)\n",
    "# Define the model\n",
    "model = Sequential()\n",
    "model.add(Embedding(input_dim=unique_encoded_values, output_dim=400, input_length=max_sequence_length))\n",
    "model.add(LSTM(128,dropout=.2))\n",
    "model.add(Dense(1, activation='softmax'))\n",
    "\n",
    "# Compile the model\n",
    "model.compile(loss='categorical_crossentropy', optimizer='adam', metrics=['accuracy'])\n",
    "early_stopping=EarlyStopping(monitor='loss',patience=3,restore_best_weights=True)\n",
    "# Training\n",
    "history = model.fit(X_train, y_train, epochs=10, batch_size=32,callbacks=[early_stopping])\n",
    "\n",
    "# Evaluation\n",
    "#test_loss, test_accuracy = model.evaluate(x_test, y_test)\n",
    "#print(f'Test Loss: {test_loss}, Test Accuracy: {test_accuracy}')\n",
    "\n",
    "# Prediction\n",
    "predictions = model.predict(X_test)"
   ]
  },
  {
   "cell_type": "code",
   "execution_count": 78,
   "id": "b122e876-aa41-4a74-a249-e42029ac30ca",
   "metadata": {},
   "outputs": [
    {
     "name": "stdout",
     "output_type": "stream",
     "text": [
      "Epoch 1/10\n",
      "121/121 [==============================] - 3s 14ms/step - loss: 0.3666 - accuracy: 0.9614\n",
      "Epoch 2/10\n",
      "121/121 [==============================] - 2s 14ms/step - loss: 0.0402 - accuracy: 0.9806\n",
      "Epoch 3/10\n",
      "121/121 [==============================] - 2s 15ms/step - loss: 0.0035 - accuracy: 1.0000\n",
      "Epoch 4/10\n",
      "121/121 [==============================] - 2s 14ms/step - loss: 0.0013 - accuracy: 1.0000\n",
      "Epoch 5/10\n",
      "121/121 [==============================] - 2s 17ms/step - loss: 6.9664e-04 - accuracy: 1.0000\n",
      "Epoch 6/10\n",
      "121/121 [==============================] - 2s 18ms/step - loss: 4.4133e-04 - accuracy: 1.0000\n",
      "Epoch 7/10\n",
      "121/121 [==============================] - 2s 16ms/step - loss: 3.0542e-04 - accuracy: 1.0000\n",
      "Epoch 8/10\n",
      "121/121 [==============================] - 2s 14ms/step - loss: 2.2347e-04 - accuracy: 1.0000\n",
      "Epoch 9/10\n",
      "121/121 [==============================] - 2s 14ms/step - loss: 1.7072e-04 - accuracy: 1.0000\n",
      "Epoch 10/10\n",
      "121/121 [==============================] - 2s 15ms/step - loss: 1.3449e-04 - accuracy: 1.0000\n",
      "61/61 [==============================] - 1s 1ms/step\n"
     ]
    }
   ],
   "source": [
    "from sklearn.model_selection import train_test_split\n",
    "from keras.utils import to_categorical\n",
    "\n",
    "# Assuming 'page_id' is already label-encoded\n",
    "X = combined_df['page_id'].values\n",
    "y = combined_df['label'].values\n",
    "\n",
    "# Determine the number of unique classes for the output layer\n",
    "num_classes = len(np.unique(y))\n",
    "\n",
    "# Split the data into training and testing sets\n",
    "X_train, X_test, y_train, y_test = train_test_split(X, y, test_size=0.2, random_state=42)\n",
    "\n",
    "# Convert labels to one-hot encoding\n",
    "y_train = to_categorical(y_train, num_classes)\n",
    "y_test = to_categorical(y_test, num_classes)\n",
    "\n",
    "# Convert 'page_id' to a numpy array of integers\n",
    "X_train = X_train.astype('int32')\n",
    "X_test = X_test.astype('int32')\n",
    "\n",
    "# Define the LSTM model\n",
    "model = Sequential()\n",
    "model.add(Embedding(input_dim=len(np.unique(X)) + 1, output_dim=128, input_length=1))\n",
    "model.add(LSTM(128))\n",
    "model.add(Dense(num_classes, activation='softmax'))\n",
    "\n",
    "# Compile the model\n",
    "model.compile(loss='categorical_crossentropy', optimizer='adam', metrics=['accuracy'])\n",
    "\n",
    "# Define EarlyStopping\n",
    "early_stopping = EarlyStopping(monitor='loss', patience=3, restore_best_weights=True)\n",
    "\n",
    "# Train the model\n",
    "model.fit(X_train, y_train, epochs=10, batch_size=64, callbacks=[early_stopping])\n",
    "\n",
    "# Prediction\n",
    "predictions = model.predict(X_test)\n",
    "\n",
    "# Evaluate the model\n",
    "#y_pred_classes = y_pred.argmax(axis=-1)\n",
    "#y_test_classes = y_test.argmax(axis=-1)\n",
    "#print(classification_report(y_test_classes, y_pred_classes))"
   ]
  },
  {
   "cell_type": "code",
   "execution_count": 79,
   "id": "1c8712ae-a3a1-4b5f-a862-2e7d09d70019",
   "metadata": {},
   "outputs": [
    {
     "data": {
      "text/plain": [
       "(7693,)"
      ]
     },
     "execution_count": 79,
     "metadata": {},
     "output_type": "execute_result"
    }
   ],
   "source": [
    "X_train.shape"
   ]
  },
  {
   "cell_type": "code",
   "execution_count": 80,
   "id": "55aaa418-d796-457f-be49-9cfb7ca5c047",
   "metadata": {},
   "outputs": [
    {
     "data": {
      "text/plain": [
       "array([[1., 0.],\n",
       "       [1., 0.],\n",
       "       [1., 0.],\n",
       "       ...,\n",
       "       [1., 0.],\n",
       "       [1., 0.],\n",
       "       [1., 0.]], dtype=float32)"
      ]
     },
     "execution_count": 80,
     "metadata": {},
     "output_type": "execute_result"
    }
   ],
   "source": [
    "y_test"
   ]
  },
  {
   "cell_type": "code",
   "execution_count": 81,
   "id": "00106bbc-17aa-466c-9460-ba6f5d35f122",
   "metadata": {},
   "outputs": [
    {
     "name": "stdout",
     "output_type": "stream",
     "text": [
      "Epoch 1/10\n",
      "231/231 [==============================] - 7s 17ms/step - loss: 0.2108 - accuracy: 0.9468 - val_loss: 0.0221 - val_accuracy: 0.9990\n",
      "Epoch 2/10\n",
      "231/231 [==============================] - 3s 14ms/step - loss: 0.0018 - accuracy: 0.9999 - val_loss: 0.0135 - val_accuracy: 0.9995\n",
      "Epoch 3/10\n",
      "231/231 [==============================] - 3s 14ms/step - loss: 4.7317e-04 - accuracy: 1.0000 - val_loss: 0.0113 - val_accuracy: 0.9995\n",
      "Epoch 4/10\n",
      "231/231 [==============================] - 3s 14ms/step - loss: 2.5679e-04 - accuracy: 1.0000 - val_loss: 0.0101 - val_accuracy: 0.9995\n",
      "Epoch 5/10\n",
      "231/231 [==============================] - 3s 13ms/step - loss: 1.5925e-04 - accuracy: 1.0000 - val_loss: 0.0092 - val_accuracy: 0.9995\n",
      "Epoch 6/10\n",
      "231/231 [==============================] - 3s 13ms/step - loss: 1.0720e-04 - accuracy: 1.0000 - val_loss: 0.0087 - val_accuracy: 0.9995\n",
      "Epoch 7/10\n",
      "231/231 [==============================] - 3s 13ms/step - loss: 7.6308e-05 - accuracy: 1.0000 - val_loss: 0.0082 - val_accuracy: 0.9995\n",
      "Epoch 8/10\n",
      "231/231 [==============================] - 3s 13ms/step - loss: 5.6505e-05 - accuracy: 1.0000 - val_loss: 0.0079 - val_accuracy: 0.9995\n",
      "Epoch 9/10\n",
      "231/231 [==============================] - 3s 13ms/step - loss: 4.3109e-05 - accuracy: 1.0000 - val_loss: 0.0076 - val_accuracy: 0.9995\n",
      "Epoch 10/10\n",
      "231/231 [==============================] - 3s 13ms/step - loss: 3.3648e-05 - accuracy: 1.0000 - val_loss: 0.0073 - val_accuracy: 0.9995\n",
      "61/61 [==============================] - 0s 2ms/step\n"
     ]
    }
   ],
   "source": [
    "from sklearn.model_selection import train_test_split\n",
    "from sklearn.metrics import classification_report\n",
    "from imblearn.combine import SMOTETomek #SMOTEENN\n",
    "from keras.utils import to_categorical\n",
    "\n",
    "# Assuming 'page_id' is already label-encoded\n",
    "X = combined_df['page_id'].values\n",
    "y = combined_df['label'].values\n",
    "\n",
    "# Convert 'page_id' to ordered categorical\n",
    "X = pd.Categorical(X, categories=sorted(set(X), key=X.tolist().index), ordered=True)\n",
    "\n",
    "# Split the data into training and testing sets\n",
    "X_train, X_test, y_train, y_test = train_test_split(X, y, test_size=0.2, random_state=42)\n",
    "\n",
    "# Apply SMOTE-ENN for class imbalance handling\n",
    "smote_enn = SMOTETomek(random_state=42)\n",
    "X_resampled, y_resampled = smote_enn.fit_resample(X_train.codes.reshape(-1, 1), y_train)\n",
    "\n",
    "# Convert labels to one-hot encoding\n",
    "y_resampled = to_categorical(y_resampled)\n",
    "y_test = to_categorical(y_test)\n",
    "\n",
    "# Define the LSTM model_1\n",
    "model_1 = Sequential()\n",
    "model_1.add(Embedding(input_dim=len(X.categories), output_dim=128, input_length=1))\n",
    "model_1.add(LSTM(128))\n",
    "model_1.add(Dense(y_resampled.shape[1], activation='softmax'))\n",
    "\n",
    "# Compile the model_1\n",
    "model_1.compile(loss='categorical_crossentropy', optimizer='adam', metrics=['accuracy'])\n",
    "\n",
    "# Define EarlyStopping\n",
    "early_stopping = EarlyStopping(monitor='loss', patience=3, restore_best_weights=True)\n",
    "\n",
    "# Train the model_1\n",
    "model_1.fit(X_resampled, y_resampled, epochs=10, batch_size=64, validation_data=(X_test.codes, y_test), callbacks=[early_stopping])\n",
    "\n",
    "# Prediction\n",
    "Prediction_resamp = model_1.predict(X_test.codes)\n",
    "#y_pred_classes = y_pred.argmax(axis=-1)\n",
    "#y_test_classes = y_test.argmax(axis=-1)\n",
    "#print(classification_report(y_test_classes, y_pred_classes))"
   ]
  },
  {
   "cell_type": "markdown",
   "id": "5598ded6-d79d-43ba-9437-8c01ea0dfc17",
   "metadata": {},
   "source": [
    "**=====================================**"
   ]
  },
  {
   "cell_type": "markdown",
   "id": "cfe40d63-eb40-4701-bb90-f2e376cc83de",
   "metadata": {},
   "source": [
    "## Line Chart for CTA ##"
   ]
  },
  {
   "cell_type": "code",
   "execution_count": 82,
   "id": "5d79e3b5-478a-468b-9a40-cd4c285e26ae",
   "metadata": {},
   "outputs": [
    {
     "data": {
      "application/vnd.plotly.v1+json": {
       "config": {
        "plotlyServerURL": "https://plot.ly"
       },
       "data": [
        {
         "hovertemplate": "Clicks=%{x}<br>Change in CTA Client by every Click=%{y}<extra></extra>",
         "legendgroup": "",
         "line": {
          "color": "#636efa",
          "dash": "solid"
         },
         "marker": {
          "symbol": "circle"
         },
         "mode": "lines",
         "name": "",
         "orientation": "v",
         "showlegend": false,
         "type": "scatter",
         "x": [
          2,
          3,
          4,
          5,
          6,
          7,
          8,
          9,
          10
         ],
         "xaxis": "x",
         "y": [
          8,
          36,
          64,
          56,
          68,
          72,
          72,
          80,
          84
         ],
         "yaxis": "y"
        }
       ],
       "layout": {
        "legend": {
         "tracegroupgap": 0
        },
        "template": {
         "data": {
          "bar": [
           {
            "error_x": {
             "color": "#2a3f5f"
            },
            "error_y": {
             "color": "#2a3f5f"
            },
            "marker": {
             "line": {
              "color": "#E5ECF6",
              "width": 0.5
             },
             "pattern": {
              "fillmode": "overlay",
              "size": 10,
              "solidity": 0.2
             }
            },
            "type": "bar"
           }
          ],
          "barpolar": [
           {
            "marker": {
             "line": {
              "color": "#E5ECF6",
              "width": 0.5
             },
             "pattern": {
              "fillmode": "overlay",
              "size": 10,
              "solidity": 0.2
             }
            },
            "type": "barpolar"
           }
          ],
          "carpet": [
           {
            "aaxis": {
             "endlinecolor": "#2a3f5f",
             "gridcolor": "white",
             "linecolor": "white",
             "minorgridcolor": "white",
             "startlinecolor": "#2a3f5f"
            },
            "baxis": {
             "endlinecolor": "#2a3f5f",
             "gridcolor": "white",
             "linecolor": "white",
             "minorgridcolor": "white",
             "startlinecolor": "#2a3f5f"
            },
            "type": "carpet"
           }
          ],
          "choropleth": [
           {
            "colorbar": {
             "outlinewidth": 0,
             "ticks": ""
            },
            "type": "choropleth"
           }
          ],
          "contour": [
           {
            "colorbar": {
             "outlinewidth": 0,
             "ticks": ""
            },
            "colorscale": [
             [
              0,
              "#0d0887"
             ],
             [
              0.1111111111111111,
              "#46039f"
             ],
             [
              0.2222222222222222,
              "#7201a8"
             ],
             [
              0.3333333333333333,
              "#9c179e"
             ],
             [
              0.4444444444444444,
              "#bd3786"
             ],
             [
              0.5555555555555556,
              "#d8576b"
             ],
             [
              0.6666666666666666,
              "#ed7953"
             ],
             [
              0.7777777777777778,
              "#fb9f3a"
             ],
             [
              0.8888888888888888,
              "#fdca26"
             ],
             [
              1,
              "#f0f921"
             ]
            ],
            "type": "contour"
           }
          ],
          "contourcarpet": [
           {
            "colorbar": {
             "outlinewidth": 0,
             "ticks": ""
            },
            "type": "contourcarpet"
           }
          ],
          "heatmap": [
           {
            "colorbar": {
             "outlinewidth": 0,
             "ticks": ""
            },
            "colorscale": [
             [
              0,
              "#0d0887"
             ],
             [
              0.1111111111111111,
              "#46039f"
             ],
             [
              0.2222222222222222,
              "#7201a8"
             ],
             [
              0.3333333333333333,
              "#9c179e"
             ],
             [
              0.4444444444444444,
              "#bd3786"
             ],
             [
              0.5555555555555556,
              "#d8576b"
             ],
             [
              0.6666666666666666,
              "#ed7953"
             ],
             [
              0.7777777777777778,
              "#fb9f3a"
             ],
             [
              0.8888888888888888,
              "#fdca26"
             ],
             [
              1,
              "#f0f921"
             ]
            ],
            "type": "heatmap"
           }
          ],
          "heatmapgl": [
           {
            "colorbar": {
             "outlinewidth": 0,
             "ticks": ""
            },
            "colorscale": [
             [
              0,
              "#0d0887"
             ],
             [
              0.1111111111111111,
              "#46039f"
             ],
             [
              0.2222222222222222,
              "#7201a8"
             ],
             [
              0.3333333333333333,
              "#9c179e"
             ],
             [
              0.4444444444444444,
              "#bd3786"
             ],
             [
              0.5555555555555556,
              "#d8576b"
             ],
             [
              0.6666666666666666,
              "#ed7953"
             ],
             [
              0.7777777777777778,
              "#fb9f3a"
             ],
             [
              0.8888888888888888,
              "#fdca26"
             ],
             [
              1,
              "#f0f921"
             ]
            ],
            "type": "heatmapgl"
           }
          ],
          "histogram": [
           {
            "marker": {
             "pattern": {
              "fillmode": "overlay",
              "size": 10,
              "solidity": 0.2
             }
            },
            "type": "histogram"
           }
          ],
          "histogram2d": [
           {
            "colorbar": {
             "outlinewidth": 0,
             "ticks": ""
            },
            "colorscale": [
             [
              0,
              "#0d0887"
             ],
             [
              0.1111111111111111,
              "#46039f"
             ],
             [
              0.2222222222222222,
              "#7201a8"
             ],
             [
              0.3333333333333333,
              "#9c179e"
             ],
             [
              0.4444444444444444,
              "#bd3786"
             ],
             [
              0.5555555555555556,
              "#d8576b"
             ],
             [
              0.6666666666666666,
              "#ed7953"
             ],
             [
              0.7777777777777778,
              "#fb9f3a"
             ],
             [
              0.8888888888888888,
              "#fdca26"
             ],
             [
              1,
              "#f0f921"
             ]
            ],
            "type": "histogram2d"
           }
          ],
          "histogram2dcontour": [
           {
            "colorbar": {
             "outlinewidth": 0,
             "ticks": ""
            },
            "colorscale": [
             [
              0,
              "#0d0887"
             ],
             [
              0.1111111111111111,
              "#46039f"
             ],
             [
              0.2222222222222222,
              "#7201a8"
             ],
             [
              0.3333333333333333,
              "#9c179e"
             ],
             [
              0.4444444444444444,
              "#bd3786"
             ],
             [
              0.5555555555555556,
              "#d8576b"
             ],
             [
              0.6666666666666666,
              "#ed7953"
             ],
             [
              0.7777777777777778,
              "#fb9f3a"
             ],
             [
              0.8888888888888888,
              "#fdca26"
             ],
             [
              1,
              "#f0f921"
             ]
            ],
            "type": "histogram2dcontour"
           }
          ],
          "mesh3d": [
           {
            "colorbar": {
             "outlinewidth": 0,
             "ticks": ""
            },
            "type": "mesh3d"
           }
          ],
          "parcoords": [
           {
            "line": {
             "colorbar": {
              "outlinewidth": 0,
              "ticks": ""
             }
            },
            "type": "parcoords"
           }
          ],
          "pie": [
           {
            "automargin": true,
            "type": "pie"
           }
          ],
          "scatter": [
           {
            "fillpattern": {
             "fillmode": "overlay",
             "size": 10,
             "solidity": 0.2
            },
            "type": "scatter"
           }
          ],
          "scatter3d": [
           {
            "line": {
             "colorbar": {
              "outlinewidth": 0,
              "ticks": ""
             }
            },
            "marker": {
             "colorbar": {
              "outlinewidth": 0,
              "ticks": ""
             }
            },
            "type": "scatter3d"
           }
          ],
          "scattercarpet": [
           {
            "marker": {
             "colorbar": {
              "outlinewidth": 0,
              "ticks": ""
             }
            },
            "type": "scattercarpet"
           }
          ],
          "scattergeo": [
           {
            "marker": {
             "colorbar": {
              "outlinewidth": 0,
              "ticks": ""
             }
            },
            "type": "scattergeo"
           }
          ],
          "scattergl": [
           {
            "marker": {
             "colorbar": {
              "outlinewidth": 0,
              "ticks": ""
             }
            },
            "type": "scattergl"
           }
          ],
          "scattermapbox": [
           {
            "marker": {
             "colorbar": {
              "outlinewidth": 0,
              "ticks": ""
             }
            },
            "type": "scattermapbox"
           }
          ],
          "scatterpolar": [
           {
            "marker": {
             "colorbar": {
              "outlinewidth": 0,
              "ticks": ""
             }
            },
            "type": "scatterpolar"
           }
          ],
          "scatterpolargl": [
           {
            "marker": {
             "colorbar": {
              "outlinewidth": 0,
              "ticks": ""
             }
            },
            "type": "scatterpolargl"
           }
          ],
          "scatterternary": [
           {
            "marker": {
             "colorbar": {
              "outlinewidth": 0,
              "ticks": ""
             }
            },
            "type": "scatterternary"
           }
          ],
          "surface": [
           {
            "colorbar": {
             "outlinewidth": 0,
             "ticks": ""
            },
            "colorscale": [
             [
              0,
              "#0d0887"
             ],
             [
              0.1111111111111111,
              "#46039f"
             ],
             [
              0.2222222222222222,
              "#7201a8"
             ],
             [
              0.3333333333333333,
              "#9c179e"
             ],
             [
              0.4444444444444444,
              "#bd3786"
             ],
             [
              0.5555555555555556,
              "#d8576b"
             ],
             [
              0.6666666666666666,
              "#ed7953"
             ],
             [
              0.7777777777777778,
              "#fb9f3a"
             ],
             [
              0.8888888888888888,
              "#fdca26"
             ],
             [
              1,
              "#f0f921"
             ]
            ],
            "type": "surface"
           }
          ],
          "table": [
           {
            "cells": {
             "fill": {
              "color": "#EBF0F8"
             },
             "line": {
              "color": "white"
             }
            },
            "header": {
             "fill": {
              "color": "#C8D4E3"
             },
             "line": {
              "color": "white"
             }
            },
            "type": "table"
           }
          ]
         },
         "layout": {
          "annotationdefaults": {
           "arrowcolor": "#2a3f5f",
           "arrowhead": 0,
           "arrowwidth": 1
          },
          "autotypenumbers": "strict",
          "coloraxis": {
           "colorbar": {
            "outlinewidth": 0,
            "ticks": ""
           }
          },
          "colorscale": {
           "diverging": [
            [
             0,
             "#8e0152"
            ],
            [
             0.1,
             "#c51b7d"
            ],
            [
             0.2,
             "#de77ae"
            ],
            [
             0.3,
             "#f1b6da"
            ],
            [
             0.4,
             "#fde0ef"
            ],
            [
             0.5,
             "#f7f7f7"
            ],
            [
             0.6,
             "#e6f5d0"
            ],
            [
             0.7,
             "#b8e186"
            ],
            [
             0.8,
             "#7fbc41"
            ],
            [
             0.9,
             "#4d9221"
            ],
            [
             1,
             "#276419"
            ]
           ],
           "sequential": [
            [
             0,
             "#0d0887"
            ],
            [
             0.1111111111111111,
             "#46039f"
            ],
            [
             0.2222222222222222,
             "#7201a8"
            ],
            [
             0.3333333333333333,
             "#9c179e"
            ],
            [
             0.4444444444444444,
             "#bd3786"
            ],
            [
             0.5555555555555556,
             "#d8576b"
            ],
            [
             0.6666666666666666,
             "#ed7953"
            ],
            [
             0.7777777777777778,
             "#fb9f3a"
            ],
            [
             0.8888888888888888,
             "#fdca26"
            ],
            [
             1,
             "#f0f921"
            ]
           ],
           "sequentialminus": [
            [
             0,
             "#0d0887"
            ],
            [
             0.1111111111111111,
             "#46039f"
            ],
            [
             0.2222222222222222,
             "#7201a8"
            ],
            [
             0.3333333333333333,
             "#9c179e"
            ],
            [
             0.4444444444444444,
             "#bd3786"
            ],
            [
             0.5555555555555556,
             "#d8576b"
            ],
            [
             0.6666666666666666,
             "#ed7953"
            ],
            [
             0.7777777777777778,
             "#fb9f3a"
            ],
            [
             0.8888888888888888,
             "#fdca26"
            ],
            [
             1,
             "#f0f921"
            ]
           ]
          },
          "colorway": [
           "#636efa",
           "#EF553B",
           "#00cc96",
           "#ab63fa",
           "#FFA15A",
           "#19d3f3",
           "#FF6692",
           "#B6E880",
           "#FF97FF",
           "#FECB52"
          ],
          "font": {
           "color": "#2a3f5f"
          },
          "geo": {
           "bgcolor": "white",
           "lakecolor": "white",
           "landcolor": "#E5ECF6",
           "showlakes": true,
           "showland": true,
           "subunitcolor": "white"
          },
          "hoverlabel": {
           "align": "left"
          },
          "hovermode": "closest",
          "mapbox": {
           "style": "light"
          },
          "paper_bgcolor": "white",
          "plot_bgcolor": "#E5ECF6",
          "polar": {
           "angularaxis": {
            "gridcolor": "white",
            "linecolor": "white",
            "ticks": ""
           },
           "bgcolor": "#E5ECF6",
           "radialaxis": {
            "gridcolor": "white",
            "linecolor": "white",
            "ticks": ""
           }
          },
          "scene": {
           "xaxis": {
            "backgroundcolor": "#E5ECF6",
            "gridcolor": "white",
            "gridwidth": 2,
            "linecolor": "white",
            "showbackground": true,
            "ticks": "",
            "zerolinecolor": "white"
           },
           "yaxis": {
            "backgroundcolor": "#E5ECF6",
            "gridcolor": "white",
            "gridwidth": 2,
            "linecolor": "white",
            "showbackground": true,
            "ticks": "",
            "zerolinecolor": "white"
           },
           "zaxis": {
            "backgroundcolor": "#E5ECF6",
            "gridcolor": "white",
            "gridwidth": 2,
            "linecolor": "white",
            "showbackground": true,
            "ticks": "",
            "zerolinecolor": "white"
           }
          },
          "shapedefaults": {
           "line": {
            "color": "#2a3f5f"
           }
          },
          "ternary": {
           "aaxis": {
            "gridcolor": "white",
            "linecolor": "white",
            "ticks": ""
           },
           "baxis": {
            "gridcolor": "white",
            "linecolor": "white",
            "ticks": ""
           },
           "bgcolor": "#E5ECF6",
           "caxis": {
            "gridcolor": "white",
            "linecolor": "white",
            "ticks": ""
           }
          },
          "title": {
           "x": 0.05
          },
          "xaxis": {
           "automargin": true,
           "gridcolor": "white",
           "linecolor": "white",
           "ticks": "",
           "title": {
            "standoff": 15
           },
           "zerolinecolor": "white",
           "zerolinewidth": 2
          },
          "yaxis": {
           "automargin": true,
           "gridcolor": "white",
           "linecolor": "white",
           "ticks": "",
           "title": {
            "standoff": 15
           },
           "zerolinecolor": "white",
           "zerolinewidth": 2
          }
         }
        },
        "title": {
         "text": "Line Chart for CTA"
        },
        "xaxis": {
         "anchor": "y",
         "domain": [
          0,
          1
         ],
         "title": {
          "text": "Clicks"
         }
        },
        "yaxis": {
         "anchor": "x",
         "domain": [
          0,
          1
         ],
         "title": {
          "text": "Change in CTA Client by every Click"
         }
        }
       }
      }
     },
     "metadata": {},
     "output_type": "display_data"
    }
   ],
   "source": [
    "import plotly.express as px\n",
    "\n",
    "# Assuming 'CTA' is a DataFrame\n",
    "\n",
    "# Calculate the value counts\n",
    "counts1 = CTA['clicks'].value_counts().sort_index()\n",
    "\n",
    "# Extract the top 10 values\n",
    "x1 = counts1.index[:10]\n",
    "y1 = counts1.values[:10]\n",
    "\n",
    "# Calculate percentage change based on 'x'\n",
    "percentage_change1 = ((y1[:-1] - y1[1:]) / y1[:1]) * 100\n",
    "\n",
    "# Calculate cumulative percentage change\n",
    "cumulative_percentage_change1 = percentage_change1.cumsum()\n",
    "\n",
    "# Create a DataFrame for Plotly\n",
    "df = pd.DataFrame({'Clicks': x1[1:], 'Cumulative Percentage Change': cumulative_percentage_change1})\n",
    "\n",
    "# Create the interactive line chart using Plotly Express\n",
    "fig = px.line(df, x='Clicks', y='Cumulative Percentage Change', title='Line Chart for CTA',\n",
    "              labels={'Cumulative Percentage Change': 'Change in CTA Client by every Click'})\n",
    "\n",
    "# Show the Plotly chart\n",
    "fig.show()"
   ]
  },
  {
   "cell_type": "code",
   "execution_count": 83,
   "id": "d30a0c20-0943-4515-9134-ccd68477db85",
   "metadata": {},
   "outputs": [
    {
     "data": {
      "application/vnd.plotly.v1+json": {
       "config": {
        "plotlyServerURL": "https://plot.ly"
       },
       "data": [
        {
         "hovertemplate": "Clicks=%{x}<br>Cumulative Percentage Change=%{y}<extra></extra>",
         "legendgroup": "",
         "line": {
          "color": "#636efa",
          "dash": "solid"
         },
         "marker": {
          "symbol": "circle"
         },
         "mode": "lines+markers",
         "name": "",
         "orientation": "v",
         "showlegend": false,
         "type": "scatter",
         "x": [
          2,
          3,
          4,
          5,
          6,
          7,
          8,
          9,
          10,
          11,
          12,
          13,
          14,
          15,
          16,
          17,
          18,
          19,
          20,
          21,
          22,
          23,
          24,
          25,
          26,
          27,
          28,
          29,
          30,
          31,
          32,
          33,
          34,
          35,
          36,
          37,
          38,
          39,
          40,
          41,
          42,
          43,
          44,
          45,
          46,
          47,
          48,
          49,
          50,
          51,
          52,
          53,
          54,
          55,
          56,
          57,
          58,
          59,
          61,
          62,
          63,
          64,
          65,
          66,
          67,
          68,
          69,
          70,
          71,
          72,
          73,
          74,
          75,
          76,
          77,
          78,
          79,
          80,
          81,
          82,
          83,
          84,
          85,
          86,
          87,
          88,
          89,
          90,
          91,
          92,
          93,
          94,
          95,
          96,
          97,
          98,
          99,
          100,
          101,
          109,
          118,
          119,
          120,
          123,
          125,
          127,
          129,
          130,
          132,
          133,
          136,
          137,
          139,
          140,
          141,
          142,
          143,
          144,
          145,
          146,
          147,
          148,
          149,
          150,
          151,
          153,
          154,
          172,
          174,
          176,
          177,
          178,
          179,
          180,
          181,
          182,
          183,
          184,
          185,
          186,
          188,
          256
         ],
         "xaxis": "x",
         "y": [
          8,
          36,
          64,
          56,
          68,
          72,
          72,
          80,
          84,
          80,
          72,
          80,
          76,
          80,
          76,
          84,
          68,
          80,
          76,
          72,
          92,
          80,
          68,
          80,
          88,
          92,
          80,
          92,
          92,
          92,
          88,
          88,
          88,
          92,
          84,
          92,
          88,
          92,
          92,
          88,
          92,
          88,
          96,
          92,
          92,
          92,
          92,
          96,
          92,
          96,
          96,
          92,
          92,
          92,
          92,
          92,
          96,
          96,
          92,
          96,
          96,
          96,
          96,
          96,
          92,
          96,
          92,
          96,
          96,
          96,
          92,
          96,
          96,
          96,
          96,
          92,
          88,
          92,
          92,
          92,
          96,
          92,
          96,
          96,
          92,
          92,
          96,
          96,
          96,
          96,
          92,
          92,
          92,
          92,
          96,
          96,
          96,
          96,
          96,
          96,
          92,
          96,
          96,
          96,
          92,
          96,
          96,
          96,
          96,
          96,
          96,
          96,
          96,
          96,
          96,
          96,
          96,
          92,
          96,
          92,
          96,
          96,
          96,
          96,
          96,
          96,
          96,
          96,
          96,
          96,
          96,
          96,
          96,
          96,
          96,
          96,
          96,
          96,
          96,
          96,
          96,
          96
         ],
         "yaxis": "y"
        }
       ],
       "layout": {
        "legend": {
         "tracegroupgap": 0
        },
        "template": {
         "data": {
          "bar": [
           {
            "error_x": {
             "color": "#2a3f5f"
            },
            "error_y": {
             "color": "#2a3f5f"
            },
            "marker": {
             "line": {
              "color": "#E5ECF6",
              "width": 0.5
             },
             "pattern": {
              "fillmode": "overlay",
              "size": 10,
              "solidity": 0.2
             }
            },
            "type": "bar"
           }
          ],
          "barpolar": [
           {
            "marker": {
             "line": {
              "color": "#E5ECF6",
              "width": 0.5
             },
             "pattern": {
              "fillmode": "overlay",
              "size": 10,
              "solidity": 0.2
             }
            },
            "type": "barpolar"
           }
          ],
          "carpet": [
           {
            "aaxis": {
             "endlinecolor": "#2a3f5f",
             "gridcolor": "white",
             "linecolor": "white",
             "minorgridcolor": "white",
             "startlinecolor": "#2a3f5f"
            },
            "baxis": {
             "endlinecolor": "#2a3f5f",
             "gridcolor": "white",
             "linecolor": "white",
             "minorgridcolor": "white",
             "startlinecolor": "#2a3f5f"
            },
            "type": "carpet"
           }
          ],
          "choropleth": [
           {
            "colorbar": {
             "outlinewidth": 0,
             "ticks": ""
            },
            "type": "choropleth"
           }
          ],
          "contour": [
           {
            "colorbar": {
             "outlinewidth": 0,
             "ticks": ""
            },
            "colorscale": [
             [
              0,
              "#0d0887"
             ],
             [
              0.1111111111111111,
              "#46039f"
             ],
             [
              0.2222222222222222,
              "#7201a8"
             ],
             [
              0.3333333333333333,
              "#9c179e"
             ],
             [
              0.4444444444444444,
              "#bd3786"
             ],
             [
              0.5555555555555556,
              "#d8576b"
             ],
             [
              0.6666666666666666,
              "#ed7953"
             ],
             [
              0.7777777777777778,
              "#fb9f3a"
             ],
             [
              0.8888888888888888,
              "#fdca26"
             ],
             [
              1,
              "#f0f921"
             ]
            ],
            "type": "contour"
           }
          ],
          "contourcarpet": [
           {
            "colorbar": {
             "outlinewidth": 0,
             "ticks": ""
            },
            "type": "contourcarpet"
           }
          ],
          "heatmap": [
           {
            "colorbar": {
             "outlinewidth": 0,
             "ticks": ""
            },
            "colorscale": [
             [
              0,
              "#0d0887"
             ],
             [
              0.1111111111111111,
              "#46039f"
             ],
             [
              0.2222222222222222,
              "#7201a8"
             ],
             [
              0.3333333333333333,
              "#9c179e"
             ],
             [
              0.4444444444444444,
              "#bd3786"
             ],
             [
              0.5555555555555556,
              "#d8576b"
             ],
             [
              0.6666666666666666,
              "#ed7953"
             ],
             [
              0.7777777777777778,
              "#fb9f3a"
             ],
             [
              0.8888888888888888,
              "#fdca26"
             ],
             [
              1,
              "#f0f921"
             ]
            ],
            "type": "heatmap"
           }
          ],
          "heatmapgl": [
           {
            "colorbar": {
             "outlinewidth": 0,
             "ticks": ""
            },
            "colorscale": [
             [
              0,
              "#0d0887"
             ],
             [
              0.1111111111111111,
              "#46039f"
             ],
             [
              0.2222222222222222,
              "#7201a8"
             ],
             [
              0.3333333333333333,
              "#9c179e"
             ],
             [
              0.4444444444444444,
              "#bd3786"
             ],
             [
              0.5555555555555556,
              "#d8576b"
             ],
             [
              0.6666666666666666,
              "#ed7953"
             ],
             [
              0.7777777777777778,
              "#fb9f3a"
             ],
             [
              0.8888888888888888,
              "#fdca26"
             ],
             [
              1,
              "#f0f921"
             ]
            ],
            "type": "heatmapgl"
           }
          ],
          "histogram": [
           {
            "marker": {
             "pattern": {
              "fillmode": "overlay",
              "size": 10,
              "solidity": 0.2
             }
            },
            "type": "histogram"
           }
          ],
          "histogram2d": [
           {
            "colorbar": {
             "outlinewidth": 0,
             "ticks": ""
            },
            "colorscale": [
             [
              0,
              "#0d0887"
             ],
             [
              0.1111111111111111,
              "#46039f"
             ],
             [
              0.2222222222222222,
              "#7201a8"
             ],
             [
              0.3333333333333333,
              "#9c179e"
             ],
             [
              0.4444444444444444,
              "#bd3786"
             ],
             [
              0.5555555555555556,
              "#d8576b"
             ],
             [
              0.6666666666666666,
              "#ed7953"
             ],
             [
              0.7777777777777778,
              "#fb9f3a"
             ],
             [
              0.8888888888888888,
              "#fdca26"
             ],
             [
              1,
              "#f0f921"
             ]
            ],
            "type": "histogram2d"
           }
          ],
          "histogram2dcontour": [
           {
            "colorbar": {
             "outlinewidth": 0,
             "ticks": ""
            },
            "colorscale": [
             [
              0,
              "#0d0887"
             ],
             [
              0.1111111111111111,
              "#46039f"
             ],
             [
              0.2222222222222222,
              "#7201a8"
             ],
             [
              0.3333333333333333,
              "#9c179e"
             ],
             [
              0.4444444444444444,
              "#bd3786"
             ],
             [
              0.5555555555555556,
              "#d8576b"
             ],
             [
              0.6666666666666666,
              "#ed7953"
             ],
             [
              0.7777777777777778,
              "#fb9f3a"
             ],
             [
              0.8888888888888888,
              "#fdca26"
             ],
             [
              1,
              "#f0f921"
             ]
            ],
            "type": "histogram2dcontour"
           }
          ],
          "mesh3d": [
           {
            "colorbar": {
             "outlinewidth": 0,
             "ticks": ""
            },
            "type": "mesh3d"
           }
          ],
          "parcoords": [
           {
            "line": {
             "colorbar": {
              "outlinewidth": 0,
              "ticks": ""
             }
            },
            "type": "parcoords"
           }
          ],
          "pie": [
           {
            "automargin": true,
            "type": "pie"
           }
          ],
          "scatter": [
           {
            "fillpattern": {
             "fillmode": "overlay",
             "size": 10,
             "solidity": 0.2
            },
            "type": "scatter"
           }
          ],
          "scatter3d": [
           {
            "line": {
             "colorbar": {
              "outlinewidth": 0,
              "ticks": ""
             }
            },
            "marker": {
             "colorbar": {
              "outlinewidth": 0,
              "ticks": ""
             }
            },
            "type": "scatter3d"
           }
          ],
          "scattercarpet": [
           {
            "marker": {
             "colorbar": {
              "outlinewidth": 0,
              "ticks": ""
             }
            },
            "type": "scattercarpet"
           }
          ],
          "scattergeo": [
           {
            "marker": {
             "colorbar": {
              "outlinewidth": 0,
              "ticks": ""
             }
            },
            "type": "scattergeo"
           }
          ],
          "scattergl": [
           {
            "marker": {
             "colorbar": {
              "outlinewidth": 0,
              "ticks": ""
             }
            },
            "type": "scattergl"
           }
          ],
          "scattermapbox": [
           {
            "marker": {
             "colorbar": {
              "outlinewidth": 0,
              "ticks": ""
             }
            },
            "type": "scattermapbox"
           }
          ],
          "scatterpolar": [
           {
            "marker": {
             "colorbar": {
              "outlinewidth": 0,
              "ticks": ""
             }
            },
            "type": "scatterpolar"
           }
          ],
          "scatterpolargl": [
           {
            "marker": {
             "colorbar": {
              "outlinewidth": 0,
              "ticks": ""
             }
            },
            "type": "scatterpolargl"
           }
          ],
          "scatterternary": [
           {
            "marker": {
             "colorbar": {
              "outlinewidth": 0,
              "ticks": ""
             }
            },
            "type": "scatterternary"
           }
          ],
          "surface": [
           {
            "colorbar": {
             "outlinewidth": 0,
             "ticks": ""
            },
            "colorscale": [
             [
              0,
              "#0d0887"
             ],
             [
              0.1111111111111111,
              "#46039f"
             ],
             [
              0.2222222222222222,
              "#7201a8"
             ],
             [
              0.3333333333333333,
              "#9c179e"
             ],
             [
              0.4444444444444444,
              "#bd3786"
             ],
             [
              0.5555555555555556,
              "#d8576b"
             ],
             [
              0.6666666666666666,
              "#ed7953"
             ],
             [
              0.7777777777777778,
              "#fb9f3a"
             ],
             [
              0.8888888888888888,
              "#fdca26"
             ],
             [
              1,
              "#f0f921"
             ]
            ],
            "type": "surface"
           }
          ],
          "table": [
           {
            "cells": {
             "fill": {
              "color": "#EBF0F8"
             },
             "line": {
              "color": "white"
             }
            },
            "header": {
             "fill": {
              "color": "#C8D4E3"
             },
             "line": {
              "color": "white"
             }
            },
            "type": "table"
           }
          ]
         },
         "layout": {
          "annotationdefaults": {
           "arrowcolor": "#2a3f5f",
           "arrowhead": 0,
           "arrowwidth": 1
          },
          "autotypenumbers": "strict",
          "coloraxis": {
           "colorbar": {
            "outlinewidth": 0,
            "ticks": ""
           }
          },
          "colorscale": {
           "diverging": [
            [
             0,
             "#8e0152"
            ],
            [
             0.1,
             "#c51b7d"
            ],
            [
             0.2,
             "#de77ae"
            ],
            [
             0.3,
             "#f1b6da"
            ],
            [
             0.4,
             "#fde0ef"
            ],
            [
             0.5,
             "#f7f7f7"
            ],
            [
             0.6,
             "#e6f5d0"
            ],
            [
             0.7,
             "#b8e186"
            ],
            [
             0.8,
             "#7fbc41"
            ],
            [
             0.9,
             "#4d9221"
            ],
            [
             1,
             "#276419"
            ]
           ],
           "sequential": [
            [
             0,
             "#0d0887"
            ],
            [
             0.1111111111111111,
             "#46039f"
            ],
            [
             0.2222222222222222,
             "#7201a8"
            ],
            [
             0.3333333333333333,
             "#9c179e"
            ],
            [
             0.4444444444444444,
             "#bd3786"
            ],
            [
             0.5555555555555556,
             "#d8576b"
            ],
            [
             0.6666666666666666,
             "#ed7953"
            ],
            [
             0.7777777777777778,
             "#fb9f3a"
            ],
            [
             0.8888888888888888,
             "#fdca26"
            ],
            [
             1,
             "#f0f921"
            ]
           ],
           "sequentialminus": [
            [
             0,
             "#0d0887"
            ],
            [
             0.1111111111111111,
             "#46039f"
            ],
            [
             0.2222222222222222,
             "#7201a8"
            ],
            [
             0.3333333333333333,
             "#9c179e"
            ],
            [
             0.4444444444444444,
             "#bd3786"
            ],
            [
             0.5555555555555556,
             "#d8576b"
            ],
            [
             0.6666666666666666,
             "#ed7953"
            ],
            [
             0.7777777777777778,
             "#fb9f3a"
            ],
            [
             0.8888888888888888,
             "#fdca26"
            ],
            [
             1,
             "#f0f921"
            ]
           ]
          },
          "colorway": [
           "#636efa",
           "#EF553B",
           "#00cc96",
           "#ab63fa",
           "#FFA15A",
           "#19d3f3",
           "#FF6692",
           "#B6E880",
           "#FF97FF",
           "#FECB52"
          ],
          "font": {
           "color": "#2a3f5f"
          },
          "geo": {
           "bgcolor": "white",
           "lakecolor": "white",
           "landcolor": "#E5ECF6",
           "showlakes": true,
           "showland": true,
           "subunitcolor": "white"
          },
          "hoverlabel": {
           "align": "left"
          },
          "hovermode": "closest",
          "mapbox": {
           "style": "light"
          },
          "paper_bgcolor": "white",
          "plot_bgcolor": "#E5ECF6",
          "polar": {
           "angularaxis": {
            "gridcolor": "white",
            "linecolor": "white",
            "ticks": ""
           },
           "bgcolor": "#E5ECF6",
           "radialaxis": {
            "gridcolor": "white",
            "linecolor": "white",
            "ticks": ""
           }
          },
          "scene": {
           "xaxis": {
            "backgroundcolor": "#E5ECF6",
            "gridcolor": "white",
            "gridwidth": 2,
            "linecolor": "white",
            "showbackground": true,
            "ticks": "",
            "zerolinecolor": "white"
           },
           "yaxis": {
            "backgroundcolor": "#E5ECF6",
            "gridcolor": "white",
            "gridwidth": 2,
            "linecolor": "white",
            "showbackground": true,
            "ticks": "",
            "zerolinecolor": "white"
           },
           "zaxis": {
            "backgroundcolor": "#E5ECF6",
            "gridcolor": "white",
            "gridwidth": 2,
            "linecolor": "white",
            "showbackground": true,
            "ticks": "",
            "zerolinecolor": "white"
           }
          },
          "shapedefaults": {
           "line": {
            "color": "#2a3f5f"
           }
          },
          "ternary": {
           "aaxis": {
            "gridcolor": "white",
            "linecolor": "white",
            "ticks": ""
           },
           "baxis": {
            "gridcolor": "white",
            "linecolor": "white",
            "ticks": ""
           },
           "bgcolor": "#E5ECF6",
           "caxis": {
            "gridcolor": "white",
            "linecolor": "white",
            "ticks": ""
           }
          },
          "title": {
           "x": 0.05
          },
          "xaxis": {
           "automargin": true,
           "gridcolor": "white",
           "linecolor": "white",
           "ticks": "",
           "title": {
            "standoff": 15
           },
           "zerolinecolor": "white",
           "zerolinewidth": 2
          },
          "yaxis": {
           "automargin": true,
           "gridcolor": "white",
           "linecolor": "white",
           "ticks": "",
           "title": {
            "standoff": 15
           },
           "zerolinecolor": "white",
           "zerolinewidth": 2
          }
         }
        },
        "title": {
         "text": "Line Chart for CTA"
        },
        "xaxis": {
         "anchor": "y",
         "domain": [
          0,
          1
         ],
         "title": {
          "text": "Clicks"
         }
        },
        "yaxis": {
         "anchor": "x",
         "domain": [
          0,
          1
         ],
         "title": {
          "text": "Change in CTA Client by every Click"
         }
        }
       }
      }
     },
     "metadata": {},
     "output_type": "display_data"
    }
   ],
   "source": [
    "import plotly.express as px\n",
    "import pandas as pd\n",
    "\n",
    "# Assuming CTA is a pandas DataFrame with a 'clicks' column\n",
    "# Replace 'CTA' with your actual DataFrame if needed\n",
    "counts1 = CTA['clicks'].value_counts().sort_index().reset_index()\n",
    "counts1.columns = ['Clicks', 'Count']\n",
    "\n",
    "# Calculate percentage change based on 'x'\n",
    "counts1['Percentage Change'] = ((counts1['Count'].shift(1) - counts1['Count']) / counts1['Count'].iloc[0]) * 100\n",
    "\n",
    "# Calculate cumulative percentage change\n",
    "counts1['Cumulative Percentage Change'] = counts1['Percentage Change'].cumsum()\n",
    "\n",
    "# Create an interactive line chart using Plotly\n",
    "fig = px.line(counts1[1:], x='Clicks', y='Cumulative Percentage Change', title='Line Chart for CTA')\n",
    "fig.update_traces(mode='lines+markers')\n",
    "\n",
    "fig.update_layout(xaxis_title='Clicks', yaxis_title='Change in CTA Client by every Click')\n",
    "fig.show()"
   ]
  },
  {
   "cell_type": "markdown",
   "id": "9955ba16-27a8-4eed-b0c6-d98be917adfd",
   "metadata": {},
   "source": [
    "## Line Chart for NCTA ##"
   ]
  },
  {
   "cell_type": "code",
   "execution_count": 84,
   "id": "805f1b95-ba50-4595-ba91-8069da33ee8b",
   "metadata": {},
   "outputs": [
    {
     "data": {
      "application/vnd.plotly.v1+json": {
       "config": {
        "plotlyServerURL": "https://plot.ly"
       },
       "data": [
        {
         "hovertemplate": "Clicks=%{x}<br>Change in CTA Client by every Click=%{y}<extra></extra>",
         "legendgroup": "",
         "line": {
          "color": "#636efa",
          "dash": "solid"
         },
         "marker": {
          "symbol": "circle"
         },
         "mode": "lines",
         "name": "",
         "orientation": "v",
         "showlegend": false,
         "type": "scatter",
         "x": [
          2,
          3,
          4,
          5,
          6,
          7,
          8,
          9,
          10
         ],
         "xaxis": "x",
         "y": [
          37.110481586402265,
          43.90934844192635,
          47.30878186968839,
          52.124645892351275,
          52.69121813031161,
          54.6742209631728,
          56.37393767705382,
          56.65722379603399,
          58.07365439093484
         ],
         "yaxis": "y"
        }
       ],
       "layout": {
        "legend": {
         "tracegroupgap": 0
        },
        "template": {
         "data": {
          "bar": [
           {
            "error_x": {
             "color": "#2a3f5f"
            },
            "error_y": {
             "color": "#2a3f5f"
            },
            "marker": {
             "line": {
              "color": "#E5ECF6",
              "width": 0.5
             },
             "pattern": {
              "fillmode": "overlay",
              "size": 10,
              "solidity": 0.2
             }
            },
            "type": "bar"
           }
          ],
          "barpolar": [
           {
            "marker": {
             "line": {
              "color": "#E5ECF6",
              "width": 0.5
             },
             "pattern": {
              "fillmode": "overlay",
              "size": 10,
              "solidity": 0.2
             }
            },
            "type": "barpolar"
           }
          ],
          "carpet": [
           {
            "aaxis": {
             "endlinecolor": "#2a3f5f",
             "gridcolor": "white",
             "linecolor": "white",
             "minorgridcolor": "white",
             "startlinecolor": "#2a3f5f"
            },
            "baxis": {
             "endlinecolor": "#2a3f5f",
             "gridcolor": "white",
             "linecolor": "white",
             "minorgridcolor": "white",
             "startlinecolor": "#2a3f5f"
            },
            "type": "carpet"
           }
          ],
          "choropleth": [
           {
            "colorbar": {
             "outlinewidth": 0,
             "ticks": ""
            },
            "type": "choropleth"
           }
          ],
          "contour": [
           {
            "colorbar": {
             "outlinewidth": 0,
             "ticks": ""
            },
            "colorscale": [
             [
              0,
              "#0d0887"
             ],
             [
              0.1111111111111111,
              "#46039f"
             ],
             [
              0.2222222222222222,
              "#7201a8"
             ],
             [
              0.3333333333333333,
              "#9c179e"
             ],
             [
              0.4444444444444444,
              "#bd3786"
             ],
             [
              0.5555555555555556,
              "#d8576b"
             ],
             [
              0.6666666666666666,
              "#ed7953"
             ],
             [
              0.7777777777777778,
              "#fb9f3a"
             ],
             [
              0.8888888888888888,
              "#fdca26"
             ],
             [
              1,
              "#f0f921"
             ]
            ],
            "type": "contour"
           }
          ],
          "contourcarpet": [
           {
            "colorbar": {
             "outlinewidth": 0,
             "ticks": ""
            },
            "type": "contourcarpet"
           }
          ],
          "heatmap": [
           {
            "colorbar": {
             "outlinewidth": 0,
             "ticks": ""
            },
            "colorscale": [
             [
              0,
              "#0d0887"
             ],
             [
              0.1111111111111111,
              "#46039f"
             ],
             [
              0.2222222222222222,
              "#7201a8"
             ],
             [
              0.3333333333333333,
              "#9c179e"
             ],
             [
              0.4444444444444444,
              "#bd3786"
             ],
             [
              0.5555555555555556,
              "#d8576b"
             ],
             [
              0.6666666666666666,
              "#ed7953"
             ],
             [
              0.7777777777777778,
              "#fb9f3a"
             ],
             [
              0.8888888888888888,
              "#fdca26"
             ],
             [
              1,
              "#f0f921"
             ]
            ],
            "type": "heatmap"
           }
          ],
          "heatmapgl": [
           {
            "colorbar": {
             "outlinewidth": 0,
             "ticks": ""
            },
            "colorscale": [
             [
              0,
              "#0d0887"
             ],
             [
              0.1111111111111111,
              "#46039f"
             ],
             [
              0.2222222222222222,
              "#7201a8"
             ],
             [
              0.3333333333333333,
              "#9c179e"
             ],
             [
              0.4444444444444444,
              "#bd3786"
             ],
             [
              0.5555555555555556,
              "#d8576b"
             ],
             [
              0.6666666666666666,
              "#ed7953"
             ],
             [
              0.7777777777777778,
              "#fb9f3a"
             ],
             [
              0.8888888888888888,
              "#fdca26"
             ],
             [
              1,
              "#f0f921"
             ]
            ],
            "type": "heatmapgl"
           }
          ],
          "histogram": [
           {
            "marker": {
             "pattern": {
              "fillmode": "overlay",
              "size": 10,
              "solidity": 0.2
             }
            },
            "type": "histogram"
           }
          ],
          "histogram2d": [
           {
            "colorbar": {
             "outlinewidth": 0,
             "ticks": ""
            },
            "colorscale": [
             [
              0,
              "#0d0887"
             ],
             [
              0.1111111111111111,
              "#46039f"
             ],
             [
              0.2222222222222222,
              "#7201a8"
             ],
             [
              0.3333333333333333,
              "#9c179e"
             ],
             [
              0.4444444444444444,
              "#bd3786"
             ],
             [
              0.5555555555555556,
              "#d8576b"
             ],
             [
              0.6666666666666666,
              "#ed7953"
             ],
             [
              0.7777777777777778,
              "#fb9f3a"
             ],
             [
              0.8888888888888888,
              "#fdca26"
             ],
             [
              1,
              "#f0f921"
             ]
            ],
            "type": "histogram2d"
           }
          ],
          "histogram2dcontour": [
           {
            "colorbar": {
             "outlinewidth": 0,
             "ticks": ""
            },
            "colorscale": [
             [
              0,
              "#0d0887"
             ],
             [
              0.1111111111111111,
              "#46039f"
             ],
             [
              0.2222222222222222,
              "#7201a8"
             ],
             [
              0.3333333333333333,
              "#9c179e"
             ],
             [
              0.4444444444444444,
              "#bd3786"
             ],
             [
              0.5555555555555556,
              "#d8576b"
             ],
             [
              0.6666666666666666,
              "#ed7953"
             ],
             [
              0.7777777777777778,
              "#fb9f3a"
             ],
             [
              0.8888888888888888,
              "#fdca26"
             ],
             [
              1,
              "#f0f921"
             ]
            ],
            "type": "histogram2dcontour"
           }
          ],
          "mesh3d": [
           {
            "colorbar": {
             "outlinewidth": 0,
             "ticks": ""
            },
            "type": "mesh3d"
           }
          ],
          "parcoords": [
           {
            "line": {
             "colorbar": {
              "outlinewidth": 0,
              "ticks": ""
             }
            },
            "type": "parcoords"
           }
          ],
          "pie": [
           {
            "automargin": true,
            "type": "pie"
           }
          ],
          "scatter": [
           {
            "fillpattern": {
             "fillmode": "overlay",
             "size": 10,
             "solidity": 0.2
            },
            "type": "scatter"
           }
          ],
          "scatter3d": [
           {
            "line": {
             "colorbar": {
              "outlinewidth": 0,
              "ticks": ""
             }
            },
            "marker": {
             "colorbar": {
              "outlinewidth": 0,
              "ticks": ""
             }
            },
            "type": "scatter3d"
           }
          ],
          "scattercarpet": [
           {
            "marker": {
             "colorbar": {
              "outlinewidth": 0,
              "ticks": ""
             }
            },
            "type": "scattercarpet"
           }
          ],
          "scattergeo": [
           {
            "marker": {
             "colorbar": {
              "outlinewidth": 0,
              "ticks": ""
             }
            },
            "type": "scattergeo"
           }
          ],
          "scattergl": [
           {
            "marker": {
             "colorbar": {
              "outlinewidth": 0,
              "ticks": ""
             }
            },
            "type": "scattergl"
           }
          ],
          "scattermapbox": [
           {
            "marker": {
             "colorbar": {
              "outlinewidth": 0,
              "ticks": ""
             }
            },
            "type": "scattermapbox"
           }
          ],
          "scatterpolar": [
           {
            "marker": {
             "colorbar": {
              "outlinewidth": 0,
              "ticks": ""
             }
            },
            "type": "scatterpolar"
           }
          ],
          "scatterpolargl": [
           {
            "marker": {
             "colorbar": {
              "outlinewidth": 0,
              "ticks": ""
             }
            },
            "type": "scatterpolargl"
           }
          ],
          "scatterternary": [
           {
            "marker": {
             "colorbar": {
              "outlinewidth": 0,
              "ticks": ""
             }
            },
            "type": "scatterternary"
           }
          ],
          "surface": [
           {
            "colorbar": {
             "outlinewidth": 0,
             "ticks": ""
            },
            "colorscale": [
             [
              0,
              "#0d0887"
             ],
             [
              0.1111111111111111,
              "#46039f"
             ],
             [
              0.2222222222222222,
              "#7201a8"
             ],
             [
              0.3333333333333333,
              "#9c179e"
             ],
             [
              0.4444444444444444,
              "#bd3786"
             ],
             [
              0.5555555555555556,
              "#d8576b"
             ],
             [
              0.6666666666666666,
              "#ed7953"
             ],
             [
              0.7777777777777778,
              "#fb9f3a"
             ],
             [
              0.8888888888888888,
              "#fdca26"
             ],
             [
              1,
              "#f0f921"
             ]
            ],
            "type": "surface"
           }
          ],
          "table": [
           {
            "cells": {
             "fill": {
              "color": "#EBF0F8"
             },
             "line": {
              "color": "white"
             }
            },
            "header": {
             "fill": {
              "color": "#C8D4E3"
             },
             "line": {
              "color": "white"
             }
            },
            "type": "table"
           }
          ]
         },
         "layout": {
          "annotationdefaults": {
           "arrowcolor": "#2a3f5f",
           "arrowhead": 0,
           "arrowwidth": 1
          },
          "autotypenumbers": "strict",
          "coloraxis": {
           "colorbar": {
            "outlinewidth": 0,
            "ticks": ""
           }
          },
          "colorscale": {
           "diverging": [
            [
             0,
             "#8e0152"
            ],
            [
             0.1,
             "#c51b7d"
            ],
            [
             0.2,
             "#de77ae"
            ],
            [
             0.3,
             "#f1b6da"
            ],
            [
             0.4,
             "#fde0ef"
            ],
            [
             0.5,
             "#f7f7f7"
            ],
            [
             0.6,
             "#e6f5d0"
            ],
            [
             0.7,
             "#b8e186"
            ],
            [
             0.8,
             "#7fbc41"
            ],
            [
             0.9,
             "#4d9221"
            ],
            [
             1,
             "#276419"
            ]
           ],
           "sequential": [
            [
             0,
             "#0d0887"
            ],
            [
             0.1111111111111111,
             "#46039f"
            ],
            [
             0.2222222222222222,
             "#7201a8"
            ],
            [
             0.3333333333333333,
             "#9c179e"
            ],
            [
             0.4444444444444444,
             "#bd3786"
            ],
            [
             0.5555555555555556,
             "#d8576b"
            ],
            [
             0.6666666666666666,
             "#ed7953"
            ],
            [
             0.7777777777777778,
             "#fb9f3a"
            ],
            [
             0.8888888888888888,
             "#fdca26"
            ],
            [
             1,
             "#f0f921"
            ]
           ],
           "sequentialminus": [
            [
             0,
             "#0d0887"
            ],
            [
             0.1111111111111111,
             "#46039f"
            ],
            [
             0.2222222222222222,
             "#7201a8"
            ],
            [
             0.3333333333333333,
             "#9c179e"
            ],
            [
             0.4444444444444444,
             "#bd3786"
            ],
            [
             0.5555555555555556,
             "#d8576b"
            ],
            [
             0.6666666666666666,
             "#ed7953"
            ],
            [
             0.7777777777777778,
             "#fb9f3a"
            ],
            [
             0.8888888888888888,
             "#fdca26"
            ],
            [
             1,
             "#f0f921"
            ]
           ]
          },
          "colorway": [
           "#636efa",
           "#EF553B",
           "#00cc96",
           "#ab63fa",
           "#FFA15A",
           "#19d3f3",
           "#FF6692",
           "#B6E880",
           "#FF97FF",
           "#FECB52"
          ],
          "font": {
           "color": "#2a3f5f"
          },
          "geo": {
           "bgcolor": "white",
           "lakecolor": "white",
           "landcolor": "#E5ECF6",
           "showlakes": true,
           "showland": true,
           "subunitcolor": "white"
          },
          "hoverlabel": {
           "align": "left"
          },
          "hovermode": "closest",
          "mapbox": {
           "style": "light"
          },
          "paper_bgcolor": "white",
          "plot_bgcolor": "#E5ECF6",
          "polar": {
           "angularaxis": {
            "gridcolor": "white",
            "linecolor": "white",
            "ticks": ""
           },
           "bgcolor": "#E5ECF6",
           "radialaxis": {
            "gridcolor": "white",
            "linecolor": "white",
            "ticks": ""
           }
          },
          "scene": {
           "xaxis": {
            "backgroundcolor": "#E5ECF6",
            "gridcolor": "white",
            "gridwidth": 2,
            "linecolor": "white",
            "showbackground": true,
            "ticks": "",
            "zerolinecolor": "white"
           },
           "yaxis": {
            "backgroundcolor": "#E5ECF6",
            "gridcolor": "white",
            "gridwidth": 2,
            "linecolor": "white",
            "showbackground": true,
            "ticks": "",
            "zerolinecolor": "white"
           },
           "zaxis": {
            "backgroundcolor": "#E5ECF6",
            "gridcolor": "white",
            "gridwidth": 2,
            "linecolor": "white",
            "showbackground": true,
            "ticks": "",
            "zerolinecolor": "white"
           }
          },
          "shapedefaults": {
           "line": {
            "color": "#2a3f5f"
           }
          },
          "ternary": {
           "aaxis": {
            "gridcolor": "white",
            "linecolor": "white",
            "ticks": ""
           },
           "baxis": {
            "gridcolor": "white",
            "linecolor": "white",
            "ticks": ""
           },
           "bgcolor": "#E5ECF6",
           "caxis": {
            "gridcolor": "white",
            "linecolor": "white",
            "ticks": ""
           }
          },
          "title": {
           "x": 0.05
          },
          "xaxis": {
           "automargin": true,
           "gridcolor": "white",
           "linecolor": "white",
           "ticks": "",
           "title": {
            "standoff": 15
           },
           "zerolinecolor": "white",
           "zerolinewidth": 2
          },
          "yaxis": {
           "automargin": true,
           "gridcolor": "white",
           "linecolor": "white",
           "ticks": "",
           "title": {
            "standoff": 15
           },
           "zerolinecolor": "white",
           "zerolinewidth": 2
          }
         }
        },
        "title": {
         "text": "Line Chart for CTA"
        },
        "xaxis": {
         "anchor": "y",
         "domain": [
          0,
          1
         ],
         "title": {
          "text": "Clicks"
         }
        },
        "yaxis": {
         "anchor": "x",
         "domain": [
          0,
          1
         ],
         "title": {
          "text": "Change in CTA Client by every Click"
         }
        }
       }
      }
     },
     "metadata": {},
     "output_type": "display_data"
    }
   ],
   "source": [
    "import plotly.express as px\n",
    "\n",
    "# Assuming 'CTA' is a DataFrame\n",
    "\n",
    "# Calculate the value counts\n",
    "counts1 = NCTA['clicks'].value_counts().sort_index()\n",
    "\n",
    "# Extract the top 10 values\n",
    "x1 = counts1.index[:10]\n",
    "y1 = counts1.values[:10]\n",
    "\n",
    "# Calculate percentage change based on 'x'\n",
    "percentage_change1 = ((y1[:-1] - y1[1:]) / y1[:1]) * 100\n",
    "\n",
    "# Calculate cumulative percentage change\n",
    "cumulative_percentage_change1 = percentage_change1.cumsum()\n",
    "\n",
    "# Create a DataFrame for Plotly\n",
    "df = pd.DataFrame({'Clicks': x1[1:], 'Cumulative Percentage Change': cumulative_percentage_change1})\n",
    "\n",
    "# Create the interactive line chart using Plotly Express\n",
    "fig = px.line(df, x='Clicks', y='Cumulative Percentage Change', title='Line Chart for CTA',\n",
    "              labels={'Cumulative Percentage Change': 'Change in CTA Client by every Click'})\n",
    "\n",
    "# Show the Plotly chart\n",
    "fig.show()"
   ]
  },
  {
   "cell_type": "code",
   "execution_count": 85,
   "id": "2b2d580a-1f51-4846-bc6a-aefee6e029aa",
   "metadata": {},
   "outputs": [
    {
     "data": {
      "application/vnd.plotly.v1+json": {
       "config": {
        "plotlyServerURL": "https://plot.ly"
       },
       "data": [
        {
         "hovertemplate": "Clicks=%{x}<br>Cumulative Percentage Change=%{y}<extra></extra>",
         "legendgroup": "",
         "line": {
          "color": "#636efa",
          "dash": "solid"
         },
         "marker": {
          "symbol": "circle"
         },
         "mode": "lines+markers",
         "name": "",
         "orientation": "v",
         "showlegend": false,
         "type": "scatter",
         "x": [
          2,
          3,
          4,
          5,
          6,
          7,
          8,
          9,
          10,
          11,
          12,
          13,
          14,
          15,
          16,
          17,
          18,
          19,
          20,
          21,
          22,
          23,
          24,
          25,
          26,
          27,
          28,
          29,
          30,
          31,
          32,
          33,
          34,
          35,
          36,
          37,
          38,
          39,
          40,
          41,
          42,
          43,
          44,
          45,
          46,
          47,
          48,
          49,
          50,
          51,
          52,
          53,
          54,
          55,
          56,
          57,
          58,
          59,
          60,
          61,
          62,
          63,
          64,
          65,
          66,
          67,
          68,
          69,
          70,
          71,
          72,
          73,
          74,
          75,
          76,
          77,
          78,
          79,
          80,
          81,
          82,
          83,
          84,
          85,
          86,
          87,
          88,
          89,
          90,
          91,
          92,
          93,
          94,
          95,
          96,
          97,
          98,
          99,
          100,
          101,
          102,
          103,
          104,
          105,
          106,
          107,
          108,
          109,
          110,
          111,
          112,
          113,
          114,
          115,
          116,
          117,
          118,
          119,
          120,
          121,
          122,
          123,
          124,
          125,
          126,
          127,
          128,
          129,
          130,
          131,
          132,
          133,
          134,
          135,
          136,
          137,
          138,
          139,
          140,
          141,
          142,
          143,
          144,
          145,
          146,
          147,
          148,
          149,
          150,
          151,
          152,
          153,
          154,
          155,
          156,
          157,
          158,
          159,
          160,
          161,
          162,
          163,
          164,
          165,
          166,
          167,
          168,
          169,
          170,
          171,
          172,
          173,
          174,
          175,
          176,
          177,
          178,
          179,
          180,
          181,
          182,
          183,
          184,
          185,
          186,
          187,
          188,
          189,
          190,
          191,
          192,
          193,
          194,
          195,
          196,
          197,
          198,
          199,
          200,
          201,
          202,
          203,
          204,
          205,
          206,
          207,
          208,
          209,
          210,
          211,
          212,
          213,
          214,
          215,
          216,
          217,
          218,
          219,
          220,
          221,
          222,
          223,
          224,
          225,
          226,
          227,
          228,
          229,
          230,
          231,
          232,
          233,
          234,
          235,
          236,
          237,
          238,
          239,
          240,
          241,
          242,
          243,
          244,
          245,
          246,
          247,
          248,
          249,
          250,
          251,
          252,
          253,
          254,
          255,
          256,
          257,
          258,
          259,
          260,
          261,
          262,
          263,
          264,
          265,
          266,
          267,
          268,
          269,
          270,
          271,
          272,
          273,
          274,
          275,
          276,
          277,
          278,
          279,
          280,
          281,
          282,
          283,
          284,
          285,
          286,
          287,
          288,
          289,
          290,
          291,
          292,
          293,
          294,
          295,
          296,
          297,
          298,
          299,
          300,
          301,
          302,
          303,
          304,
          305,
          306,
          307,
          308,
          309,
          310,
          311,
          312,
          313,
          314,
          315,
          316,
          317,
          318,
          319,
          320,
          321,
          322,
          323,
          324,
          325,
          326,
          327,
          328,
          329,
          330,
          331,
          332,
          333,
          334,
          335,
          336,
          337,
          338,
          339,
          340,
          341,
          342,
          343,
          344,
          345,
          346,
          347,
          348,
          349
         ],
         "xaxis": "x",
         "y": [
          37.110481586402265,
          43.90934844192635,
          47.30878186968839,
          52.124645892351275,
          52.69121813031161,
          54.6742209631728,
          56.37393767705382,
          56.65722379603399,
          58.07365439093484,
          60.05665722379603,
          62.32294617563739,
          63.73937677053824,
          65.43909348441926,
          65.72237960339943,
          66.57223796033995,
          67.13881019830029,
          69.68838526912182,
          69.40509915014165,
          70.53824362606233,
          71.38810198300284,
          70.53824362606233,
          71.38810198300284,
          72.52124645892351,
          73.08781869688386,
          72.52124645892351,
          72.80453257790369,
          73.6543909348442,
          73.6543909348442,
          73.93767705382437,
          74.78753541076489,
          75.92067988668556,
          76.20396600566573,
          77.05382436260625,
          77.05382436260625,
          77.90368271954677,
          78.47025495750711,
          79.88668555240795,
          80.16997167138813,
          80.4532577903683,
          80.73654390934847,
          81.30311614730881,
          81.86968838526916,
          82.15297450424933,
          82.4362606232295,
          82.4362606232295,
          82.4362606232295,
          82.71954674220967,
          83.00283286118984,
          83.28611898017002,
          83.00283286118984,
          83.00283286118984,
          83.28611898017002,
          83.56940509915019,
          83.85269121813036,
          84.4192634560907,
          84.70254957507088,
          84.70254957507088,
          84.70254957507088,
          84.70254957507088,
          85.83569405099155,
          85.83569405099155,
          86.11898016997172,
          86.11898016997172,
          86.40226628895189,
          86.68555240793206,
          87.53541076487258,
          87.53541076487258,
          87.81869688385275,
          87.81869688385275,
          88.3852691218131,
          88.3852691218131,
          88.95184135977344,
          89.23512747875361,
          89.23512747875361,
          89.23512747875361,
          89.51841359773378,
          90.08498583569413,
          90.65155807365447,
          90.65155807365447,
          90.93484419263464,
          90.93484419263464,
          90.93484419263464,
          91.50141643059499,
          91.50141643059499,
          91.50141643059499,
          91.78470254957516,
          91.78470254957516,
          91.50141643059499,
          91.50141643059499,
          91.78470254957516,
          91.78470254957516,
          92.3512747875355,
          92.3512747875355,
          92.3512747875355,
          92.63456090651567,
          92.63456090651567,
          92.91784702549585,
          92.91784702549585,
          92.91784702549585,
          92.91784702549585,
          92.91784702549585,
          93.20113314447602,
          93.20113314447602,
          93.20113314447602,
          93.20113314447602,
          93.48441926345619,
          93.48441926345619,
          93.76770538243636,
          93.48441926345619,
          94.05099150141653,
          94.05099150141653,
          94.3342776203967,
          94.3342776203967,
          94.3342776203967,
          94.3342776203967,
          94.3342776203967,
          94.90084985835705,
          94.61756373937688,
          94.61756373937688,
          94.61756373937688,
          94.61756373937688,
          95.18413597733722,
          94.90084985835705,
          95.46742209631739,
          94.90084985835705,
          95.18413597733722,
          95.18413597733722,
          95.46742209631739,
          95.46742209631739,
          95.18413597733722,
          95.46742209631739,
          95.46742209631739,
          95.18413597733722,
          95.46742209631739,
          96.03399433427774,
          96.03399433427774,
          95.75070821529756,
          96.31728045325791,
          96.31728045325791,
          96.31728045325791,
          96.60056657223808,
          96.60056657223808,
          96.88385269121825,
          96.60056657223808,
          96.88385269121825,
          96.60056657223808,
          96.60056657223808,
          96.60056657223808,
          96.60056657223808,
          96.88385269121825,
          96.60056657223808,
          96.88385269121825,
          96.88385269121825,
          96.60056657223808,
          96.60056657223808,
          96.60056657223808,
          96.60056657223808,
          96.60056657223808,
          96.60056657223808,
          96.60056657223808,
          96.60056657223808,
          96.60056657223808,
          96.60056657223808,
          96.88385269121825,
          96.88385269121825,
          96.88385269121825,
          96.88385269121825,
          96.88385269121825,
          96.88385269121825,
          96.88385269121825,
          97.16713881019842,
          96.88385269121825,
          97.16713881019842,
          96.88385269121825,
          97.16713881019842,
          97.16713881019842,
          97.4504249291786,
          97.4504249291786,
          97.4504249291786,
          97.4504249291786,
          97.4504249291786,
          97.4504249291786,
          97.4504249291786,
          97.4504249291786,
          97.4504249291786,
          97.16713881019842,
          97.73371104815877,
          97.73371104815877,
          97.73371104815877,
          97.73371104815877,
          97.73371104815877,
          97.73371104815877,
          97.73371104815877,
          97.73371104815877,
          97.73371104815877,
          98.01699716713894,
          98.30028328611911,
          98.30028328611911,
          98.58356940509928,
          98.58356940509928,
          98.58356940509928,
          98.58356940509928,
          98.58356940509928,
          98.58356940509928,
          98.58356940509928,
          98.58356940509928,
          98.58356940509928,
          98.58356940509928,
          98.58356940509928,
          98.58356940509928,
          98.58356940509928,
          98.86685552407945,
          98.86685552407945,
          98.86685552407945,
          98.86685552407945,
          98.86685552407945,
          98.86685552407945,
          98.86685552407945,
          98.86685552407945,
          98.86685552407945,
          98.86685552407945,
          98.86685552407945,
          98.86685552407945,
          98.86685552407945,
          98.86685552407945,
          98.86685552407945,
          98.86685552407945,
          98.86685552407945,
          98.86685552407945,
          98.86685552407945,
          98.86685552407945,
          98.86685552407945,
          98.86685552407945,
          98.86685552407945,
          98.86685552407945,
          98.86685552407945,
          98.86685552407945,
          98.86685552407945,
          98.86685552407945,
          98.86685552407945,
          98.86685552407945,
          98.86685552407945,
          98.86685552407945,
          98.86685552407945,
          98.86685552407945,
          98.86685552407945,
          98.86685552407945,
          98.86685552407945,
          98.86685552407945,
          99.15014164305963,
          99.15014164305963,
          99.15014164305963,
          99.15014164305963,
          99.15014164305963,
          99.4334277620398,
          99.4334277620398,
          99.4334277620398,
          99.4334277620398,
          99.4334277620398,
          99.4334277620398,
          99.4334277620398,
          99.4334277620398,
          99.4334277620398,
          99.4334277620398,
          99.4334277620398,
          99.4334277620398,
          99.4334277620398,
          99.4334277620398,
          99.4334277620398,
          99.4334277620398,
          99.4334277620398,
          99.4334277620398,
          99.4334277620398,
          99.4334277620398,
          99.4334277620398,
          99.4334277620398,
          99.4334277620398,
          99.4334277620398,
          99.4334277620398,
          99.4334277620398,
          99.4334277620398,
          99.4334277620398,
          99.4334277620398,
          99.4334277620398,
          99.4334277620398,
          99.4334277620398,
          99.4334277620398,
          99.4334277620398,
          99.4334277620398,
          99.4334277620398,
          99.4334277620398,
          99.4334277620398,
          99.4334277620398,
          99.4334277620398,
          99.4334277620398,
          99.4334277620398,
          99.4334277620398,
          99.4334277620398,
          99.4334277620398,
          99.4334277620398,
          99.4334277620398,
          99.4334277620398,
          99.4334277620398,
          99.4334277620398,
          99.4334277620398,
          99.4334277620398,
          99.4334277620398,
          99.4334277620398,
          99.4334277620398,
          99.4334277620398,
          99.4334277620398,
          99.4334277620398,
          99.4334277620398,
          99.4334277620398,
          99.4334277620398,
          99.4334277620398,
          99.4334277620398,
          99.4334277620398,
          99.4334277620398,
          99.4334277620398,
          99.4334277620398,
          99.4334277620398,
          99.4334277620398,
          99.4334277620398,
          99.4334277620398,
          99.4334277620398,
          99.4334277620398,
          99.4334277620398,
          99.4334277620398,
          99.4334277620398,
          99.4334277620398,
          99.4334277620398,
          99.4334277620398,
          99.4334277620398,
          99.4334277620398,
          99.4334277620398,
          99.4334277620398,
          99.4334277620398,
          99.4334277620398,
          99.4334277620398,
          99.71671388101997,
          99.71671388101997,
          99.71671388101997,
          99.71671388101997,
          99.71671388101997,
          99.71671388101997,
          99.71671388101997,
          99.71671388101997
         ],
         "yaxis": "y"
        }
       ],
       "layout": {
        "legend": {
         "tracegroupgap": 0
        },
        "template": {
         "data": {
          "bar": [
           {
            "error_x": {
             "color": "#2a3f5f"
            },
            "error_y": {
             "color": "#2a3f5f"
            },
            "marker": {
             "line": {
              "color": "#E5ECF6",
              "width": 0.5
             },
             "pattern": {
              "fillmode": "overlay",
              "size": 10,
              "solidity": 0.2
             }
            },
            "type": "bar"
           }
          ],
          "barpolar": [
           {
            "marker": {
             "line": {
              "color": "#E5ECF6",
              "width": 0.5
             },
             "pattern": {
              "fillmode": "overlay",
              "size": 10,
              "solidity": 0.2
             }
            },
            "type": "barpolar"
           }
          ],
          "carpet": [
           {
            "aaxis": {
             "endlinecolor": "#2a3f5f",
             "gridcolor": "white",
             "linecolor": "white",
             "minorgridcolor": "white",
             "startlinecolor": "#2a3f5f"
            },
            "baxis": {
             "endlinecolor": "#2a3f5f",
             "gridcolor": "white",
             "linecolor": "white",
             "minorgridcolor": "white",
             "startlinecolor": "#2a3f5f"
            },
            "type": "carpet"
           }
          ],
          "choropleth": [
           {
            "colorbar": {
             "outlinewidth": 0,
             "ticks": ""
            },
            "type": "choropleth"
           }
          ],
          "contour": [
           {
            "colorbar": {
             "outlinewidth": 0,
             "ticks": ""
            },
            "colorscale": [
             [
              0,
              "#0d0887"
             ],
             [
              0.1111111111111111,
              "#46039f"
             ],
             [
              0.2222222222222222,
              "#7201a8"
             ],
             [
              0.3333333333333333,
              "#9c179e"
             ],
             [
              0.4444444444444444,
              "#bd3786"
             ],
             [
              0.5555555555555556,
              "#d8576b"
             ],
             [
              0.6666666666666666,
              "#ed7953"
             ],
             [
              0.7777777777777778,
              "#fb9f3a"
             ],
             [
              0.8888888888888888,
              "#fdca26"
             ],
             [
              1,
              "#f0f921"
             ]
            ],
            "type": "contour"
           }
          ],
          "contourcarpet": [
           {
            "colorbar": {
             "outlinewidth": 0,
             "ticks": ""
            },
            "type": "contourcarpet"
           }
          ],
          "heatmap": [
           {
            "colorbar": {
             "outlinewidth": 0,
             "ticks": ""
            },
            "colorscale": [
             [
              0,
              "#0d0887"
             ],
             [
              0.1111111111111111,
              "#46039f"
             ],
             [
              0.2222222222222222,
              "#7201a8"
             ],
             [
              0.3333333333333333,
              "#9c179e"
             ],
             [
              0.4444444444444444,
              "#bd3786"
             ],
             [
              0.5555555555555556,
              "#d8576b"
             ],
             [
              0.6666666666666666,
              "#ed7953"
             ],
             [
              0.7777777777777778,
              "#fb9f3a"
             ],
             [
              0.8888888888888888,
              "#fdca26"
             ],
             [
              1,
              "#f0f921"
             ]
            ],
            "type": "heatmap"
           }
          ],
          "heatmapgl": [
           {
            "colorbar": {
             "outlinewidth": 0,
             "ticks": ""
            },
            "colorscale": [
             [
              0,
              "#0d0887"
             ],
             [
              0.1111111111111111,
              "#46039f"
             ],
             [
              0.2222222222222222,
              "#7201a8"
             ],
             [
              0.3333333333333333,
              "#9c179e"
             ],
             [
              0.4444444444444444,
              "#bd3786"
             ],
             [
              0.5555555555555556,
              "#d8576b"
             ],
             [
              0.6666666666666666,
              "#ed7953"
             ],
             [
              0.7777777777777778,
              "#fb9f3a"
             ],
             [
              0.8888888888888888,
              "#fdca26"
             ],
             [
              1,
              "#f0f921"
             ]
            ],
            "type": "heatmapgl"
           }
          ],
          "histogram": [
           {
            "marker": {
             "pattern": {
              "fillmode": "overlay",
              "size": 10,
              "solidity": 0.2
             }
            },
            "type": "histogram"
           }
          ],
          "histogram2d": [
           {
            "colorbar": {
             "outlinewidth": 0,
             "ticks": ""
            },
            "colorscale": [
             [
              0,
              "#0d0887"
             ],
             [
              0.1111111111111111,
              "#46039f"
             ],
             [
              0.2222222222222222,
              "#7201a8"
             ],
             [
              0.3333333333333333,
              "#9c179e"
             ],
             [
              0.4444444444444444,
              "#bd3786"
             ],
             [
              0.5555555555555556,
              "#d8576b"
             ],
             [
              0.6666666666666666,
              "#ed7953"
             ],
             [
              0.7777777777777778,
              "#fb9f3a"
             ],
             [
              0.8888888888888888,
              "#fdca26"
             ],
             [
              1,
              "#f0f921"
             ]
            ],
            "type": "histogram2d"
           }
          ],
          "histogram2dcontour": [
           {
            "colorbar": {
             "outlinewidth": 0,
             "ticks": ""
            },
            "colorscale": [
             [
              0,
              "#0d0887"
             ],
             [
              0.1111111111111111,
              "#46039f"
             ],
             [
              0.2222222222222222,
              "#7201a8"
             ],
             [
              0.3333333333333333,
              "#9c179e"
             ],
             [
              0.4444444444444444,
              "#bd3786"
             ],
             [
              0.5555555555555556,
              "#d8576b"
             ],
             [
              0.6666666666666666,
              "#ed7953"
             ],
             [
              0.7777777777777778,
              "#fb9f3a"
             ],
             [
              0.8888888888888888,
              "#fdca26"
             ],
             [
              1,
              "#f0f921"
             ]
            ],
            "type": "histogram2dcontour"
           }
          ],
          "mesh3d": [
           {
            "colorbar": {
             "outlinewidth": 0,
             "ticks": ""
            },
            "type": "mesh3d"
           }
          ],
          "parcoords": [
           {
            "line": {
             "colorbar": {
              "outlinewidth": 0,
              "ticks": ""
             }
            },
            "type": "parcoords"
           }
          ],
          "pie": [
           {
            "automargin": true,
            "type": "pie"
           }
          ],
          "scatter": [
           {
            "fillpattern": {
             "fillmode": "overlay",
             "size": 10,
             "solidity": 0.2
            },
            "type": "scatter"
           }
          ],
          "scatter3d": [
           {
            "line": {
             "colorbar": {
              "outlinewidth": 0,
              "ticks": ""
             }
            },
            "marker": {
             "colorbar": {
              "outlinewidth": 0,
              "ticks": ""
             }
            },
            "type": "scatter3d"
           }
          ],
          "scattercarpet": [
           {
            "marker": {
             "colorbar": {
              "outlinewidth": 0,
              "ticks": ""
             }
            },
            "type": "scattercarpet"
           }
          ],
          "scattergeo": [
           {
            "marker": {
             "colorbar": {
              "outlinewidth": 0,
              "ticks": ""
             }
            },
            "type": "scattergeo"
           }
          ],
          "scattergl": [
           {
            "marker": {
             "colorbar": {
              "outlinewidth": 0,
              "ticks": ""
             }
            },
            "type": "scattergl"
           }
          ],
          "scattermapbox": [
           {
            "marker": {
             "colorbar": {
              "outlinewidth": 0,
              "ticks": ""
             }
            },
            "type": "scattermapbox"
           }
          ],
          "scatterpolar": [
           {
            "marker": {
             "colorbar": {
              "outlinewidth": 0,
              "ticks": ""
             }
            },
            "type": "scatterpolar"
           }
          ],
          "scatterpolargl": [
           {
            "marker": {
             "colorbar": {
              "outlinewidth": 0,
              "ticks": ""
             }
            },
            "type": "scatterpolargl"
           }
          ],
          "scatterternary": [
           {
            "marker": {
             "colorbar": {
              "outlinewidth": 0,
              "ticks": ""
             }
            },
            "type": "scatterternary"
           }
          ],
          "surface": [
           {
            "colorbar": {
             "outlinewidth": 0,
             "ticks": ""
            },
            "colorscale": [
             [
              0,
              "#0d0887"
             ],
             [
              0.1111111111111111,
              "#46039f"
             ],
             [
              0.2222222222222222,
              "#7201a8"
             ],
             [
              0.3333333333333333,
              "#9c179e"
             ],
             [
              0.4444444444444444,
              "#bd3786"
             ],
             [
              0.5555555555555556,
              "#d8576b"
             ],
             [
              0.6666666666666666,
              "#ed7953"
             ],
             [
              0.7777777777777778,
              "#fb9f3a"
             ],
             [
              0.8888888888888888,
              "#fdca26"
             ],
             [
              1,
              "#f0f921"
             ]
            ],
            "type": "surface"
           }
          ],
          "table": [
           {
            "cells": {
             "fill": {
              "color": "#EBF0F8"
             },
             "line": {
              "color": "white"
             }
            },
            "header": {
             "fill": {
              "color": "#C8D4E3"
             },
             "line": {
              "color": "white"
             }
            },
            "type": "table"
           }
          ]
         },
         "layout": {
          "annotationdefaults": {
           "arrowcolor": "#2a3f5f",
           "arrowhead": 0,
           "arrowwidth": 1
          },
          "autotypenumbers": "strict",
          "coloraxis": {
           "colorbar": {
            "outlinewidth": 0,
            "ticks": ""
           }
          },
          "colorscale": {
           "diverging": [
            [
             0,
             "#8e0152"
            ],
            [
             0.1,
             "#c51b7d"
            ],
            [
             0.2,
             "#de77ae"
            ],
            [
             0.3,
             "#f1b6da"
            ],
            [
             0.4,
             "#fde0ef"
            ],
            [
             0.5,
             "#f7f7f7"
            ],
            [
             0.6,
             "#e6f5d0"
            ],
            [
             0.7,
             "#b8e186"
            ],
            [
             0.8,
             "#7fbc41"
            ],
            [
             0.9,
             "#4d9221"
            ],
            [
             1,
             "#276419"
            ]
           ],
           "sequential": [
            [
             0,
             "#0d0887"
            ],
            [
             0.1111111111111111,
             "#46039f"
            ],
            [
             0.2222222222222222,
             "#7201a8"
            ],
            [
             0.3333333333333333,
             "#9c179e"
            ],
            [
             0.4444444444444444,
             "#bd3786"
            ],
            [
             0.5555555555555556,
             "#d8576b"
            ],
            [
             0.6666666666666666,
             "#ed7953"
            ],
            [
             0.7777777777777778,
             "#fb9f3a"
            ],
            [
             0.8888888888888888,
             "#fdca26"
            ],
            [
             1,
             "#f0f921"
            ]
           ],
           "sequentialminus": [
            [
             0,
             "#0d0887"
            ],
            [
             0.1111111111111111,
             "#46039f"
            ],
            [
             0.2222222222222222,
             "#7201a8"
            ],
            [
             0.3333333333333333,
             "#9c179e"
            ],
            [
             0.4444444444444444,
             "#bd3786"
            ],
            [
             0.5555555555555556,
             "#d8576b"
            ],
            [
             0.6666666666666666,
             "#ed7953"
            ],
            [
             0.7777777777777778,
             "#fb9f3a"
            ],
            [
             0.8888888888888888,
             "#fdca26"
            ],
            [
             1,
             "#f0f921"
            ]
           ]
          },
          "colorway": [
           "#636efa",
           "#EF553B",
           "#00cc96",
           "#ab63fa",
           "#FFA15A",
           "#19d3f3",
           "#FF6692",
           "#B6E880",
           "#FF97FF",
           "#FECB52"
          ],
          "font": {
           "color": "#2a3f5f"
          },
          "geo": {
           "bgcolor": "white",
           "lakecolor": "white",
           "landcolor": "#E5ECF6",
           "showlakes": true,
           "showland": true,
           "subunitcolor": "white"
          },
          "hoverlabel": {
           "align": "left"
          },
          "hovermode": "closest",
          "mapbox": {
           "style": "light"
          },
          "paper_bgcolor": "white",
          "plot_bgcolor": "#E5ECF6",
          "polar": {
           "angularaxis": {
            "gridcolor": "white",
            "linecolor": "white",
            "ticks": ""
           },
           "bgcolor": "#E5ECF6",
           "radialaxis": {
            "gridcolor": "white",
            "linecolor": "white",
            "ticks": ""
           }
          },
          "scene": {
           "xaxis": {
            "backgroundcolor": "#E5ECF6",
            "gridcolor": "white",
            "gridwidth": 2,
            "linecolor": "white",
            "showbackground": true,
            "ticks": "",
            "zerolinecolor": "white"
           },
           "yaxis": {
            "backgroundcolor": "#E5ECF6",
            "gridcolor": "white",
            "gridwidth": 2,
            "linecolor": "white",
            "showbackground": true,
            "ticks": "",
            "zerolinecolor": "white"
           },
           "zaxis": {
            "backgroundcolor": "#E5ECF6",
            "gridcolor": "white",
            "gridwidth": 2,
            "linecolor": "white",
            "showbackground": true,
            "ticks": "",
            "zerolinecolor": "white"
           }
          },
          "shapedefaults": {
           "line": {
            "color": "#2a3f5f"
           }
          },
          "ternary": {
           "aaxis": {
            "gridcolor": "white",
            "linecolor": "white",
            "ticks": ""
           },
           "baxis": {
            "gridcolor": "white",
            "linecolor": "white",
            "ticks": ""
           },
           "bgcolor": "#E5ECF6",
           "caxis": {
            "gridcolor": "white",
            "linecolor": "white",
            "ticks": ""
           }
          },
          "title": {
           "x": 0.05
          },
          "xaxis": {
           "automargin": true,
           "gridcolor": "white",
           "linecolor": "white",
           "ticks": "",
           "title": {
            "standoff": 15
           },
           "zerolinecolor": "white",
           "zerolinewidth": 2
          },
          "yaxis": {
           "automargin": true,
           "gridcolor": "white",
           "linecolor": "white",
           "ticks": "",
           "title": {
            "standoff": 15
           },
           "zerolinecolor": "white",
           "zerolinewidth": 2
          }
         }
        },
        "title": {
         "text": "Line Chart for CTA"
        },
        "xaxis": {
         "anchor": "y",
         "domain": [
          0,
          1
         ],
         "title": {
          "text": "Clicks"
         }
        },
        "yaxis": {
         "anchor": "x",
         "domain": [
          0,
          1
         ],
         "title": {
          "text": "Change in CTA Client by every Click"
         }
        }
       }
      }
     },
     "metadata": {},
     "output_type": "display_data"
    }
   ],
   "source": [
    "import plotly.express as px\n",
    "import pandas as pd\n",
    "\n",
    "# Assuming CTA is a pandas DataFrame with a 'clicks' column\n",
    "# Replace 'CTA' with your actual DataFrame if needed\n",
    "counts1 = NCTA['clicks'].value_counts().sort_index().reset_index()\n",
    "counts1.columns = ['Clicks', 'Count']\n",
    "\n",
    "# Calculate percentage change based on 'x'\n",
    "counts1['Percentage Change'] = ((counts1['Count'].shift(1) - counts1['Count']) / counts1['Count'].iloc[0]) * 100\n",
    "\n",
    "# Calculate cumulative percentage change\n",
    "counts1['Cumulative Percentage Change'] = counts1['Percentage Change'].cumsum()\n",
    "\n",
    "# Create an interactive line chart using Plotly\n",
    "fig = px.line(counts1[1:], x='Clicks', y='Cumulative Percentage Change', title='Line Chart for CTA')\n",
    "fig.update_traces(mode='lines+markers')\n",
    "\n",
    "fig.update_layout(xaxis_title='Clicks', yaxis_title='Change in CTA Client by every Click')\n",
    "fig.show()"
   ]
  },
  {
   "cell_type": "markdown",
   "id": "73dc9d3f-48f1-451f-82ac-a5e8522b26cb",
   "metadata": {},
   "source": [
    "**=====================================**"
   ]
  },
  {
   "cell_type": "markdown",
   "id": "a982c650-ac5b-47d9-8cf4-bc1202e889d4",
   "metadata": {},
   "source": [
    "## Most Frequent CTA Sequences ##"
   ]
  },
  {
   "cell_type": "code",
   "execution_count": 86,
   "id": "9bca4853-570e-4047-9e1b-f1d3e692dd2a",
   "metadata": {},
   "outputs": [
    {
     "data": {
      "text/plain": [
       "client\n",
       "104.194.24.237                                         [4142, 4144]\n",
       "104.194.24.43                                          [55, 66, 58]\n",
       "104.222.32.94     [4505, 4432, 4452, 4490, 4166, 4330, 4511, 440...\n",
       "128.199.138.35                                    [134, 58, 58, 58]\n",
       "134.19.177.18            [4162, 4168, 4520, 4166, 4374, 4156, 4646]\n",
       "                                        ...                        \n",
       "93.118.108.2                                            [328, 4611]\n",
       "93.119.76.133                                                 [328]\n",
       "94.176.54.17                                                 [4611]\n",
       "94.183.34.37                                            [328, 4611]\n",
       "94.183.37.129                                                 [328]\n",
       "Name: page_id, Length: 77, dtype: object"
      ]
     },
     "execution_count": 86,
     "metadata": {},
     "output_type": "execute_result"
    }
   ],
   "source": [
    "CTA_sequences_df.page_id"
   ]
  },
  {
   "cell_type": "code",
   "execution_count": 87,
   "id": "b100a88d-3b4e-4d75-8ada-1ec3be40a335",
   "metadata": {},
   "outputs": [
    {
     "data": {
      "image/png": "[encoded data removed]",
      "text/plain": [
       "<Figure size 1008x576 with 1 Axes>"
      ]
     },
     "metadata": {
      "needs_background": "light"
     },
     "output_type": "display_data"
    }
   ],
   "source": [
    "import matplotlib.pyplot as plt\n",
    "import seaborn as sns\n",
    "\n",
    "# Assuming that 'combined_sequence' is a DataFrame with a 'page_id' column\n",
    "value_counts = CTA_sequences_df['page_id'].value_counts()\n",
    "\n",
    "# Get the top 7 most frequent pages\n",
    "top_7_pages = value_counts.head(7)\n",
    "\n",
    "# Create a larger figure to provide more space\n",
    "plt.figure(figsize=(14, 8))\n",
    "\n",
    "# Create a bar chart for the top 7 pages\n",
    "ax = top_7_pages.plot.bar(color='skyblue')\n",
    "\n",
    "plt.title('Most Frequent Sequences', fontsize=16)\n",
    "plt.xlabel('CTA Sequences', fontsize=12)\n",
    "plt.ylabel('Count', fontsize=12)\n",
    "plt.xticks(rotation=45, fontsize=10)\n",
    "\n",
    "# Annotate the bars directly\n",
    "for x, y in zip(range(len(top_7_pages)), top_7_pages):\n",
    "    ax.text(x, y, round(y), ha='center', va='bottom', fontsize=10)\n",
    "\n",
    "# Customize the grid and background\n",
    "ax.yaxis.grid(True, linestyle='--', alpha=0.6)\n",
    "ax.set_axisbelow(True)\n",
    "\n",
    "# Add a subtle background color to the plot\n",
    "ax.set_facecolor('#f5f5f5')\n",
    "\n",
    "# Remove the top and right spines\n",
    "ax.spines['top'].set_visible(False)\n",
    "ax.spines['right'].set_visible(False)\n",
    "\n",
    "# Customize the tick labels and grid lines\n",
    "ax.tick_params(axis='both', which='both', length=0)\n",
    "ax.tick_params(axis='x', rotation=0)\n",
    "\n",
    "# Add a horizontal line at y=0\n",
    "plt.axhline(y=0, color='black', linewidth=0.5)\n",
    "\n",
    "plt.show()"
   ]
  },
  {
   "cell_type": "code",
   "execution_count": 88,
   "id": "c056daf1-8180-461d-b18e-5e2107cb519c",
   "metadata": {},
   "outputs": [
    {
     "data": {
      "text/html": [
       "<div>\n",
       "<style scoped>\n",
       "    .dataframe tbody tr th:only-of-type {\n",
       "        vertical-align: middle;\n",
       "    }\n",
       "\n",
       "    .dataframe tbody tr th {\n",
       "        vertical-align: top;\n",
       "    }\n",
       "\n",
       "    .dataframe thead th {\n",
       "        text-align: right;\n",
       "    }\n",
       "</style>\n",
       "<table border=\"1\" class=\"dataframe\">\n",
       "  <thead>\n",
       "    <tr style=\"text-align: right;\">\n",
       "      <th></th>\n",
       "      <th>page_id</th>\n",
       "      <th>label</th>\n",
       "    </tr>\n",
       "    <tr>\n",
       "      <th>client</th>\n",
       "      <th></th>\n",
       "      <th></th>\n",
       "    </tr>\n",
       "  </thead>\n",
       "  <tbody>\n",
       "    <tr>\n",
       "      <th>151.239.187.171</th>\n",
       "      <td>[328]</td>\n",
       "      <td>1</td>\n",
       "    </tr>\n",
       "    <tr>\n",
       "      <th>176.65.161.111</th>\n",
       "      <td>[328, 4611]</td>\n",
       "      <td>1</td>\n",
       "    </tr>\n",
       "    <tr>\n",
       "      <th>178.238.202.167</th>\n",
       "      <td>[328]</td>\n",
       "      <td>1</td>\n",
       "    </tr>\n",
       "    <tr>\n",
       "      <th>178.252.184.54</th>\n",
       "      <td>[328]</td>\n",
       "      <td>1</td>\n",
       "    </tr>\n",
       "    <tr>\n",
       "      <th>185.120.137.243</th>\n",
       "      <td>[4611]</td>\n",
       "      <td>1</td>\n",
       "    </tr>\n",
       "  </tbody>\n",
       "</table>\n",
       "</div>"
      ],
      "text/plain": [
       "                     page_id  label\n",
       "client                             \n",
       "151.239.187.171        [328]      1\n",
       "176.65.161.111   [328, 4611]      1\n",
       "178.238.202.167        [328]      1\n",
       "178.252.184.54         [328]      1\n",
       "185.120.137.243       [4611]      1"
      ]
     },
     "execution_count": 88,
     "metadata": {},
     "output_type": "execute_result"
    }
   ],
   "source": [
    "# Assuming you already have the 'top_7_pages' series\n",
    "top_2_values = top_7_pages.index[:2]  # Get the top 2 values\n",
    "\n",
    "# Create a boolean mask to filter rows with the top 2 values in 'page_id'\n",
    "mask = CTA_sequences_df['page_id'].apply(lambda x: any(page_id in x for page_id in top_2_values))\n",
    "\n",
    "# Use the mask to filter the DataFrame\n",
    "filtered_df = CTA_sequences_df[mask]\n",
    "\n",
    "# Display the filtered DataFrame\n",
    "filtered_df.head(5)"
   ]
  },
  {
   "cell_type": "markdown",
   "id": "cbfddec8-b253-46b2-91fc-761605735647",
   "metadata": {},
   "source": [
    "**=====================================**"
   ]
  },
  {
   "cell_type": "markdown",
   "id": "6b5ed0a7-150a-44dd-9513-9c772a89bad8",
   "metadata": {},
   "source": [
    "## Levenshtein Distance ##"
   ]
  },
  {
   "cell_type": "code",
   "execution_count": 89,
   "id": "de504d80-3059-4905-b6d2-c1881d56c673",
   "metadata": {
    "scrolled": true
   },
   "outputs": [
    {
     "name": "stdout",
     "output_type": "stream",
     "text": [
      "Distance between sequence_NCTA 1 and sequence_CTA 1: 7\n",
      "Distance between sequence_NCTA 1 and sequence_CTA 2: 8\n",
      "Distance between sequence_NCTA 1 and sequence_CTA 3: 7\n",
      "Distance between sequence_NCTA 1 and sequence_CTA 4: 11\n",
      "Distance between sequence_NCTA 1 and sequence_CTA 5: 10\n",
      "Distance between sequence_NCTA 1 and sequence_CTA 6: 12\n",
      "Distance between sequence_NCTA 1 and sequence_CTA 7: 22\n",
      "Distance between sequence_NCTA 2 and sequence_CTA 1: 30\n",
      "Distance between sequence_NCTA 2 and sequence_CTA 2: 29\n",
      "Distance between sequence_NCTA 2 and sequence_CTA 3: 29\n",
      "Distance between sequence_NCTA 2 and sequence_CTA 4: 26\n",
      "Distance between sequence_NCTA 2 and sequence_CTA 5: 28\n",
      "Distance between sequence_NCTA 2 and sequence_CTA 6: 24\n",
      "Distance between sequence_NCTA 2 and sequence_CTA 7: 24\n",
      "Distance between sequence_NCTA 3 and sequence_CTA 1: 27\n",
      "Distance between sequence_NCTA 3 and sequence_CTA 2: 25\n",
      "Distance between sequence_NCTA 3 and sequence_CTA 3: 25\n",
      "Distance between sequence_NCTA 3 and sequence_CTA 4: 26\n",
      "Distance between sequence_NCTA 3 and sequence_CTA 5: 28\n",
      "Distance between sequence_NCTA 3 and sequence_CTA 6: 27\n",
      "Distance between sequence_NCTA 3 and sequence_CTA 7: 26\n",
      "Distance between sequence_NCTA 4 and sequence_CTA 1: 28\n",
      "Distance between sequence_NCTA 4 and sequence_CTA 2: 28\n",
      "Distance between sequence_NCTA 4 and sequence_CTA 3: 28\n",
      "Distance between sequence_NCTA 4 and sequence_CTA 4: 27\n",
      "Distance between sequence_NCTA 4 and sequence_CTA 5: 27\n",
      "Distance between sequence_NCTA 4 and sequence_CTA 6: 25\n",
      "Distance between sequence_NCTA 4 and sequence_CTA 7: 26\n",
      "Distance between sequence_NCTA 5 and sequence_CTA 1: 8\n",
      "Distance between sequence_NCTA 5 and sequence_CTA 2: 9\n",
      "Distance between sequence_NCTA 5 and sequence_CTA 3: 8\n",
      "Distance between sequence_NCTA 5 and sequence_CTA 4: 10\n",
      "Distance between sequence_NCTA 5 and sequence_CTA 5: 11\n",
      "Distance between sequence_NCTA 5 and sequence_CTA 6: 13\n",
      "Distance between sequence_NCTA 5 and sequence_CTA 7: 22\n",
      "Distance between sequence_NCTA 6 and sequence_CTA 1: 26\n",
      "Distance between sequence_NCTA 6 and sequence_CTA 2: 25\n",
      "Distance between sequence_NCTA 6 and sequence_CTA 3: 26\n",
      "Distance between sequence_NCTA 6 and sequence_CTA 4: 25\n",
      "Distance between sequence_NCTA 6 and sequence_CTA 5: 25\n",
      "Distance between sequence_NCTA 6 and sequence_CTA 6: 25\n",
      "Distance between sequence_NCTA 6 and sequence_CTA 7: 24\n",
      "Distance between sequence_NCTA 7 and sequence_CTA 1: 7\n",
      "Distance between sequence_NCTA 7 and sequence_CTA 2: 8\n",
      "Distance between sequence_NCTA 7 and sequence_CTA 3: 7\n",
      "Distance between sequence_NCTA 7 and sequence_CTA 4: 11\n",
      "Distance between sequence_NCTA 7 and sequence_CTA 5: 10\n",
      "Distance between sequence_NCTA 7 and sequence_CTA 6: 13\n",
      "Distance between sequence_NCTA 7 and sequence_CTA 7: 22\n",
      "Distance between sequence_NCTA 8 and sequence_CTA 1: 27\n",
      "Distance between sequence_NCTA 8 and sequence_CTA 2: 27\n",
      "Distance between sequence_NCTA 8 and sequence_CTA 3: 27\n",
      "Distance between sequence_NCTA 8 and sequence_CTA 4: 26\n",
      "Distance between sequence_NCTA 8 and sequence_CTA 5: 28\n",
      "Distance between sequence_NCTA 8 and sequence_CTA 6: 26\n",
      "Distance between sequence_NCTA 8 and sequence_CTA 7: 26\n",
      "Distance between sequence_NCTA 9 and sequence_CTA 1: 27\n",
      "Distance between sequence_NCTA 9 and sequence_CTA 2: 25\n",
      "Distance between sequence_NCTA 9 and sequence_CTA 3: 26\n",
      "Distance between sequence_NCTA 9 and sequence_CTA 4: 24\n",
      "Distance between sequence_NCTA 9 and sequence_CTA 5: 27\n",
      "Distance between sequence_NCTA 9 and sequence_CTA 6: 27\n",
      "Distance between sequence_NCTA 9 and sequence_CTA 7: 25\n",
      "Distance between sequence_NCTA 10 and sequence_CTA 1: 27\n",
      "Distance between sequence_NCTA 10 and sequence_CTA 2: 26\n",
      "Distance between sequence_NCTA 10 and sequence_CTA 3: 27\n",
      "Distance between sequence_NCTA 10 and sequence_CTA 4: 26\n",
      "Distance between sequence_NCTA 10 and sequence_CTA 5: 25\n",
      "Distance between sequence_NCTA 10 and sequence_CTA 6: 24\n",
      "Distance between sequence_NCTA 10 and sequence_CTA 7: 22\n",
      "Distance between sequence_NCTA 11 and sequence_CTA 1: 26\n",
      "Distance between sequence_NCTA 11 and sequence_CTA 2: 26\n",
      "Distance between sequence_NCTA 11 and sequence_CTA 3: 26\n",
      "Distance between sequence_NCTA 11 and sequence_CTA 4: 23\n",
      "Distance between sequence_NCTA 11 and sequence_CTA 5: 25\n",
      "Distance between sequence_NCTA 11 and sequence_CTA 6: 26\n",
      "Distance between sequence_NCTA 11 and sequence_CTA 7: 25\n",
      "Distance between sequence_NCTA 12 and sequence_CTA 1: 21\n",
      "Distance between sequence_NCTA 12 and sequence_CTA 2: 21\n",
      "Distance between sequence_NCTA 12 and sequence_CTA 3: 22\n",
      "Distance between sequence_NCTA 12 and sequence_CTA 4: 21\n",
      "Distance between sequence_NCTA 12 and sequence_CTA 5: 19\n",
      "Distance between sequence_NCTA 12 and sequence_CTA 6: 21\n",
      "Distance between sequence_NCTA 12 and sequence_CTA 7: 21\n",
      "Distance between sequence_NCTA 13 and sequence_CTA 1: 15\n",
      "Distance between sequence_NCTA 13 and sequence_CTA 2: 16\n",
      "Distance between sequence_NCTA 13 and sequence_CTA 3: 15\n",
      "Distance between sequence_NCTA 13 and sequence_CTA 4: 18\n",
      "Distance between sequence_NCTA 13 and sequence_CTA 5: 17\n",
      "Distance between sequence_NCTA 13 and sequence_CTA 6: 18\n",
      "Distance between sequence_NCTA 13 and sequence_CTA 7: 20\n",
      "Distance between sequence_NCTA 14 and sequence_CTA 1: 8\n",
      "Distance between sequence_NCTA 14 and sequence_CTA 2: 8\n",
      "Distance between sequence_NCTA 14 and sequence_CTA 3: 7\n",
      "Distance between sequence_NCTA 14 and sequence_CTA 4: 11\n",
      "Distance between sequence_NCTA 14 and sequence_CTA 5: 11\n",
      "Distance between sequence_NCTA 14 and sequence_CTA 6: 12\n",
      "Distance between sequence_NCTA 14 and sequence_CTA 7: 21\n",
      "Distance between sequence_NCTA 15 and sequence_CTA 1: 6\n",
      "Distance between sequence_NCTA 15 and sequence_CTA 2: 7\n",
      "Distance between sequence_NCTA 15 and sequence_CTA 3: 6\n",
      "Distance between sequence_NCTA 15 and sequence_CTA 4: 10\n",
      "Distance between sequence_NCTA 15 and sequence_CTA 5: 8\n",
      "Distance between sequence_NCTA 15 and sequence_CTA 6: 13\n",
      "Distance between sequence_NCTA 15 and sequence_CTA 7: 22\n",
      "Distance between sequence_NCTA 16 and sequence_CTA 1: 27\n",
      "Distance between sequence_NCTA 16 and sequence_CTA 2: 28\n",
      "Distance between sequence_NCTA 16 and sequence_CTA 3: 27\n",
      "Distance between sequence_NCTA 16 and sequence_CTA 4: 28\n",
      "Distance between sequence_NCTA 16 and sequence_CTA 5: 27\n",
      "Distance between sequence_NCTA 16 and sequence_CTA 6: 28\n",
      "Distance between sequence_NCTA 16 and sequence_CTA 7: 27\n",
      "Distance between sequence_NCTA 17 and sequence_CTA 1: 26\n",
      "Distance between sequence_NCTA 17 and sequence_CTA 2: 28\n",
      "Distance between sequence_NCTA 17 and sequence_CTA 3: 27\n",
      "Distance between sequence_NCTA 17 and sequence_CTA 4: 27\n",
      "Distance between sequence_NCTA 17 and sequence_CTA 5: 28\n",
      "Distance between sequence_NCTA 17 and sequence_CTA 6: 27\n",
      "Distance between sequence_NCTA 17 and sequence_CTA 7: 26\n",
      "Distance between sequence_NCTA 18 and sequence_CTA 1: 8\n",
      "Distance between sequence_NCTA 18 and sequence_CTA 2: 8\n",
      "Distance between sequence_NCTA 18 and sequence_CTA 3: 7\n",
      "Distance between sequence_NCTA 18 and sequence_CTA 4: 11\n",
      "Distance between sequence_NCTA 18 and sequence_CTA 5: 11\n",
      "Distance between sequence_NCTA 18 and sequence_CTA 6: 12\n",
      "Distance between sequence_NCTA 18 and sequence_CTA 7: 21\n",
      "Distance between sequence_NCTA 19 and sequence_CTA 1: 16\n",
      "Distance between sequence_NCTA 19 and sequence_CTA 2: 17\n",
      "Distance between sequence_NCTA 19 and sequence_CTA 3: 16\n",
      "Distance between sequence_NCTA 19 and sequence_CTA 4: 18\n",
      "Distance between sequence_NCTA 19 and sequence_CTA 5: 17\n",
      "Distance between sequence_NCTA 19 and sequence_CTA 6: 17\n",
      "Distance between sequence_NCTA 19 and sequence_CTA 7: 20\n",
      "Distance between sequence_NCTA 20 and sequence_CTA 1: 6\n",
      "Distance between sequence_NCTA 20 and sequence_CTA 2: 7\n",
      "Distance between sequence_NCTA 20 and sequence_CTA 3: 6\n",
      "Distance between sequence_NCTA 20 and sequence_CTA 4: 10\n",
      "Distance between sequence_NCTA 20 and sequence_CTA 5: 8\n",
      "Distance between sequence_NCTA 20 and sequence_CTA 6: 13\n",
      "Distance between sequence_NCTA 20 and sequence_CTA 7: 22\n"
     ]
    }
   ],
   "source": [
    "import Levenshtein  # noqa: E402\n",
    "import numpy as np\n",
    "\n",
    "# Initialize a matrix to store distances\n",
    "num_NCTA_seqs = 20  #len(sequence_all) \n",
    "num_CTA_seqs = len(top_7_pages)  # Use the number of top CTA sequences\n",
    "\n",
    "# Convert the top_7_pages values to a list of strings\n",
    "sequence_CTA = [str(page_id) for page_id in top_7_pages.index]\n",
    "\n",
    "lev_distances = np.zeros((num_NCTA_seqs, num_CTA_seqs), dtype=int)\n",
    "\n",
    "# Replace this with your actual NCTA sequences (sequence_NCTA)\n",
    "# You need to replace this placeholder with your actual NCTA sequences.\n",
    "#sequence_NCTA = ['your', 'NCTA', 'sequences', 'go', 'here']\n",
    "\n",
    "# Calculate Levenshtein distances\n",
    "for i in range(num_NCTA_seqs):\n",
    "    for j in range(num_CTA_seqs):\n",
    "        # Convert sequences to strings and pad them to the same length\n",
    "        max_len = max(len(sequence_all[i]), len(sequence_CTA[j]))\n",
    "        sequence_NCTA_str = ''.join(map(str, sequence_all[i])).ljust(max_len, '0')\n",
    "        sequence_CTA_str = sequence_CTA[j].ljust(max_len, '0')\n",
    "\n",
    "        # Calculate Levenshtein distance\n",
    "        lev_distances[i, j] = Levenshtein.distance(sequence_NCTA_str, sequence_CTA_str)\n",
    "\n",
    "# Print the Levenshtein distances\n",
    "for i in range(num_NCTA_seqs):\n",
    "    for j in range(num_CTA_seqs):\n",
    "        print(f\"Distance between sequence_NCTA {i+1} and sequence_CTA {j+1}: {lev_distances[i, j]}\")"
   ]
  },
  {
   "cell_type": "code",
   "execution_count": 90,
   "id": "8352776f-e45d-4d7d-a18f-bd7f3065bcdb",
   "metadata": {},
   "outputs": [
    {
     "data": {
      "text/plain": [
       "['[328]',\n",
       " '[4611]',\n",
       " '[4610]',\n",
       " '[4142 4144]',\n",
       " '[328 328]',\n",
       " '[66 58 66 58]',\n",
       " '[56 66 58 63 59 62 61]']"
      ]
     },
     "execution_count": 90,
     "metadata": {},
     "output_type": "execute_result"
    }
   ],
   "source": [
    "sequence_CTA"
   ]
  },
  {
   "cell_type": "code",
   "execution_count": 91,
   "id": "5c0ce999-9dd0-4f62-bd94-f0958e206f6b",
   "metadata": {},
   "outputs": [
    {
     "name": "stdout",
     "output_type": "stream",
     "text": [
      "For sequence_NCTA 1, recommend the following sequence from sequence_CTA: [328]\n",
      "For sequence_NCTA 2, recommend the following sequence from sequence_CTA: [66 58 66 58]\n",
      "For sequence_NCTA 3, recommend the following sequence from sequence_CTA: [4611]\n",
      "For sequence_NCTA 4, recommend the following sequence from sequence_CTA: [66 58 66 58]\n",
      "For sequence_NCTA 5, recommend the following sequence from sequence_CTA: [328]\n",
      "For sequence_NCTA 6, recommend the following sequence from sequence_CTA: [56 66 58 63 59 62 61]\n",
      "For sequence_NCTA 7, recommend the following sequence from sequence_CTA: [328]\n",
      "For sequence_NCTA 8, recommend the following sequence from sequence_CTA: [4142 4144]\n",
      "For sequence_NCTA 9, recommend the following sequence from sequence_CTA: [4142 4144]\n",
      "For sequence_NCTA 10, recommend the following sequence from sequence_CTA: [56 66 58 63 59 62 61]\n",
      "For sequence_NCTA 11, recommend the following sequence from sequence_CTA: [4142 4144]\n",
      "For sequence_NCTA 12, recommend the following sequence from sequence_CTA: [328 328]\n",
      "For sequence_NCTA 13, recommend the following sequence from sequence_CTA: [328]\n",
      "For sequence_NCTA 14, recommend the following sequence from sequence_CTA: [4610]\n",
      "For sequence_NCTA 15, recommend the following sequence from sequence_CTA: [328]\n",
      "For sequence_NCTA 16, recommend the following sequence from sequence_CTA: [328]\n",
      "For sequence_NCTA 17, recommend the following sequence from sequence_CTA: [328]\n",
      "For sequence_NCTA 18, recommend the following sequence from sequence_CTA: [4610]\n",
      "For sequence_NCTA 19, recommend the following sequence from sequence_CTA: [328]\n",
      "For sequence_NCTA 20, recommend the following sequence from sequence_CTA: [328]\n"
     ]
    }
   ],
   "source": [
    "# Initialize a list to store recommendations\n",
    "recommendations = []\n",
    "\n",
    "# Find the index of the sequence in sequence_CTA with the minimum Levenshtein distance for each complete_sequence_data sequence\n",
    "for i in range(num_NCTA_seqs):\n",
    "    min_distance_idx = np.argmin(lev_distances[i])\n",
    "    recommendation = sequence_CTA[min_distance_idx]  # Use sequence_CTA, not sequence_CTA_str\n",
    "    recommendations.append(recommendation)\n",
    "\n",
    "# Print the recommendations\n",
    "for i, recommendation in enumerate(recommendations):\n",
    "    print(f\"For sequence_NCTA {i+1}, recommend the following sequence from sequence_CTA: {recommendation}\")"
   ]
  },
  {
   "cell_type": "raw",
   "id": "711a75cc-d3f1-40a9-a089-f9a0a25820b7",
   "metadata": {},
   "source": [
    "import Levenshtein\n",
    "import numpy as np\n",
    "\n",
    "# Initialize a matrix to store distances\n",
    "num_NCTA_seqs = 10 #len(sequence_all)  # 10\n",
    "num_CTA_seqs =  #len(sequence_CTA_pred)  # 20\n",
    "lev_distances = np.zeros((num_NCTA_seqs, num_CTA_seqs), dtype=int)\n",
    "\n",
    "# Calculate Levenshtein distances\n",
    "for i in range(num_NCTA_seqs):\n",
    "    for j in range(num_CTA_seqs):\n",
    "        # Convert sequences to strings and pad them to the same length\n",
    "        max_len = max(len(sequence_NCTA[i]), len(sequence_CTA_pred[j]))\n",
    "        sequence_NCTA_str = ''.join(map(str, sequence_NCTA[i])).ljust(max_len, '0')\n",
    "        sequence_CTA_str = ''.join(map(str, sequence_CTA_pred[j])).ljust(max_len, '0')\n",
    "        \n",
    "        # Calculate Levenshtein distance\n",
    "        lev_distances[i, j] = Levenshtein.distance(sequence_NCTA_str, sequence_CTA_str)\n",
    "\n",
    "# Print the Levenshtein distances\n",
    "for i in range(num_NCTA_seqs):\n",
    "    for j in range(num_CTA_seqs):\n",
    "        print(f\"Distance between sequence_NCTA {i+1} and sequence_CTA {j+1}: {lev_distances[i, j]}\")"
   ]
  }
 ],
 "metadata": {
  "kernelspec": {
   "display_name": "Python 3",
   "language": "python",
   "name": "python3"
  },
  "language_info": {
   "codemirror_mode": {
    "name": "ipython",
    "version": 3
   },
   "file_extension": ".py",
   "mimetype": "text/x-python",
   "name": "python",
   "nbconvert_exporter": "python",
   "pygments_lexer": "ipython3",
   "version": "3.10.13"
  }
 },
 "nbformat": 4,
 "nbformat_minor": 5
}
